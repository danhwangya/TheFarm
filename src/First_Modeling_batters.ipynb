{
 "cells": [
  {
   "cell_type": "code",
   "execution_count": 5,
   "metadata": {
    "collapsed": false
   },
   "outputs": [],
   "source": [
    "import pandas as pd\n",
    "import numpy as np\n",
    "import re\n",
    "from sklearn.ensemble import RandomForestClassifier, AdaBoostClassifier, GradientBoostingClassifier\n",
    "from sklearn.cross_validation import train_test_split\n",
    "from sklearn.metrics import precision_score, recall_score, roc_auc_score, confusion_matrix, roc_curve\n",
    "from itertools import izip\n",
    "from sklearn.cross_validation import cross_val_score\n",
    "from imblearn.under_sampling import RandomUnderSampler\n",
    "from imblearn.over_sampling import SMOTE\n",
    "import matplotlib.pyplot as plt\n",
    "from sklearn.svm import SVC\n",
    "% matplotlib inline"
   ]
  },
  {
   "cell_type": "markdown",
   "metadata": {},
   "source": [
    "## Load the table"
   ]
  },
  {
   "cell_type": "code",
   "execution_count": 6,
   "metadata": {
    "collapsed": false
   },
   "outputs": [],
   "source": [
    "batters = pd.read_csv('/home/jun/Galvanize/capstone/Galvanize_capstone/Data/Players/batters.csv')"
   ]
  },
  {
   "cell_type": "code",
   "execution_count": 7,
   "metadata": {
    "collapsed": false
   },
   "outputs": [],
   "source": [
    "batters = batters.drop('Unnamed: 0', axis=1)"
   ]
  },
  {
   "cell_type": "markdown",
   "metadata": {},
   "source": [
    "## Let's play with the batters data"
   ]
  },
  {
   "cell_type": "code",
   "execution_count": 8,
   "metadata": {
    "collapsed": false
   },
   "outputs": [
    {
     "data": {
      "text/plain": [
       "Aff_batting          object\n",
       "Fielding_position    object\n",
       "Height               object\n",
       "Lev                  object\n",
       "Lg_batting           object\n",
       "Name                 object\n",
       "Tm                   object\n",
       "dtype: object"
      ]
     },
     "execution_count": 8,
     "metadata": {},
     "output_type": "execute_result"
    }
   ],
   "source": [
    "batters.dtypes[batters.dtypes == object]"
   ]
  },
  {
   "cell_type": "markdown",
   "metadata": {
    "collapsed": true
   },
   "source": [
    "### Height"
   ]
  },
  {
   "cell_type": "code",
   "execution_count": 9,
   "metadata": {
    "collapsed": false
   },
   "outputs": [
    {
     "data": {
      "text/plain": [
       "array(['6\\' 1\"', '6\\' 4\"', '6\\' 3\"', '6\\' 2\"', '5\\' 11\"', '6\\' 0\"',\n",
       "       '5\\' 9\"', nan, '5\\' 10\"', '6\\' 6\"', '5\\' 7\"', '5\\' 8\"', '6\\' 5\"',\n",
       "       '6\\' 7\"', '5\\' 5\"', '6\\' 8\"', '5\\' 6\"', '5\\' 3\"', '6\\' 9\"',\n",
       "       '5\\' 1\"', '5\\' 0\"'], dtype=object)"
      ]
     },
     "execution_count": 9,
     "metadata": {},
     "output_type": "execute_result"
    }
   ],
   "source": [
    "batters.Height.unique()"
   ]
  },
  {
   "cell_type": "code",
   "execution_count": 10,
   "metadata": {
    "collapsed": true
   },
   "outputs": [],
   "source": [
    "def convert_to_meters(height):\n",
    "    try:\n",
    "        h = re.findall(r'\\d', height)\n",
    "        return (int(h[0]) * 12 * 2.54) + (int(h[1]) * 2.54)\n",
    "    except TypeError:\n",
    "        pass"
   ]
  },
  {
   "cell_type": "code",
   "execution_count": 11,
   "metadata": {
    "collapsed": false
   },
   "outputs": [
    {
     "data": {
      "text/plain": [
       "193.04"
      ]
     },
     "execution_count": 11,
     "metadata": {},
     "output_type": "execute_result"
    }
   ],
   "source": [
    "convert_to_meters(batters.Height[5])"
   ]
  },
  {
   "cell_type": "code",
   "execution_count": 12,
   "metadata": {
    "collapsed": false
   },
   "outputs": [],
   "source": [
    "batters.Height = batters.Height.apply(lambda x: convert_to_meters(x))"
   ]
  },
  {
   "cell_type": "code",
   "execution_count": 13,
   "metadata": {
    "collapsed": false
   },
   "outputs": [],
   "source": [
    "batters.Height = batters.Height.fillna(batters.Height.mean())  # filling the rest with its mean"
   ]
  },
  {
   "cell_type": "markdown",
   "metadata": {},
   "source": [
    "### Dropping column 'Fielding_position'"
   ]
  },
  {
   "cell_type": "code",
   "execution_count": 17,
   "metadata": {
    "collapsed": true
   },
   "outputs": [],
   "source": [
    "batters = batters.drop('Fielding_position', axis=1)"
   ]
  },
  {
   "cell_type": "code",
   "execution_count": 18,
   "metadata": {
    "collapsed": false
   },
   "outputs": [
    {
     "data": {
      "text/plain": [
       "Index([u'2B', u'3B', u'A', u'AB', u'Aff_batting', u'AgeDif_batting',\n",
       "       u'Age_batting', u'BA', u'BB_batting', u'Bats_Right', u'Bats_both',\n",
       "       u'Bats_left', u'Bats_unknown', u'CS_batting', u'CS_fielding',\n",
       "       u'CS_perc', u'Catcher', u'Centerfielder', u'Ch', u'DP', u'Designated',\n",
       "       u'Drafted', u'E', u'First', u'Fld_perc', u'G', u'GDP', u'G_batting',\n",
       "       u'HBP_batting', u'HR_batting', u'H_batting', u'Height', u'Hitter',\n",
       "       u'IBB_batting', u'Leftfielder', u'Lev', u'Lg_batting', u'N/A', u'Name',\n",
       "       u'OBP', u'OPS', u'Outfielder', u'PA', u'Pitcher', u'RBI', u'RF/G',\n",
       "       u'R_batting', u'Rightfielder', u'Rookie?', u'SB_batting',\n",
       "       u'SB_fielding', u'SF', u'SH', u'SLG', u'SO_batting', u'Second',\n",
       "       u'Shortstop', u'TB', u'Third', u'Throws_left', u'Throws_right',\n",
       "       u'Throws_unknown', u'Tm', u'Weight', u'Year', u'player_id'],\n",
       "      dtype='object')"
      ]
     },
     "execution_count": 18,
     "metadata": {},
     "output_type": "execute_result"
    }
   ],
   "source": [
    "batters.columns"
   ]
  },
  {
   "cell_type": "markdown",
   "metadata": {
    "collapsed": true
   },
   "source": [
    "### Column 'A' (Assists - defensive stat)"
   ]
  },
  {
   "cell_type": "code",
   "execution_count": 19,
   "metadata": {
    "collapsed": false
   },
   "outputs": [],
   "source": [
    "batters['A'] = batters['A'].fillna(batters['A'].mean())  # filling NaN with mean value"
   ]
  },
  {
   "cell_type": "code",
   "execution_count": 20,
   "metadata": {
    "collapsed": false
   },
   "outputs": [
    {
     "data": {
      "text/html": [
       "<div>\n",
       "<table border=\"1\" class=\"dataframe\">\n",
       "  <thead>\n",
       "    <tr style=\"text-align: right;\">\n",
       "      <th></th>\n",
       "      <th>2B</th>\n",
       "      <th>3B</th>\n",
       "      <th>A</th>\n",
       "      <th>AB</th>\n",
       "      <th>Aff_batting</th>\n",
       "      <th>AgeDif_batting</th>\n",
       "      <th>Age_batting</th>\n",
       "      <th>BA</th>\n",
       "      <th>BB_batting</th>\n",
       "      <th>Bats_Right</th>\n",
       "      <th>...</th>\n",
       "      <th>Shortstop</th>\n",
       "      <th>TB</th>\n",
       "      <th>Third</th>\n",
       "      <th>Throws_left</th>\n",
       "      <th>Throws_right</th>\n",
       "      <th>Throws_unknown</th>\n",
       "      <th>Tm</th>\n",
       "      <th>Weight</th>\n",
       "      <th>Year</th>\n",
       "      <th>player_id</th>\n",
       "    </tr>\n",
       "  </thead>\n",
       "  <tbody>\n",
       "  </tbody>\n",
       "</table>\n",
       "<p>0 rows × 66 columns</p>\n",
       "</div>"
      ],
      "text/plain": [
       "Empty DataFrame\n",
       "Columns: [2B, 3B, A, AB, Aff_batting, AgeDif_batting, Age_batting, BA, BB_batting, Bats_Right, Bats_both, Bats_left, Bats_unknown, CS_batting, CS_fielding, CS_perc, Catcher, Centerfielder, Ch, DP, Designated, Drafted, E, First, Fld_perc, G, GDP, G_batting, HBP_batting, HR_batting, H_batting, Height, Hitter, IBB_batting, Leftfielder, Lev, Lg_batting, N/A, Name, OBP, OPS, Outfielder, PA, Pitcher, RBI, RF/G, R_batting, Rightfielder, Rookie?, SB_batting, SB_fielding, SF, SH, SLG, SO_batting, Second, Shortstop, TB, Third, Throws_left, Throws_right, Throws_unknown, Tm, Weight, Year, player_id]\n",
       "Index: []\n",
       "\n",
       "[0 rows x 66 columns]"
      ]
     },
     "execution_count": 20,
     "metadata": {},
     "output_type": "execute_result"
    }
   ],
   "source": [
    "batters[batters['A'].isnull()]  # checking"
   ]
  },
  {
   "cell_type": "markdown",
   "metadata": {},
   "source": [
    "-----"
   ]
  },
  {
   "cell_type": "markdown",
   "metadata": {},
   "source": [
    "### Dropping few rows and columns"
   ]
  },
  {
   "cell_type": "code",
   "execution_count": 21,
   "metadata": {
    "collapsed": true
   },
   "outputs": [],
   "source": [
    "batters = batters.drop('N/A', axis=1) # dropping 'N/A' column, which means the position is N/A"
   ]
  },
  {
   "cell_type": "code",
   "execution_count": 22,
   "metadata": {
    "collapsed": false
   },
   "outputs": [
    {
     "data": {
      "text/plain": [
       "Index([u'2B', u'3B', u'A', u'AB', u'Aff_batting', u'AgeDif_batting',\n",
       "       u'Age_batting', u'BA', u'BB_batting', u'Bats_Right', u'Bats_both',\n",
       "       u'Bats_left', u'Bats_unknown', u'CS_batting', u'CS_fielding',\n",
       "       u'CS_perc', u'Catcher', u'Centerfielder', u'Ch', u'DP', u'Designated',\n",
       "       u'Drafted', u'E', u'First', u'Fld_perc', u'G', u'GDP', u'G_batting',\n",
       "       u'HBP_batting', u'HR_batting', u'H_batting', u'Height', u'Hitter',\n",
       "       u'IBB_batting', u'Leftfielder', u'Lev', u'Lg_batting', u'Name', u'OBP',\n",
       "       u'OPS', u'Outfielder', u'PA', u'Pitcher', u'RBI', u'RF/G', u'R_batting',\n",
       "       u'Rightfielder', u'Rookie?', u'SB_batting', u'SB_fielding', u'SF',\n",
       "       u'SH', u'SLG', u'SO_batting', u'Second', u'Shortstop', u'TB', u'Third',\n",
       "       u'Throws_left', u'Throws_right', u'Throws_unknown', u'Tm', u'Weight',\n",
       "       u'Year', u'player_id'],\n",
       "      dtype='object')"
      ]
     },
     "execution_count": 22,
     "metadata": {},
     "output_type": "execute_result"
    }
   ],
   "source": [
    "batters.columns"
   ]
  },
  {
   "cell_type": "code",
   "execution_count": 84,
   "metadata": {
    "collapsed": false
   },
   "outputs": [],
   "source": [
    "batters = batters[batters['Bats_unknown'] == 0]  # Dropping rows of players whose 'Bats_unknown' column is 'Yes'"
   ]
  },
  {
   "cell_type": "code",
   "execution_count": 85,
   "metadata": {
    "collapsed": false
   },
   "outputs": [],
   "source": [
    "batters = batters.drop(['Bats_unknown', 'Pitcher', 'Hitter', 'Throws_right', 'Throws_left',\n",
    "                        'Throws_unknown', 'H_batting', 'E', 'SB_fielding'\n",
    "                       ], axis=1 )"
   ]
  },
  {
   "cell_type": "code",
   "execution_count": 86,
   "metadata": {
    "collapsed": false
   },
   "outputs": [],
   "source": [
    "batters = batters[batters['AB'] != 0]  # filtering out 'batters' with zero AB"
   ]
  },
  {
   "cell_type": "markdown",
   "metadata": {},
   "source": [
    "### Converting CS_batting (CS = Cut-stealing) into percentage"
   ]
  },
  {
   "cell_type": "code",
   "execution_count": 87,
   "metadata": {
    "collapsed": true
   },
   "outputs": [],
   "source": [
    "batters['CS_perc_batting'] = batters['CS_batting'] / (batters['CS_batting'] + batters['SB_batting'])"
   ]
  },
  {
   "cell_type": "code",
   "execution_count": 88,
   "metadata": {
    "collapsed": true
   },
   "outputs": [],
   "source": [
    "batters = batters.drop('CS_batting', axis=1)"
   ]
  },
  {
   "cell_type": "code",
   "execution_count": 89,
   "metadata": {
    "collapsed": true
   },
   "outputs": [],
   "source": [
    "batters = batters.drop('CS_fielding', axis=1)"
   ]
  },
  {
   "cell_type": "code",
   "execution_count": 90,
   "metadata": {
    "collapsed": false
   },
   "outputs": [],
   "source": [
    "batters = batters.rename(columns = {'CS_perc': 'CS_perc_fielding'})"
   ]
  },
  {
   "cell_type": "markdown",
   "metadata": {},
   "source": [
    "### Creating a new column for Unintentional Base on Balls by BB - IBB(Intentional BB)"
   ]
  },
  {
   "cell_type": "code",
   "execution_count": 95,
   "metadata": {
    "collapsed": true
   },
   "outputs": [],
   "source": [
    "batters['uBB_batting'] = batters['BB_batting'] - batters['IBB_batting']"
   ]
  },
  {
   "cell_type": "code",
   "execution_count": 96,
   "metadata": {
    "collapsed": true
   },
   "outputs": [],
   "source": [
    "batters = batters.drop('BB_batting', axis=1)"
   ]
  },
  {
   "cell_type": "markdown",
   "metadata": {},
   "source": [
    "## Converting stats as average per AB (At-bats) or total number of AB + other on-base stats such as HBP (Hit by pitch) and SF (Sacrifice fly) that do not count in AB"
   ]
  },
  {
   "cell_type": "code",
   "execution_count": 97,
   "metadata": {
    "collapsed": false
   },
   "outputs": [],
   "source": [
    "batters[['SB_batting', 'SF', 'SH', 'TB']] =\\\n",
    "    batters[['SB_batting', 'SF', 'SH', 'TB']].apply(\n",
    "        lambda x: x / (batters['AB'] + (batters[[\n",
    "                        'HBP_batting', 'uBB_batting', 'IBB_batting', 'SF', 'SH']].sum(axis=1))))"
   ]
  },
  {
   "cell_type": "code",
   "execution_count": 98,
   "metadata": {
    "collapsed": false
   },
   "outputs": [],
   "source": [
    "batters[['2B', '3B', 'HR_batting', 'R_batting', 'RBI', 'GDP', 'SO_batting']] = \\\n",
    "    batters[['2B', '3B', 'HR_batting', 'R_batting', 'RBI', 'GDP', 'SO_batting']].apply(\n",
    "        lambda x: x / (batters['AB'] + 1))  \n",
    "# for AB; dividing everything by AB + 1; adding 1 to prevent division by 0"
   ]
  },
  {
   "cell_type": "markdown",
   "metadata": {},
   "source": [
    "### Converting the rest as average per games"
   ]
  },
  {
   "cell_type": "code",
   "execution_count": 99,
   "metadata": {
    "collapsed": false
   },
   "outputs": [],
   "source": [
    "batters[['Ch', 'DP', 'A']] = batters[['Ch', 'DP', 'A']].apply(lambda x: x / (batters['G'] + 1))"
   ]
  },
  {
   "cell_type": "markdown",
   "metadata": {},
   "source": [
    "------"
   ]
  },
  {
   "cell_type": "code",
   "execution_count": 100,
   "metadata": {
    "collapsed": false
   },
   "outputs": [
    {
     "data": {
      "text/html": [
       "<div>\n",
       "<table border=\"1\" class=\"dataframe\">\n",
       "  <thead>\n",
       "    <tr style=\"text-align: right;\">\n",
       "      <th></th>\n",
       "      <th>2B</th>\n",
       "      <th>3B</th>\n",
       "      <th>A</th>\n",
       "      <th>AB</th>\n",
       "      <th>Aff_batting</th>\n",
       "      <th>AgeDif_batting</th>\n",
       "      <th>Age_batting</th>\n",
       "      <th>BA</th>\n",
       "      <th>Bats_Right</th>\n",
       "      <th>Bats_both</th>\n",
       "      <th>...</th>\n",
       "      <th>Second</th>\n",
       "      <th>Shortstop</th>\n",
       "      <th>TB</th>\n",
       "      <th>Third</th>\n",
       "      <th>Tm</th>\n",
       "      <th>Weight</th>\n",
       "      <th>Year</th>\n",
       "      <th>player_id</th>\n",
       "      <th>CS_perc_batting</th>\n",
       "      <th>uBB_batting</th>\n",
       "    </tr>\n",
       "  </thead>\n",
       "  <tbody>\n",
       "    <tr>\n",
       "      <th>26639</th>\n",
       "      <td>0.000118</td>\n",
       "      <td>0.0</td>\n",
       "      <td>0.000694</td>\n",
       "      <td>441.0</td>\n",
       "      <td>SDP</td>\n",
       "      <td>0.2</td>\n",
       "      <td>27.0</td>\n",
       "      <td>0.293</td>\n",
       "      <td>0.0</td>\n",
       "      <td>0.0</td>\n",
       "      <td>...</td>\n",
       "      <td>0.0</td>\n",
       "      <td>0.0</td>\n",
       "      <td>0.409475</td>\n",
       "      <td>0.0</td>\n",
       "      <td>Portland</td>\n",
       "      <td>250.0</td>\n",
       "      <td>2006</td>\n",
       "      <td>7915</td>\n",
       "      <td>1.0</td>\n",
       "      <td>143.0</td>\n",
       "    </tr>\n",
       "  </tbody>\n",
       "</table>\n",
       "<p>1 rows × 55 columns</p>\n",
       "</div>"
      ],
      "text/plain": [
       "             2B   3B         A     AB Aff_batting  AgeDif_batting  \\\n",
       "26639  0.000118  0.0  0.000694  441.0         SDP             0.2   \n",
       "\n",
       "       Age_batting     BA  Bats_Right  Bats_both     ...       Second  \\\n",
       "26639         27.0  0.293         0.0        0.0     ...          0.0   \n",
       "\n",
       "       Shortstop        TB  Third        Tm  Weight  Year  player_id  \\\n",
       "26639        0.0  0.409475    0.0  Portland   250.0  2006       7915   \n",
       "\n",
       "       CS_perc_batting  uBB_batting  \n",
       "26639              1.0        143.0  \n",
       "\n",
       "[1 rows x 55 columns]"
      ]
     },
     "execution_count": 100,
     "metadata": {},
     "output_type": "execute_result"
    }
   ],
   "source": [
    "batters.loc[batters.uBB_batting == batters.uBB_batting.max()]"
   ]
  },
  {
   "cell_type": "code",
   "execution_count": 101,
   "metadata": {
    "collapsed": false
   },
   "outputs": [
    {
     "data": {
      "text/plain": [
       "(123536, 55)"
      ]
     },
     "execution_count": 101,
     "metadata": {},
     "output_type": "execute_result"
    }
   ],
   "source": [
    "batters.shape"
   ]
  },
  {
   "cell_type": "code",
   "execution_count": 102,
   "metadata": {
    "collapsed": false
   },
   "outputs": [
    {
     "data": {
      "text/plain": [
       "0    122232\n",
       "1      1304\n",
       "Name: Rookie?, dtype: int64"
      ]
     },
     "execution_count": 102,
     "metadata": {},
     "output_type": "execute_result"
    }
   ],
   "source": [
    "batters['Rookie?'].value_counts()"
   ]
  },
  {
   "cell_type": "markdown",
   "metadata": {},
   "source": [
    "# Dropping league levels other than FRk, Rk, A-, A, Ind, A+, AA, AAA"
   ]
  },
  {
   "cell_type": "code",
   "execution_count": 104,
   "metadata": {
    "collapsed": false
   },
   "outputs": [
    {
     "data": {
      "text/plain": [
       "AAA    20443\n",
       "Rk     18157\n",
       "A+     15414\n",
       "AA     15050\n",
       "A      14128\n",
       "Ind    11946\n",
       "A-      9273\n",
       "FRk     7647\n",
       "FgW     6337\n",
       "Fgn     2470\n",
       "MLB     1265\n",
       "Fal     1210\n",
       "WRk      196\n",
       "Name: Lev, dtype: int64"
      ]
     },
     "execution_count": 104,
     "metadata": {},
     "output_type": "execute_result"
    }
   ],
   "source": [
    "batters.Lev.value_counts() # Is it safe to drop?"
   ]
  },
  {
   "cell_type": "code",
   "execution_count": 105,
   "metadata": {
    "collapsed": true
   },
   "outputs": [],
   "source": [
    "Lv_kept = ['FRk', 'Rk', 'A-', 'A', 'Ind', 'A+', 'AA', 'AAA']\n",
    "Lv_drop = ['WRk', 'MLB', 'FgW', 'Fal', 'Fgn'] "
   ]
  },
  {
   "cell_type": "code",
   "execution_count": 106,
   "metadata": {
    "collapsed": true
   },
   "outputs": [],
   "source": [
    "batters.index = range(batters.shape[0]) # resetting the index by order"
   ]
  },
  {
   "cell_type": "code",
   "execution_count": 107,
   "metadata": {
    "collapsed": false
   },
   "outputs": [],
   "source": [
    "Lv_kept_dict = {}\n",
    "for ix, lv in enumerate(Lv_kept):\n",
    "    Lv_kept_dict[lv] = ix"
   ]
  },
  {
   "cell_type": "code",
   "execution_count": 108,
   "metadata": {
    "collapsed": true
   },
   "outputs": [],
   "source": [
    "test = batters.copy() # saving a copy"
   ]
  },
  {
   "cell_type": "code",
   "execution_count": 109,
   "metadata": {
    "collapsed": false
   },
   "outputs": [],
   "source": [
    "idx_tbd = []\n",
    "for idx, elem in enumerate(test.Lev):\n",
    "    if elem in Lv_drop:\n",
    "        idx_tbd.append(idx)\n",
    "    else:\n",
    "        test.set_value(idx, 'Lev', Lv_kept_dict[elem])"
   ]
  },
  {
   "cell_type": "code",
   "execution_count": 110,
   "metadata": {
    "collapsed": false
   },
   "outputs": [],
   "source": [
    "test = test.drop(test.index[idx_tbd])"
   ]
  },
  {
   "cell_type": "code",
   "execution_count": 111,
   "metadata": {
    "collapsed": false
   },
   "outputs": [
    {
     "data": {
      "text/plain": [
       "(112058, 55)"
      ]
     },
     "execution_count": 111,
     "metadata": {},
     "output_type": "execute_result"
    }
   ],
   "source": [
    "test.shape"
   ]
  },
  {
   "cell_type": "markdown",
   "metadata": {},
   "source": [
    "---"
   ]
  },
  {
   "cell_type": "markdown",
   "metadata": {},
   "source": [
    "### Testing by keeping only the last row of the duplicated ones, and add a new col 'Prev_lev'"
   ]
  },
  {
   "cell_type": "code",
   "execution_count": 238,
   "metadata": {
    "collapsed": false
   },
   "outputs": [],
   "source": [
    "duplicated_rows = test[test.duplicated(['player_id', 'Year'], keep=False)][['player_id', 'Year', 'Lev', 'AB', 'G']]"
   ]
  },
  {
   "cell_type": "code",
   "execution_count": 239,
   "metadata": {
    "collapsed": false
   },
   "outputs": [],
   "source": [
    "prev_idx_set = duplicated_rows.groupby(['player_id', 'Year']).groups  # idx for each duplicated set"
   ]
  },
  {
   "cell_type": "code",
   "execution_count": 240,
   "metadata": {
    "collapsed": false
   },
   "outputs": [],
   "source": [
    "test.insert(1, 'Pre_lev', test.Lev)"
   ]
  },
  {
   "cell_type": "code",
   "execution_count": 241,
   "metadata": {
    "collapsed": false
   },
   "outputs": [],
   "source": [
    "for values in prev_idx_set.values():\n",
    "    test = test.set_value(values[-1], 'Pre_lev', test.ix[values[-2]].Lev)"
   ]
  },
  {
   "cell_type": "code",
   "execution_count": 242,
   "metadata": {
    "collapsed": false
   },
   "outputs": [],
   "source": [
    "test = test.drop_duplicates(['player_id', 'Year'], keep='last')"
   ]
  },
  {
   "cell_type": "code",
   "execution_count": 243,
   "metadata": {
    "collapsed": false
   },
   "outputs": [],
   "source": [
    "test[['Lev', 'Pre_lev']] = test[['Lev', 'Pre_lev']].apply(lambda x: pd.to_numeric(x))"
   ]
  },
  {
   "cell_type": "code",
   "execution_count": null,
   "metadata": {
    "collapsed": true
   },
   "outputs": [],
   "source": []
  },
  {
   "cell_type": "code",
   "execution_count": 112,
   "metadata": {
    "collapsed": true
   },
   "outputs": [],
   "source": [
    "test = test[test.A.notnull()]"
   ]
  },
  {
   "cell_type": "code",
   "execution_count": 113,
   "metadata": {
    "collapsed": true
   },
   "outputs": [],
   "source": [
    "test.Weight = test.Weight.fillna(test.Weight.mean())"
   ]
  },
  {
   "cell_type": "code",
   "execution_count": 114,
   "metadata": {
    "collapsed": true
   },
   "outputs": [],
   "source": [
    "test.CS_perc_batting = test.CS_perc_batting.fillna(-1)"
   ]
  },
  {
   "cell_type": "code",
   "execution_count": 118,
   "metadata": {
    "collapsed": true
   },
   "outputs": [],
   "source": [
    "test = test.drop(['Bats_both', 'Designated'], axis=1)"
   ]
  },
  {
   "cell_type": "code",
   "execution_count": 120,
   "metadata": {
    "collapsed": false
   },
   "outputs": [],
   "source": [
    "test.Drafted = test.Drafted.apply(lambda x: 100 if x==0 else x)"
   ]
  },
  {
   "cell_type": "code",
   "execution_count": 124,
   "metadata": {
    "collapsed": false
   },
   "outputs": [],
   "source": [
    "test = test.drop(['2B', '3B', 'A', 'DP', 'G', 'HBP_batting', 'IBB_batting', 'SF', 'SH', 'uBB_batting'], axis=1)"
   ]
  },
  {
   "cell_type": "code",
   "execution_count": 125,
   "metadata": {
    "collapsed": false
   },
   "outputs": [],
   "source": [
    "test.to_csv('X_batting.csv')"
   ]
  },
  {
   "cell_type": "code",
   "execution_count": 115,
   "metadata": {
    "collapsed": false
   },
   "outputs": [
    {
     "data": {
      "text/plain": [
       "(110681, 55)"
      ]
     },
     "execution_count": 115,
     "metadata": {},
     "output_type": "execute_result"
    }
   ],
   "source": [
    "test.shape"
   ]
  },
  {
   "cell_type": "markdown",
   "metadata": {},
   "source": [
    "----"
   ]
  },
  {
   "cell_type": "code",
   "execution_count": 257,
   "metadata": {
    "collapsed": false
   },
   "outputs": [
    {
     "data": {
      "text/plain": [
       "37628.0"
      ]
     },
     "execution_count": 257,
     "metadata": {},
     "output_type": "execute_result"
    }
   ],
   "source": [
    "test.ix[123129]['player_id']"
   ]
  },
  {
   "cell_type": "code",
   "execution_count": 127,
   "metadata": {
    "collapsed": true
   },
   "outputs": [],
   "source": [
    "X = test.copy()"
   ]
  },
  {
   "cell_type": "code",
   "execution_count": 128,
   "metadata": {
    "collapsed": true
   },
   "outputs": [],
   "source": [
    "y = X.pop('Rookie?')"
   ]
  },
  {
   "cell_type": "code",
   "execution_count": 129,
   "metadata": {
    "collapsed": true
   },
   "outputs": [],
   "source": [
    "X = X.loc[:, X.dtypes!=object]"
   ]
  },
  {
   "cell_type": "code",
   "execution_count": 130,
   "metadata": {
    "collapsed": false
   },
   "outputs": [],
   "source": [
    "X = X.drop(['player_id', 'Year'], axis=1)"
   ]
  },
  {
   "cell_type": "code",
   "execution_count": 134,
   "metadata": {
    "collapsed": false
   },
   "outputs": [
    {
     "data": {
      "text/plain": [
       "0    109631\n",
       "1      1050\n",
       "Name: Rookie?, dtype: int64"
      ]
     },
     "execution_count": 134,
     "metadata": {},
     "output_type": "execute_result"
    }
   ],
   "source": [
    "y.value_counts()"
   ]
  },
  {
   "cell_type": "code",
   "execution_count": 147,
   "metadata": {
    "collapsed": true
   },
   "outputs": [],
   "source": [
    "labels = test['Rookie?'].apply(lambda x: 'Yes' if x == 1 else 'No')"
   ]
  },
  {
   "cell_type": "code",
   "execution_count": null,
   "metadata": {
    "collapsed": true
   },
   "outputs": [],
   "source": []
  },
  {
   "cell_type": "code",
   "execution_count": 135,
   "metadata": {
    "collapsed": true
   },
   "outputs": [],
   "source": [
    "X_train, X_test, y_train, y_test = train_test_split(X, y)"
   ]
  },
  {
   "cell_type": "code",
   "execution_count": 136,
   "metadata": {
    "collapsed": true
   },
   "outputs": [],
   "source": [
    "model_RF = RandomForestClassifier()\n",
    "model_GB = GradientBoostingClassifier()\n",
    "model_AB = AdaBoostClassifier()"
   ]
  },
  {
   "cell_type": "code",
   "execution_count": 137,
   "metadata": {
    "collapsed": false
   },
   "outputs": [
    {
     "data": {
      "text/plain": [
       "AdaBoostClassifier(algorithm='SAMME.R', base_estimator=None,\n",
       "          learning_rate=1.0, n_estimators=50, random_state=None)"
      ]
     },
     "execution_count": 137,
     "metadata": {},
     "output_type": "execute_result"
    }
   ],
   "source": [
    "model_RF.fit(X_train, y_train)\n",
    "model_GB.fit(X_train, y_train)\n",
    "model_AB.fit(X_train, y_train)"
   ]
  },
  {
   "cell_type": "code",
   "execution_count": 138,
   "metadata": {
    "collapsed": false
   },
   "outputs": [
    {
     "name": "stdout",
     "output_type": "stream",
     "text": [
      "0.989953380796\n",
      "0.989483574862\n",
      "0.98988110296\n"
     ]
    }
   ],
   "source": [
    "print model_RF.score(X_test, y_test)\n",
    "print model_GB.score(X_test, y_test)\n",
    "print model_AB.score(X_test, y_test)"
   ]
  },
  {
   "cell_type": "code",
   "execution_count": 139,
   "metadata": {
    "collapsed": true
   },
   "outputs": [],
   "source": [
    "y_RF = model_RF.predict(X_test)\n",
    "y_GB = model_GB.predict(X_test)\n",
    "y_AB = model_AB.predict(X_test)"
   ]
  },
  {
   "cell_type": "code",
   "execution_count": 140,
   "metadata": {
    "collapsed": false
   },
   "outputs": [
    {
     "name": "stdout",
     "output_type": "stream",
     "text": [
      "0.8\n",
      "0.0833333333333\n",
      "1.0\n"
     ]
    }
   ],
   "source": [
    "print precision_score(y_test, y_RF)\n",
    "print precision_score(y_test, y_GB)\n",
    "print precision_score(y_test, y_AB)"
   ]
  },
  {
   "cell_type": "code",
   "execution_count": 141,
   "metadata": {
    "collapsed": false
   },
   "outputs": [
    {
     "name": "stdout",
     "output_type": "stream",
     "text": [
      "0.0142348754448\n",
      "0.00355871886121\n",
      "0.00355871886121\n"
     ]
    }
   ],
   "source": [
    "print recall_score(y_test, y_RF)\n",
    "print recall_score(y_test, y_GB)\n",
    "print recall_score(y_test, y_AB)"
   ]
  },
  {
   "cell_type": "code",
   "execution_count": 142,
   "metadata": {
    "collapsed": false
   },
   "outputs": [
    {
     "name": "stdout",
     "output_type": "stream",
     "text": [
      "0.507099182885\n",
      "0.501578556218\n",
      "0.501779359431\n"
     ]
    }
   ],
   "source": [
    "print roc_auc_score(y_test, y_RF)\n",
    "print roc_auc_score(y_test, y_GB)\n",
    "print roc_auc_score(y_test, y_AB)"
   ]
  },
  {
   "cell_type": "code",
   "execution_count": 143,
   "metadata": {
    "collapsed": false
   },
   "outputs": [
    {
     "data": {
      "text/plain": [
       "array([[27389,     1],\n",
       "       [  277,     4]])"
      ]
     },
     "execution_count": 143,
     "metadata": {},
     "output_type": "execute_result"
    }
   ],
   "source": [
    "confusion_matrix(y_test, y_RF)"
   ]
  },
  {
   "cell_type": "code",
   "execution_count": 144,
   "metadata": {
    "collapsed": false
   },
   "outputs": [
    {
     "data": {
      "text/plain": [
       "array([[27379,    11],\n",
       "       [  280,     1]])"
      ]
     },
     "execution_count": 144,
     "metadata": {},
     "output_type": "execute_result"
    }
   ],
   "source": [
    "confusion_matrix(y_test, y_GB)"
   ]
  },
  {
   "cell_type": "code",
   "execution_count": 145,
   "metadata": {
    "collapsed": false
   },
   "outputs": [
    {
     "data": {
      "text/plain": [
       "array([[27390,     0],\n",
       "       [  280,     1]])"
      ]
     },
     "execution_count": 145,
     "metadata": {},
     "output_type": "execute_result"
    }
   ],
   "source": [
    "confusion_matrix(y_test, y_AB)"
   ]
  },
  {
   "cell_type": "code",
   "execution_count": 743,
   "metadata": {
    "collapsed": true
   },
   "outputs": [],
   "source": [
    "y_RF_p = model_RF.predict_proba(X_test)\n",
    "y_GB_p = model_GB.predict_proba(X_test)\n",
    "y_AB_p = model_AB.predict_proba(X_test)"
   ]
  },
  {
   "cell_type": "code",
   "execution_count": 758,
   "metadata": {
    "collapsed": false
   },
   "outputs": [
    {
     "data": {
      "text/plain": [
       "Int64Index([ 84339,  67595, 119683,  62615,  90634,  74336,  93740,  86395,\n",
       "             85426,  94163,\n",
       "            ...\n",
       "            109529,  36713,  75094,  81684,  90220, 109133,  61563, 105723,\n",
       "            117355,  68347],\n",
       "           dtype='int64', length=167)"
      ]
     },
     "execution_count": 758,
     "metadata": {},
     "output_type": "execute_result"
    }
   ],
   "source": [
    "y_test[y_test == 1].index"
   ]
  },
  {
   "cell_type": "code",
   "execution_count": null,
   "metadata": {
    "collapsed": true
   },
   "outputs": [],
   "source": []
  },
  {
   "cell_type": "code",
   "execution_count": 79,
   "metadata": {
    "collapsed": false
   },
   "outputs": [
    {
     "data": {
      "text/plain": [
       "0    84463\n",
       "1      706\n",
       "Name: Rookie?, dtype: int64"
      ]
     },
     "execution_count": 79,
     "metadata": {},
     "output_type": "execute_result"
    }
   ],
   "source": [
    "y.value_counts()"
   ]
  },
  {
   "cell_type": "code",
   "execution_count": 80,
   "metadata": {
    "collapsed": false
   },
   "outputs": [
    {
     "data": {
      "text/plain": [
       "120.63597733711048"
      ]
     },
     "execution_count": 80,
     "metadata": {},
     "output_type": "execute_result"
    }
   ],
   "source": [
    "1 / (706./(84463+706))"
   ]
  },
  {
   "cell_type": "code",
   "execution_count": 130,
   "metadata": {
    "collapsed": true
   },
   "outputs": [],
   "source": [
    "sample_weight = np.array([120 if i == 1 else 1 for i in y_train])"
   ]
  },
  {
   "cell_type": "code",
   "execution_count": 149,
   "metadata": {
    "collapsed": true
   },
   "outputs": [],
   "source": [
    "model_RF = RandomForestClassifier(n_estimators=50, n_jobs=4, class_weight='balanced')"
   ]
  },
  {
   "cell_type": "code",
   "execution_count": 150,
   "metadata": {
    "collapsed": false
   },
   "outputs": [
    {
     "data": {
      "text/plain": [
       "RandomForestClassifier(bootstrap=True, class_weight='balanced',\n",
       "            criterion='gini', max_depth=None, max_features='auto',\n",
       "            max_leaf_nodes=None, min_samples_leaf=1, min_samples_split=2,\n",
       "            min_weight_fraction_leaf=0.0, n_estimators=50, n_jobs=4,\n",
       "            oob_score=False, random_state=None, verbose=0,\n",
       "            warm_start=False)"
      ]
     },
     "execution_count": 150,
     "metadata": {},
     "output_type": "execute_result"
    }
   ],
   "source": [
    "model_RF.fit(X_train, y_train)"
   ]
  },
  {
   "cell_type": "code",
   "execution_count": 151,
   "metadata": {
    "collapsed": false
   },
   "outputs": [
    {
     "data": {
      "text/plain": [
       "0.99154651763490353"
      ]
     },
     "execution_count": 151,
     "metadata": {},
     "output_type": "execute_result"
    }
   ],
   "source": [
    "model_RF.score(X_test, y_test)"
   ]
  },
  {
   "cell_type": "code",
   "execution_count": 787,
   "metadata": {
    "collapsed": false
   },
   "outputs": [],
   "source": [
    "scores = cross_val_score(model_RF, X_train, y_train, fit_params={'sample_weight': sample_weight}, cv=10, scoring='accuracy', n_jobs=4)"
   ]
  },
  {
   "cell_type": "code",
   "execution_count": 788,
   "metadata": {
    "collapsed": false
   },
   "outputs": [
    {
     "data": {
      "text/plain": [
       "array([ 0.99154665,  0.99154665,  0.99154665,  0.99154665,  0.99139011,\n",
       "        0.99154665,  0.99139011,  0.99154533,  0.99154533,  0.9917006 ])"
      ]
     },
     "execution_count": 788,
     "metadata": {},
     "output_type": "execute_result"
    }
   ],
   "source": [
    "scores"
   ]
  },
  {
   "cell_type": "code",
   "execution_count": 152,
   "metadata": {
    "collapsed": false
   },
   "outputs": [],
   "source": [
    "y_pred = model_RF.predict(X_test)"
   ]
  },
  {
   "cell_type": "code",
   "execution_count": 153,
   "metadata": {
    "collapsed": false
   },
   "outputs": [
    {
     "data": {
      "text/plain": [
       "0.0"
      ]
     },
     "execution_count": 153,
     "metadata": {},
     "output_type": "execute_result"
    }
   ],
   "source": [
    "precision_score(y_test, y_pred)"
   ]
  },
  {
   "cell_type": "code",
   "execution_count": 154,
   "metadata": {
    "collapsed": false
   },
   "outputs": [
    {
     "data": {
      "text/plain": [
       "0.0"
      ]
     },
     "execution_count": 154,
     "metadata": {},
     "output_type": "execute_result"
    }
   ],
   "source": [
    "recall_score(y_test, y_pred)"
   ]
  },
  {
   "cell_type": "code",
   "execution_count": 156,
   "metadata": {
    "collapsed": false
   },
   "outputs": [
    {
     "data": {
      "text/plain": [
       "array([[21113,     0],\n",
       "       [  180,     0]])"
      ]
     },
     "execution_count": 156,
     "metadata": {},
     "output_type": "execute_result"
    }
   ],
   "source": [
    "confusion_matrix(y_test, y_pred)"
   ]
  },
  {
   "cell_type": "code",
   "execution_count": 155,
   "metadata": {
    "collapsed": false
   },
   "outputs": [
    {
     "data": {
      "text/plain": [
       "0    21113\n",
       "1      180\n",
       "Name: Rookie?, dtype: int64"
      ]
     },
     "execution_count": 155,
     "metadata": {},
     "output_type": "execute_result"
    }
   ],
   "source": [
    "y_test.value_counts()"
   ]
  },
  {
   "cell_type": "markdown",
   "metadata": {},
   "source": [
    "## Trying some under-sampling..."
   ]
  },
  {
   "cell_type": "code",
   "execution_count": 255,
   "metadata": {
    "collapsed": true
   },
   "outputs": [],
   "source": [
    "RandomUnderSampler??"
   ]
  },
  {
   "cell_type": "code",
   "execution_count": 289,
   "metadata": {
    "collapsed": false
   },
   "outputs": [],
   "source": [
    "rus = RandomUnderSampler(0.1)\n",
    "X_resampled, y_resampled = rus.fit_sample(X_train, y_train)"
   ]
  },
  {
   "cell_type": "code",
   "execution_count": 290,
   "metadata": {
    "collapsed": false
   },
   "outputs": [],
   "source": [
    "model_RF = RandomForestClassifier(n_estimators=100, n_jobs=4)"
   ]
  },
  {
   "cell_type": "code",
   "execution_count": 291,
   "metadata": {
    "collapsed": false
   },
   "outputs": [
    {
     "data": {
      "text/plain": [
       "RandomForestClassifier(bootstrap=True, class_weight=None, criterion='gini',\n",
       "            max_depth=None, max_features='auto', max_leaf_nodes=None,\n",
       "            min_samples_leaf=1, min_samples_split=2,\n",
       "            min_weight_fraction_leaf=0.0, n_estimators=100, n_jobs=4,\n",
       "            oob_score=False, random_state=None, verbose=0,\n",
       "            warm_start=False)"
      ]
     },
     "execution_count": 291,
     "metadata": {},
     "output_type": "execute_result"
    }
   ],
   "source": [
    "model_RF.fit(X_resampled, y_resampled)"
   ]
  },
  {
   "cell_type": "code",
   "execution_count": 292,
   "metadata": {
    "collapsed": false
   },
   "outputs": [
    {
     "data": {
      "text/plain": [
       "0.98940998487140697"
      ]
     },
     "execution_count": 292,
     "metadata": {},
     "output_type": "execute_result"
    }
   ],
   "source": [
    "model_RF.score(X_test, y_test)"
   ]
  },
  {
   "cell_type": "code",
   "execution_count": 293,
   "metadata": {
    "collapsed": false
   },
   "outputs": [],
   "source": [
    "y_pred = model_RF.predict(X_test)"
   ]
  },
  {
   "cell_type": "code",
   "execution_count": 294,
   "metadata": {
    "collapsed": false
   },
   "outputs": [
    {
     "name": "stdout",
     "output_type": "stream",
     "text": [
      "0.135802469136\n",
      "0.0666666666667\n"
     ]
    }
   ],
   "source": [
    "print precision_score(y_test, y_pred)\n",
    "print recall_score(y_test, y_pred)"
   ]
  },
  {
   "cell_type": "code",
   "execution_count": 295,
   "metadata": {
    "collapsed": false
   },
   "outputs": [
    {
     "data": {
      "text/plain": [
       "0.53166563428153935"
      ]
     },
     "execution_count": 295,
     "metadata": {},
     "output_type": "execute_result"
    }
   ],
   "source": [
    "roc_auc_score(y_test, y_pred)"
   ]
  },
  {
   "cell_type": "code",
   "execution_count": 272,
   "metadata": {
    "collapsed": false
   },
   "outputs": [
    {
     "data": {
      "text/plain": [
       "(array([ 0.        ,  0.22666413,  1.        ]),\n",
       " array([ 0.        ,  0.73333333,  1.        ]),\n",
       " array([2, 1, 0]))"
      ]
     },
     "execution_count": 272,
     "metadata": {},
     "output_type": "execute_result"
    }
   ],
   "source": [
    "roc_curve(y_test, y_pred)"
   ]
  },
  {
   "cell_type": "code",
   "execution_count": 273,
   "metadata": {
    "collapsed": false
   },
   "outputs": [
    {
     "data": {
      "text/plain": [
       "array([[16230,  4757],\n",
       "       [   44,   121]])"
      ]
     },
     "execution_count": 273,
     "metadata": {},
     "output_type": "execute_result"
    }
   ],
   "source": [
    "confusion_matrix(y_test, y_pred)"
   ]
  },
  {
   "cell_type": "code",
   "execution_count": 296,
   "metadata": {
    "collapsed": true
   },
   "outputs": [],
   "source": [
    "y_proba = model_RF.predict_proba(X_test)"
   ]
  },
  {
   "cell_type": "code",
   "execution_count": 303,
   "metadata": {
    "collapsed": false
   },
   "outputs": [
    {
     "data": {
      "text/plain": [
       "array([[ 0.99,  0.01],\n",
       "       [ 0.93,  0.07],\n",
       "       [ 0.78,  0.22],\n",
       "       ..., \n",
       "       [ 0.66,  0.34],\n",
       "       [ 0.87,  0.13],\n",
       "       [ 0.93,  0.07]])"
      ]
     },
     "execution_count": 303,
     "metadata": {},
     "output_type": "execute_result"
    }
   ],
   "source": [
    "y_proba"
   ]
  },
  {
   "cell_type": "code",
   "execution_count": 307,
   "metadata": {
    "collapsed": false
   },
   "outputs": [
    {
     "name": "stderr",
     "output_type": "stream",
     "text": [
      "/home/jun/anaconda2/lib/python2.7/site-packages/ipykernel/__main__.py:1: FutureWarning: in the future, boolean array-likes will be handled as a boolean array index\n",
      "  if __name__ == '__main__':\n"
     ]
    },
    {
     "data": {
      "text/plain": [
       "array([ 0.07,  0.07,  0.07, ...,  0.07,  0.07,  0.07])"
      ]
     },
     "execution_count": 307,
     "metadata": {},
     "output_type": "execute_result"
    }
   ],
   "source": [
    "y_proba[1][y_test == 0]"
   ]
  },
  {
   "cell_type": "code",
   "execution_count": 274,
   "metadata": {
    "collapsed": false
   },
   "outputs": [
    {
     "data": {
      "text/plain": [
       "0    20987\n",
       "1      165\n",
       "Name: Rookie?, dtype: int64"
      ]
     },
     "execution_count": 274,
     "metadata": {},
     "output_type": "execute_result"
    }
   ],
   "source": [
    "y_test.value_counts()"
   ]
  },
  {
   "cell_type": "code",
   "execution_count": 275,
   "metadata": {
    "collapsed": false
   },
   "outputs": [],
   "source": [
    "importances = model_RF.feature_importances_"
   ]
  },
  {
   "cell_type": "code",
   "execution_count": 276,
   "metadata": {
    "collapsed": true
   },
   "outputs": [],
   "source": [
    "indices = np.argsort(importances)[::-1]"
   ]
  },
  {
   "cell_type": "code",
   "execution_count": 277,
   "metadata": {
    "collapsed": false,
    "scrolled": false
   },
   "outputs": [
    {
     "data": {
      "image/png": "[encoded data removed]",
      "text/plain": [
       "<matplotlib.figure.Figure at 0x7f3efaf54c50>"
      ]
     },
     "metadata": {},
     "output_type": "display_data"
    }
   ],
   "source": [
    "plt.figure(figsize=(20,12))\n",
    "_ = plt.bar(range(X_train.shape[1]), importances[indices], align='center', label = X_train.columns[indices], color='green')\n",
    "_ = plt.xticks(range(X_train.shape[1]), X_train.columns[indices], rotation=80)"
   ]
  },
  {
   "cell_type": "code",
   "execution_count": null,
   "metadata": {
    "collapsed": true
   },
   "outputs": [],
   "source": []
  },
  {
   "cell_type": "code",
   "execution_count": 183,
   "metadata": {
    "collapsed": false
   },
   "outputs": [
    {
     "data": {
      "text/plain": [
       "0.8143712574850299"
      ]
     },
     "execution_count": 183,
     "metadata": {},
     "output_type": "execute_result"
    }
   ],
   "source": [
    "136 / 167."
   ]
  },
  {
   "cell_type": "markdown",
   "metadata": {},
   "source": [
    "### How about over-sampling with SMOTE?"
   ]
  },
  {
   "cell_type": "code",
   "execution_count": 278,
   "metadata": {
    "collapsed": false
   },
   "outputs": [],
   "source": [
    "sm = SMOTE(kind='regular')\n",
    "X_resampled, y_resampled = sm.fit_sample(X_train, y_train)"
   ]
  },
  {
   "cell_type": "code",
   "execution_count": 279,
   "metadata": {
    "collapsed": false
   },
   "outputs": [
    {
     "data": {
      "text/plain": [
       "RandomForestClassifier(bootstrap=True, class_weight=None, criterion='gini',\n",
       "            max_depth=None, max_features='auto', max_leaf_nodes=None,\n",
       "            min_samples_leaf=1, min_samples_split=2,\n",
       "            min_weight_fraction_leaf=0.0, n_estimators=100, n_jobs=4,\n",
       "            oob_score=False, random_state=None, verbose=0,\n",
       "            warm_start=False)"
      ]
     },
     "execution_count": 279,
     "metadata": {},
     "output_type": "execute_result"
    }
   ],
   "source": [
    "model_RF = RandomForestClassifier(n_estimators=100, n_jobs=4)\n",
    "model_RF.fit(X_resampled, y_resampled)"
   ]
  },
  {
   "cell_type": "code",
   "execution_count": 280,
   "metadata": {
    "collapsed": false
   },
   "outputs": [
    {
     "data": {
      "text/plain": [
       "0.99205748865355525"
      ]
     },
     "execution_count": 280,
     "metadata": {},
     "output_type": "execute_result"
    }
   ],
   "source": [
    "model_RF.score(X_test, y_test)"
   ]
  },
  {
   "cell_type": "code",
   "execution_count": 281,
   "metadata": {
    "collapsed": true
   },
   "outputs": [],
   "source": [
    "y_pred = model_RF.predict(X_test)"
   ]
  },
  {
   "cell_type": "code",
   "execution_count": 282,
   "metadata": {
    "collapsed": false
   },
   "outputs": [
    {
     "name": "stdout",
     "output_type": "stream",
     "text": [
      "0.285714285714\n",
      "0.0121212121212\n"
     ]
    }
   ],
   "source": [
    "print precision_score(y_test, y_pred)\n",
    "print recall_score(y_test, y_pred)"
   ]
  },
  {
   "cell_type": "code",
   "execution_count": 283,
   "metadata": {
    "collapsed": false
   },
   "outputs": [
    {
     "data": {
      "text/plain": [
       "0.50594148469976363"
      ]
     },
     "execution_count": 283,
     "metadata": {},
     "output_type": "execute_result"
    }
   ],
   "source": [
    "roc_auc_score(y_test, y_pred)"
   ]
  },
  {
   "cell_type": "code",
   "execution_count": 284,
   "metadata": {
    "collapsed": true
   },
   "outputs": [],
   "source": [
    "y_proba = model_RF.predict_proba(X_test)"
   ]
  },
  {
   "cell_type": "code",
   "execution_count": 285,
   "metadata": {
    "collapsed": false
   },
   "outputs": [
    {
     "name": "stderr",
     "output_type": "stream",
     "text": [
      "/home/jun/anaconda2/lib/python2.7/site-packages/ipykernel/__main__.py:1: FutureWarning: in the future, boolean array-likes will be handled as a boolean array index\n",
      "  if __name__ == '__main__':\n"
     ]
    },
    {
     "data": {
      "text/plain": [
       "array([ 1.,  1.,  1., ...,  1.,  1.,  1.])"
      ]
     },
     "execution_count": 285,
     "metadata": {},
     "output_type": "execute_result"
    }
   ],
   "source": [
    "y_proba[1][y_test == 1]"
   ]
  },
  {
   "cell_type": "code",
   "execution_count": 286,
   "metadata": {
    "collapsed": false
   },
   "outputs": [],
   "source": [
    "importances = model_RF.feature_importances_"
   ]
  },
  {
   "cell_type": "code",
   "execution_count": 287,
   "metadata": {
    "collapsed": true
   },
   "outputs": [],
   "source": [
    "indices = np.argsort(importances)[::-1]"
   ]
  },
  {
   "cell_type": "code",
   "execution_count": 288,
   "metadata": {
    "collapsed": false
   },
   "outputs": [
    {
     "data": {
      "image/png": "[encoded data removed]",
      "text/plain": [
       "<matplotlib.figure.Figure at 0x7f3efb25bb10>"
      ]
     },
     "metadata": {},
     "output_type": "display_data"
    }
   ],
   "source": [
    "plt.figure(figsize=(20,12))\n",
    "_ = plt.bar(range(X_train.shape[1]), importances[indices], align='center', label = X_train.columns[indices], color='green')\n",
    "_ = plt.xticks(range(X_train.shape[1]), X_train.columns[indices], rotation=80)"
   ]
  },
  {
   "cell_type": "code",
   "execution_count": 112,
   "metadata": {
    "collapsed": false
   },
   "outputs": [],
   "source": [
    "columns = X_test.columns"
   ]
  },
  {
   "cell_type": "code",
   "execution_count": 98,
   "metadata": {
    "collapsed": false
   },
   "outputs": [
    {
     "data": {
      "text/plain": [
       "array([[21117,     7],\n",
       "       [  166,     3]])"
      ]
     },
     "execution_count": 98,
     "metadata": {},
     "output_type": "execute_result"
    }
   ],
   "source": [
    "confusion_matrix(y_test, y_pred)"
   ]
  },
  {
   "cell_type": "code",
   "execution_count": 210,
   "metadata": {
    "collapsed": false
   },
   "outputs": [
    {
     "data": {
      "text/html": [
       "<div>\n",
       "<table border=\"1\" class=\"dataframe\">\n",
       "  <thead>\n",
       "    <tr style=\"text-align: right;\">\n",
       "      <th></th>\n",
       "      <th>count</th>\n",
       "      <th>mean</th>\n",
       "      <th>std</th>\n",
       "      <th>min</th>\n",
       "      <th>25%</th>\n",
       "      <th>50%</th>\n",
       "      <th>75%</th>\n",
       "      <th>max</th>\n",
       "    </tr>\n",
       "  </thead>\n",
       "  <tbody>\n",
       "    <tr>\n",
       "      <th>2B</th>\n",
       "      <td>526.0</td>\n",
       "      <td>0.054879</td>\n",
       "      <td>0.024904</td>\n",
       "      <td>0.00</td>\n",
       "      <td>0.042039</td>\n",
       "      <td>0.054110</td>\n",
       "      <td>0.067623</td>\n",
       "      <td>0.187500</td>\n",
       "    </tr>\n",
       "    <tr>\n",
       "      <th>Pre_lev</th>\n",
       "      <td>526.0</td>\n",
       "      <td>7.123574</td>\n",
       "      <td>2.166836</td>\n",
       "      <td>0.00</td>\n",
       "      <td>6.000000</td>\n",
       "      <td>7.000000</td>\n",
       "      <td>8.750000</td>\n",
       "      <td>10.000000</td>\n",
       "    </tr>\n",
       "    <tr>\n",
       "      <th>Lev</th>\n",
       "      <td>526.0</td>\n",
       "      <td>7.112167</td>\n",
       "      <td>2.734047</td>\n",
       "      <td>0.00</td>\n",
       "      <td>6.000000</td>\n",
       "      <td>7.000000</td>\n",
       "      <td>10.000000</td>\n",
       "      <td>10.000000</td>\n",
       "    </tr>\n",
       "    <tr>\n",
       "      <th>3B</th>\n",
       "      <td>526.0</td>\n",
       "      <td>0.007114</td>\n",
       "      <td>0.008397</td>\n",
       "      <td>0.00</td>\n",
       "      <td>0.000000</td>\n",
       "      <td>0.004808</td>\n",
       "      <td>0.011462</td>\n",
       "      <td>0.061224</td>\n",
       "    </tr>\n",
       "    <tr>\n",
       "      <th>A</th>\n",
       "      <td>526.0</td>\n",
       "      <td>0.954263</td>\n",
       "      <td>1.008982</td>\n",
       "      <td>0.00</td>\n",
       "      <td>0.093842</td>\n",
       "      <td>0.553173</td>\n",
       "      <td>1.876926</td>\n",
       "      <td>4.041667</td>\n",
       "    </tr>\n",
       "    <tr>\n",
       "      <th>AB</th>\n",
       "      <td>526.0</td>\n",
       "      <td>238.893536</td>\n",
       "      <td>173.138810</td>\n",
       "      <td>1.00</td>\n",
       "      <td>87.000000</td>\n",
       "      <td>191.000000</td>\n",
       "      <td>411.000000</td>\n",
       "      <td>596.000000</td>\n",
       "    </tr>\n",
       "    <tr>\n",
       "      <th>AgeDif_batting</th>\n",
       "      <td>526.0</td>\n",
       "      <td>-1.615589</td>\n",
       "      <td>2.261787</td>\n",
       "      <td>-8.30</td>\n",
       "      <td>-3.000000</td>\n",
       "      <td>-1.500000</td>\n",
       "      <td>-0.200000</td>\n",
       "      <td>6.200000</td>\n",
       "    </tr>\n",
       "    <tr>\n",
       "      <th>Age_batting</th>\n",
       "      <td>526.0</td>\n",
       "      <td>23.321293</td>\n",
       "      <td>2.501315</td>\n",
       "      <td>17.00</td>\n",
       "      <td>22.000000</td>\n",
       "      <td>23.000000</td>\n",
       "      <td>25.000000</td>\n",
       "      <td>35.000000</td>\n",
       "    </tr>\n",
       "    <tr>\n",
       "      <th>BA</th>\n",
       "      <td>526.0</td>\n",
       "      <td>0.273970</td>\n",
       "      <td>0.059026</td>\n",
       "      <td>0.00</td>\n",
       "      <td>0.250000</td>\n",
       "      <td>0.278000</td>\n",
       "      <td>0.304000</td>\n",
       "      <td>0.565000</td>\n",
       "    </tr>\n",
       "    <tr>\n",
       "      <th>Bats_Right</th>\n",
       "      <td>526.0</td>\n",
       "      <td>0.574144</td>\n",
       "      <td>0.494943</td>\n",
       "      <td>0.00</td>\n",
       "      <td>0.000000</td>\n",
       "      <td>1.000000</td>\n",
       "      <td>1.000000</td>\n",
       "      <td>1.000000</td>\n",
       "    </tr>\n",
       "    <tr>\n",
       "      <th>Bats_both</th>\n",
       "      <td>526.0</td>\n",
       "      <td>0.129278</td>\n",
       "      <td>0.335826</td>\n",
       "      <td>0.00</td>\n",
       "      <td>0.000000</td>\n",
       "      <td>0.000000</td>\n",
       "      <td>0.000000</td>\n",
       "      <td>1.000000</td>\n",
       "    </tr>\n",
       "    <tr>\n",
       "      <th>Bats_left</th>\n",
       "      <td>526.0</td>\n",
       "      <td>0.294677</td>\n",
       "      <td>0.456331</td>\n",
       "      <td>0.00</td>\n",
       "      <td>0.000000</td>\n",
       "      <td>0.000000</td>\n",
       "      <td>1.000000</td>\n",
       "      <td>1.000000</td>\n",
       "    </tr>\n",
       "    <tr>\n",
       "      <th>CS_perc_fielding</th>\n",
       "      <td>526.0</td>\n",
       "      <td>4.508080</td>\n",
       "      <td>11.297607</td>\n",
       "      <td>0.00</td>\n",
       "      <td>0.000000</td>\n",
       "      <td>0.000000</td>\n",
       "      <td>0.000000</td>\n",
       "      <td>61.000000</td>\n",
       "    </tr>\n",
       "    <tr>\n",
       "      <th>Catcher</th>\n",
       "      <td>526.0</td>\n",
       "      <td>0.201521</td>\n",
       "      <td>0.401518</td>\n",
       "      <td>0.00</td>\n",
       "      <td>0.000000</td>\n",
       "      <td>0.000000</td>\n",
       "      <td>0.000000</td>\n",
       "      <td>1.000000</td>\n",
       "    </tr>\n",
       "    <tr>\n",
       "      <th>Centerfielder</th>\n",
       "      <td>526.0</td>\n",
       "      <td>0.034221</td>\n",
       "      <td>0.181968</td>\n",
       "      <td>0.00</td>\n",
       "      <td>0.000000</td>\n",
       "      <td>0.000000</td>\n",
       "      <td>0.000000</td>\n",
       "      <td>1.000000</td>\n",
       "    </tr>\n",
       "    <tr>\n",
       "      <th>Ch</th>\n",
       "      <td>526.0</td>\n",
       "      <td>4.156349</td>\n",
       "      <td>2.504015</td>\n",
       "      <td>0.00</td>\n",
       "      <td>2.130613</td>\n",
       "      <td>3.700000</td>\n",
       "      <td>6.181818</td>\n",
       "      <td>10.000000</td>\n",
       "    </tr>\n",
       "    <tr>\n",
       "      <th>DP</th>\n",
       "      <td>526.0</td>\n",
       "      <td>0.257174</td>\n",
       "      <td>0.300780</td>\n",
       "      <td>0.00</td>\n",
       "      <td>0.009217</td>\n",
       "      <td>0.094469</td>\n",
       "      <td>0.489243</td>\n",
       "      <td>1.400000</td>\n",
       "    </tr>\n",
       "    <tr>\n",
       "      <th>Designated</th>\n",
       "      <td>526.0</td>\n",
       "      <td>0.015209</td>\n",
       "      <td>0.122500</td>\n",
       "      <td>0.00</td>\n",
       "      <td>0.000000</td>\n",
       "      <td>0.000000</td>\n",
       "      <td>0.000000</td>\n",
       "      <td>1.000000</td>\n",
       "    </tr>\n",
       "    <tr>\n",
       "      <th>Drafted</th>\n",
       "      <td>526.0</td>\n",
       "      <td>12.057034</td>\n",
       "      <td>14.391022</td>\n",
       "      <td>0.00</td>\n",
       "      <td>1.000000</td>\n",
       "      <td>5.000000</td>\n",
       "      <td>19.000000</td>\n",
       "      <td>60.000000</td>\n",
       "    </tr>\n",
       "    <tr>\n",
       "      <th>First</th>\n",
       "      <td>526.0</td>\n",
       "      <td>0.218631</td>\n",
       "      <td>0.413711</td>\n",
       "      <td>0.00</td>\n",
       "      <td>0.000000</td>\n",
       "      <td>0.000000</td>\n",
       "      <td>0.000000</td>\n",
       "      <td>1.000000</td>\n",
       "    </tr>\n",
       "    <tr>\n",
       "      <th>Fld_perc</th>\n",
       "      <td>526.0</td>\n",
       "      <td>0.909994</td>\n",
       "      <td>0.218746</td>\n",
       "      <td>0.00</td>\n",
       "      <td>0.952000</td>\n",
       "      <td>0.978167</td>\n",
       "      <td>0.991000</td>\n",
       "      <td>1.000000</td>\n",
       "    </tr>\n",
       "    <tr>\n",
       "      <th>G</th>\n",
       "      <td>526.0</td>\n",
       "      <td>61.560837</td>\n",
       "      <td>44.325711</td>\n",
       "      <td>1.00</td>\n",
       "      <td>20.000000</td>\n",
       "      <td>51.000000</td>\n",
       "      <td>105.000000</td>\n",
       "      <td>144.000000</td>\n",
       "    </tr>\n",
       "    <tr>\n",
       "      <th>GDP</th>\n",
       "      <td>526.0</td>\n",
       "      <td>0.021320</td>\n",
       "      <td>0.017774</td>\n",
       "      <td>0.00</td>\n",
       "      <td>0.010417</td>\n",
       "      <td>0.019185</td>\n",
       "      <td>0.029109</td>\n",
       "      <td>0.166667</td>\n",
       "    </tr>\n",
       "    <tr>\n",
       "      <th>G_batting</th>\n",
       "      <td>526.0</td>\n",
       "      <td>66.089354</td>\n",
       "      <td>46.099371</td>\n",
       "      <td>1.00</td>\n",
       "      <td>24.000000</td>\n",
       "      <td>56.000000</td>\n",
       "      <td>113.000000</td>\n",
       "      <td>144.000000</td>\n",
       "    </tr>\n",
       "    <tr>\n",
       "      <th>HBP_batting</th>\n",
       "      <td>526.0</td>\n",
       "      <td>0.011697</td>\n",
       "      <td>0.012904</td>\n",
       "      <td>0.00</td>\n",
       "      <td>0.002676</td>\n",
       "      <td>0.009320</td>\n",
       "      <td>0.016044</td>\n",
       "      <td>0.103030</td>\n",
       "    </tr>\n",
       "    <tr>\n",
       "      <th>HR_batting</th>\n",
       "      <td>526.0</td>\n",
       "      <td>0.025153</td>\n",
       "      <td>0.021849</td>\n",
       "      <td>0.00</td>\n",
       "      <td>0.009174</td>\n",
       "      <td>0.022130</td>\n",
       "      <td>0.036445</td>\n",
       "      <td>0.150000</td>\n",
       "    </tr>\n",
       "    <tr>\n",
       "      <th>Height</th>\n",
       "      <td>526.0</td>\n",
       "      <td>179.607065</td>\n",
       "      <td>13.563203</td>\n",
       "      <td>154.94</td>\n",
       "      <td>175.260000</td>\n",
       "      <td>185.420000</td>\n",
       "      <td>187.960000</td>\n",
       "      <td>200.660000</td>\n",
       "    </tr>\n",
       "    <tr>\n",
       "      <th>IBB_batting</th>\n",
       "      <td>526.0</td>\n",
       "      <td>0.003582</td>\n",
       "      <td>0.008425</td>\n",
       "      <td>0.00</td>\n",
       "      <td>0.000000</td>\n",
       "      <td>0.000000</td>\n",
       "      <td>0.004528</td>\n",
       "      <td>0.142857</td>\n",
       "    </tr>\n",
       "    <tr>\n",
       "      <th>Leftfielder</th>\n",
       "      <td>526.0</td>\n",
       "      <td>0.024715</td>\n",
       "      <td>0.155402</td>\n",
       "      <td>0.00</td>\n",
       "      <td>0.000000</td>\n",
       "      <td>0.000000</td>\n",
       "      <td>0.000000</td>\n",
       "      <td>1.000000</td>\n",
       "    </tr>\n",
       "    <tr>\n",
       "      <th>OBP</th>\n",
       "      <td>526.0</td>\n",
       "      <td>0.346253</td>\n",
       "      <td>0.067329</td>\n",
       "      <td>0.00</td>\n",
       "      <td>0.317000</td>\n",
       "      <td>0.350000</td>\n",
       "      <td>0.384000</td>\n",
       "      <td>0.655000</td>\n",
       "    </tr>\n",
       "    <tr>\n",
       "      <th>...</th>\n",
       "      <td>...</td>\n",
       "      <td>...</td>\n",
       "      <td>...</td>\n",
       "      <td>...</td>\n",
       "      <td>...</td>\n",
       "      <td>...</td>\n",
       "      <td>...</td>\n",
       "      <td>...</td>\n",
       "    </tr>\n",
       "    <tr>\n",
       "      <th>RBI</th>\n",
       "      <td>526.0</td>\n",
       "      <td>0.136354</td>\n",
       "      <td>0.062644</td>\n",
       "      <td>0.00</td>\n",
       "      <td>0.098501</td>\n",
       "      <td>0.132281</td>\n",
       "      <td>0.166667</td>\n",
       "      <td>0.500000</td>\n",
       "    </tr>\n",
       "    <tr>\n",
       "      <th>RF/G</th>\n",
       "      <td>526.0</td>\n",
       "      <td>4.067775</td>\n",
       "      <td>2.516135</td>\n",
       "      <td>0.00</td>\n",
       "      <td>2.108750</td>\n",
       "      <td>3.530667</td>\n",
       "      <td>5.425000</td>\n",
       "      <td>12.000000</td>\n",
       "    </tr>\n",
       "    <tr>\n",
       "      <th>R_batting</th>\n",
       "      <td>526.0</td>\n",
       "      <td>0.146833</td>\n",
       "      <td>0.055135</td>\n",
       "      <td>0.00</td>\n",
       "      <td>0.121411</td>\n",
       "      <td>0.145044</td>\n",
       "      <td>0.174496</td>\n",
       "      <td>0.500000</td>\n",
       "    </tr>\n",
       "    <tr>\n",
       "      <th>Rightfielder</th>\n",
       "      <td>526.0</td>\n",
       "      <td>0.013308</td>\n",
       "      <td>0.114699</td>\n",
       "      <td>0.00</td>\n",
       "      <td>0.000000</td>\n",
       "      <td>0.000000</td>\n",
       "      <td>0.000000</td>\n",
       "      <td>1.000000</td>\n",
       "    </tr>\n",
       "    <tr>\n",
       "      <th>SB_batting</th>\n",
       "      <td>526.0</td>\n",
       "      <td>0.023313</td>\n",
       "      <td>0.028211</td>\n",
       "      <td>0.00</td>\n",
       "      <td>0.001783</td>\n",
       "      <td>0.014599</td>\n",
       "      <td>0.032415</td>\n",
       "      <td>0.194444</td>\n",
       "    </tr>\n",
       "    <tr>\n",
       "      <th>SF</th>\n",
       "      <td>526.0</td>\n",
       "      <td>0.008102</td>\n",
       "      <td>0.008922</td>\n",
       "      <td>0.00</td>\n",
       "      <td>0.000000</td>\n",
       "      <td>0.006723</td>\n",
       "      <td>0.012285</td>\n",
       "      <td>0.076923</td>\n",
       "    </tr>\n",
       "    <tr>\n",
       "      <th>SH</th>\n",
       "      <td>526.0</td>\n",
       "      <td>0.006092</td>\n",
       "      <td>0.009543</td>\n",
       "      <td>0.00</td>\n",
       "      <td>0.000000</td>\n",
       "      <td>0.000000</td>\n",
       "      <td>0.008859</td>\n",
       "      <td>0.066667</td>\n",
       "    </tr>\n",
       "    <tr>\n",
       "      <th>SLG</th>\n",
       "      <td>526.0</td>\n",
       "      <td>0.420013</td>\n",
       "      <td>0.115730</td>\n",
       "      <td>0.00</td>\n",
       "      <td>0.364250</td>\n",
       "      <td>0.421000</td>\n",
       "      <td>0.479750</td>\n",
       "      <td>1.000000</td>\n",
       "    </tr>\n",
       "    <tr>\n",
       "      <th>SO_batting</th>\n",
       "      <td>526.0</td>\n",
       "      <td>0.202932</td>\n",
       "      <td>0.075540</td>\n",
       "      <td>0.00</td>\n",
       "      <td>0.150000</td>\n",
       "      <td>0.193845</td>\n",
       "      <td>0.244211</td>\n",
       "      <td>0.555556</td>\n",
       "    </tr>\n",
       "    <tr>\n",
       "      <th>Second</th>\n",
       "      <td>526.0</td>\n",
       "      <td>0.159696</td>\n",
       "      <td>0.366672</td>\n",
       "      <td>0.00</td>\n",
       "      <td>0.000000</td>\n",
       "      <td>0.000000</td>\n",
       "      <td>0.000000</td>\n",
       "      <td>1.000000</td>\n",
       "    </tr>\n",
       "    <tr>\n",
       "      <th>Shortstop</th>\n",
       "      <td>526.0</td>\n",
       "      <td>0.174905</td>\n",
       "      <td>0.380247</td>\n",
       "      <td>0.00</td>\n",
       "      <td>0.000000</td>\n",
       "      <td>0.000000</td>\n",
       "      <td>0.000000</td>\n",
       "      <td>1.000000</td>\n",
       "    </tr>\n",
       "    <tr>\n",
       "      <th>TB</th>\n",
       "      <td>526.0</td>\n",
       "      <td>0.369798</td>\n",
       "      <td>0.100855</td>\n",
       "      <td>0.00</td>\n",
       "      <td>0.320923</td>\n",
       "      <td>0.370175</td>\n",
       "      <td>0.421822</td>\n",
       "      <td>1.000000</td>\n",
       "    </tr>\n",
       "    <tr>\n",
       "      <th>Third</th>\n",
       "      <td>526.0</td>\n",
       "      <td>0.115970</td>\n",
       "      <td>0.320493</td>\n",
       "      <td>0.00</td>\n",
       "      <td>0.000000</td>\n",
       "      <td>0.000000</td>\n",
       "      <td>0.000000</td>\n",
       "      <td>1.000000</td>\n",
       "    </tr>\n",
       "    <tr>\n",
       "      <th>Throws_left</th>\n",
       "      <td>526.0</td>\n",
       "      <td>0.125475</td>\n",
       "      <td>0.331572</td>\n",
       "      <td>0.00</td>\n",
       "      <td>0.000000</td>\n",
       "      <td>0.000000</td>\n",
       "      <td>0.000000</td>\n",
       "      <td>1.000000</td>\n",
       "    </tr>\n",
       "    <tr>\n",
       "      <th>Throws_right</th>\n",
       "      <td>526.0</td>\n",
       "      <td>0.872624</td>\n",
       "      <td>0.333712</td>\n",
       "      <td>0.00</td>\n",
       "      <td>1.000000</td>\n",
       "      <td>1.000000</td>\n",
       "      <td>1.000000</td>\n",
       "      <td>1.000000</td>\n",
       "    </tr>\n",
       "    <tr>\n",
       "      <th>Weight</th>\n",
       "      <td>526.0</td>\n",
       "      <td>204.130141</td>\n",
       "      <td>21.522936</td>\n",
       "      <td>150.00</td>\n",
       "      <td>190.000000</td>\n",
       "      <td>205.000000</td>\n",
       "      <td>220.000000</td>\n",
       "      <td>320.000000</td>\n",
       "    </tr>\n",
       "    <tr>\n",
       "      <th>Fielding_pos_1B</th>\n",
       "      <td>526.0</td>\n",
       "      <td>0.247148</td>\n",
       "      <td>0.431764</td>\n",
       "      <td>0.00</td>\n",
       "      <td>0.000000</td>\n",
       "      <td>0.000000</td>\n",
       "      <td>0.000000</td>\n",
       "      <td>1.000000</td>\n",
       "    </tr>\n",
       "    <tr>\n",
       "      <th>Fielding_pos_2B</th>\n",
       "      <td>526.0</td>\n",
       "      <td>0.201521</td>\n",
       "      <td>0.401518</td>\n",
       "      <td>0.00</td>\n",
       "      <td>0.000000</td>\n",
       "      <td>0.000000</td>\n",
       "      <td>0.000000</td>\n",
       "      <td>1.000000</td>\n",
       "    </tr>\n",
       "    <tr>\n",
       "      <th>Fielding_pos_3B</th>\n",
       "      <td>526.0</td>\n",
       "      <td>0.207224</td>\n",
       "      <td>0.405703</td>\n",
       "      <td>0.00</td>\n",
       "      <td>0.000000</td>\n",
       "      <td>0.000000</td>\n",
       "      <td>0.000000</td>\n",
       "      <td>1.000000</td>\n",
       "    </tr>\n",
       "    <tr>\n",
       "      <th>Fielding_pos_C</th>\n",
       "      <td>526.0</td>\n",
       "      <td>0.209125</td>\n",
       "      <td>0.407071</td>\n",
       "      <td>0.00</td>\n",
       "      <td>0.000000</td>\n",
       "      <td>0.000000</td>\n",
       "      <td>0.000000</td>\n",
       "      <td>1.000000</td>\n",
       "    </tr>\n",
       "    <tr>\n",
       "      <th>Fielding_pos_CF</th>\n",
       "      <td>526.0</td>\n",
       "      <td>0.155894</td>\n",
       "      <td>0.363100</td>\n",
       "      <td>0.00</td>\n",
       "      <td>0.000000</td>\n",
       "      <td>0.000000</td>\n",
       "      <td>0.000000</td>\n",
       "      <td>1.000000</td>\n",
       "    </tr>\n",
       "    <tr>\n",
       "      <th>Fielding_pos_DH</th>\n",
       "      <td>526.0</td>\n",
       "      <td>0.000000</td>\n",
       "      <td>0.000000</td>\n",
       "      <td>0.00</td>\n",
       "      <td>0.000000</td>\n",
       "      <td>0.000000</td>\n",
       "      <td>0.000000</td>\n",
       "      <td>0.000000</td>\n",
       "    </tr>\n",
       "    <tr>\n",
       "      <th>Fielding_pos_LF</th>\n",
       "      <td>526.0</td>\n",
       "      <td>0.167300</td>\n",
       "      <td>0.373599</td>\n",
       "      <td>0.00</td>\n",
       "      <td>0.000000</td>\n",
       "      <td>0.000000</td>\n",
       "      <td>0.000000</td>\n",
       "      <td>1.000000</td>\n",
       "    </tr>\n",
       "    <tr>\n",
       "      <th>Fielding_pos_N/A</th>\n",
       "      <td>526.0</td>\n",
       "      <td>0.000000</td>\n",
       "      <td>0.000000</td>\n",
       "      <td>0.00</td>\n",
       "      <td>0.000000</td>\n",
       "      <td>0.000000</td>\n",
       "      <td>0.000000</td>\n",
       "      <td>0.000000</td>\n",
       "    </tr>\n",
       "    <tr>\n",
       "      <th>Fielding_pos_OF</th>\n",
       "      <td>526.0</td>\n",
       "      <td>0.173004</td>\n",
       "      <td>0.378611</td>\n",
       "      <td>0.00</td>\n",
       "      <td>0.000000</td>\n",
       "      <td>0.000000</td>\n",
       "      <td>0.000000</td>\n",
       "      <td>1.000000</td>\n",
       "    </tr>\n",
       "    <tr>\n",
       "      <th>Fielding_pos_RF</th>\n",
       "      <td>526.0</td>\n",
       "      <td>0.157795</td>\n",
       "      <td>0.364895</td>\n",
       "      <td>0.00</td>\n",
       "      <td>0.000000</td>\n",
       "      <td>0.000000</td>\n",
       "      <td>0.000000</td>\n",
       "      <td>1.000000</td>\n",
       "    </tr>\n",
       "    <tr>\n",
       "      <th>Fielding_pos_SS</th>\n",
       "      <td>526.0</td>\n",
       "      <td>0.224335</td>\n",
       "      <td>0.417540</td>\n",
       "      <td>0.00</td>\n",
       "      <td>0.000000</td>\n",
       "      <td>0.000000</td>\n",
       "      <td>0.000000</td>\n",
       "      <td>1.000000</td>\n",
       "    </tr>\n",
       "    <tr>\n",
       "      <th>Fielding_pos_Unknown</th>\n",
       "      <td>526.0</td>\n",
       "      <td>0.000000</td>\n",
       "      <td>0.000000</td>\n",
       "      <td>0.00</td>\n",
       "      <td>0.000000</td>\n",
       "      <td>0.000000</td>\n",
       "      <td>0.000000</td>\n",
       "      <td>0.000000</td>\n",
       "    </tr>\n",
       "    <tr>\n",
       "      <th>uBB_batting</th>\n",
       "      <td>526.0</td>\n",
       "      <td>0.087403</td>\n",
       "      <td>0.042486</td>\n",
       "      <td>0.00</td>\n",
       "      <td>0.060199</td>\n",
       "      <td>0.082618</td>\n",
       "      <td>0.109019</td>\n",
       "      <td>0.250000</td>\n",
       "    </tr>\n",
       "    <tr>\n",
       "      <th>CS_perc_batting</th>\n",
       "      <td>526.0</td>\n",
       "      <td>0.143148</td>\n",
       "      <td>0.573016</td>\n",
       "      <td>-1.00</td>\n",
       "      <td>0.000000</td>\n",
       "      <td>0.285714</td>\n",
       "      <td>0.500000</td>\n",
       "      <td>1.000000</td>\n",
       "    </tr>\n",
       "  </tbody>\n",
       "</table>\n",
       "<p>63 rows × 8 columns</p>\n",
       "</div>"
      ],
      "text/plain": [
       "                      count        mean         std     min         25%  \\\n",
       "2B                    526.0    0.054879    0.024904    0.00    0.042039   \n",
       "Pre_lev               526.0    7.123574    2.166836    0.00    6.000000   \n",
       "Lev                   526.0    7.112167    2.734047    0.00    6.000000   \n",
       "3B                    526.0    0.007114    0.008397    0.00    0.000000   \n",
       "A                     526.0    0.954263    1.008982    0.00    0.093842   \n",
       "AB                    526.0  238.893536  173.138810    1.00   87.000000   \n",
       "AgeDif_batting        526.0   -1.615589    2.261787   -8.30   -3.000000   \n",
       "Age_batting           526.0   23.321293    2.501315   17.00   22.000000   \n",
       "BA                    526.0    0.273970    0.059026    0.00    0.250000   \n",
       "Bats_Right            526.0    0.574144    0.494943    0.00    0.000000   \n",
       "Bats_both             526.0    0.129278    0.335826    0.00    0.000000   \n",
       "Bats_left             526.0    0.294677    0.456331    0.00    0.000000   \n",
       "CS_perc_fielding      526.0    4.508080   11.297607    0.00    0.000000   \n",
       "Catcher               526.0    0.201521    0.401518    0.00    0.000000   \n",
       "Centerfielder         526.0    0.034221    0.181968    0.00    0.000000   \n",
       "Ch                    526.0    4.156349    2.504015    0.00    2.130613   \n",
       "DP                    526.0    0.257174    0.300780    0.00    0.009217   \n",
       "Designated            526.0    0.015209    0.122500    0.00    0.000000   \n",
       "Drafted               526.0   12.057034   14.391022    0.00    1.000000   \n",
       "First                 526.0    0.218631    0.413711    0.00    0.000000   \n",
       "Fld_perc              526.0    0.909994    0.218746    0.00    0.952000   \n",
       "G                     526.0   61.560837   44.325711    1.00   20.000000   \n",
       "GDP                   526.0    0.021320    0.017774    0.00    0.010417   \n",
       "G_batting             526.0   66.089354   46.099371    1.00   24.000000   \n",
       "HBP_batting           526.0    0.011697    0.012904    0.00    0.002676   \n",
       "HR_batting            526.0    0.025153    0.021849    0.00    0.009174   \n",
       "Height                526.0  179.607065   13.563203  154.94  175.260000   \n",
       "IBB_batting           526.0    0.003582    0.008425    0.00    0.000000   \n",
       "Leftfielder           526.0    0.024715    0.155402    0.00    0.000000   \n",
       "OBP                   526.0    0.346253    0.067329    0.00    0.317000   \n",
       "...                     ...         ...         ...     ...         ...   \n",
       "RBI                   526.0    0.136354    0.062644    0.00    0.098501   \n",
       "RF/G                  526.0    4.067775    2.516135    0.00    2.108750   \n",
       "R_batting             526.0    0.146833    0.055135    0.00    0.121411   \n",
       "Rightfielder          526.0    0.013308    0.114699    0.00    0.000000   \n",
       "SB_batting            526.0    0.023313    0.028211    0.00    0.001783   \n",
       "SF                    526.0    0.008102    0.008922    0.00    0.000000   \n",
       "SH                    526.0    0.006092    0.009543    0.00    0.000000   \n",
       "SLG                   526.0    0.420013    0.115730    0.00    0.364250   \n",
       "SO_batting            526.0    0.202932    0.075540    0.00    0.150000   \n",
       "Second                526.0    0.159696    0.366672    0.00    0.000000   \n",
       "Shortstop             526.0    0.174905    0.380247    0.00    0.000000   \n",
       "TB                    526.0    0.369798    0.100855    0.00    0.320923   \n",
       "Third                 526.0    0.115970    0.320493    0.00    0.000000   \n",
       "Throws_left           526.0    0.125475    0.331572    0.00    0.000000   \n",
       "Throws_right          526.0    0.872624    0.333712    0.00    1.000000   \n",
       "Weight                526.0  204.130141   21.522936  150.00  190.000000   \n",
       "Fielding_pos_1B       526.0    0.247148    0.431764    0.00    0.000000   \n",
       "Fielding_pos_2B       526.0    0.201521    0.401518    0.00    0.000000   \n",
       "Fielding_pos_3B       526.0    0.207224    0.405703    0.00    0.000000   \n",
       "Fielding_pos_C        526.0    0.209125    0.407071    0.00    0.000000   \n",
       "Fielding_pos_CF       526.0    0.155894    0.363100    0.00    0.000000   \n",
       "Fielding_pos_DH       526.0    0.000000    0.000000    0.00    0.000000   \n",
       "Fielding_pos_LF       526.0    0.167300    0.373599    0.00    0.000000   \n",
       "Fielding_pos_N/A      526.0    0.000000    0.000000    0.00    0.000000   \n",
       "Fielding_pos_OF       526.0    0.173004    0.378611    0.00    0.000000   \n",
       "Fielding_pos_RF       526.0    0.157795    0.364895    0.00    0.000000   \n",
       "Fielding_pos_SS       526.0    0.224335    0.417540    0.00    0.000000   \n",
       "Fielding_pos_Unknown  526.0    0.000000    0.000000    0.00    0.000000   \n",
       "uBB_batting           526.0    0.087403    0.042486    0.00    0.060199   \n",
       "CS_perc_batting       526.0    0.143148    0.573016   -1.00    0.000000   \n",
       "\n",
       "                             50%         75%         max  \n",
       "2B                      0.054110    0.067623    0.187500  \n",
       "Pre_lev                 7.000000    8.750000   10.000000  \n",
       "Lev                     7.000000   10.000000   10.000000  \n",
       "3B                      0.004808    0.011462    0.061224  \n",
       "A                       0.553173    1.876926    4.041667  \n",
       "AB                    191.000000  411.000000  596.000000  \n",
       "AgeDif_batting         -1.500000   -0.200000    6.200000  \n",
       "Age_batting            23.000000   25.000000   35.000000  \n",
       "BA                      0.278000    0.304000    0.565000  \n",
       "Bats_Right              1.000000    1.000000    1.000000  \n",
       "Bats_both               0.000000    0.000000    1.000000  \n",
       "Bats_left               0.000000    1.000000    1.000000  \n",
       "CS_perc_fielding        0.000000    0.000000   61.000000  \n",
       "Catcher                 0.000000    0.000000    1.000000  \n",
       "Centerfielder           0.000000    0.000000    1.000000  \n",
       "Ch                      3.700000    6.181818   10.000000  \n",
       "DP                      0.094469    0.489243    1.400000  \n",
       "Designated              0.000000    0.000000    1.000000  \n",
       "Drafted                 5.000000   19.000000   60.000000  \n",
       "First                   0.000000    0.000000    1.000000  \n",
       "Fld_perc                0.978167    0.991000    1.000000  \n",
       "G                      51.000000  105.000000  144.000000  \n",
       "GDP                     0.019185    0.029109    0.166667  \n",
       "G_batting              56.000000  113.000000  144.000000  \n",
       "HBP_batting             0.009320    0.016044    0.103030  \n",
       "HR_batting              0.022130    0.036445    0.150000  \n",
       "Height                185.420000  187.960000  200.660000  \n",
       "IBB_batting             0.000000    0.004528    0.142857  \n",
       "Leftfielder             0.000000    0.000000    1.000000  \n",
       "OBP                     0.350000    0.384000    0.655000  \n",
       "...                          ...         ...         ...  \n",
       "RBI                     0.132281    0.166667    0.500000  \n",
       "RF/G                    3.530667    5.425000   12.000000  \n",
       "R_batting               0.145044    0.174496    0.500000  \n",
       "Rightfielder            0.000000    0.000000    1.000000  \n",
       "SB_batting              0.014599    0.032415    0.194444  \n",
       "SF                      0.006723    0.012285    0.076923  \n",
       "SH                      0.000000    0.008859    0.066667  \n",
       "SLG                     0.421000    0.479750    1.000000  \n",
       "SO_batting              0.193845    0.244211    0.555556  \n",
       "Second                  0.000000    0.000000    1.000000  \n",
       "Shortstop               0.000000    0.000000    1.000000  \n",
       "TB                      0.370175    0.421822    1.000000  \n",
       "Third                   0.000000    0.000000    1.000000  \n",
       "Throws_left             0.000000    0.000000    1.000000  \n",
       "Throws_right            1.000000    1.000000    1.000000  \n",
       "Weight                205.000000  220.000000  320.000000  \n",
       "Fielding_pos_1B         0.000000    0.000000    1.000000  \n",
       "Fielding_pos_2B         0.000000    0.000000    1.000000  \n",
       "Fielding_pos_3B         0.000000    0.000000    1.000000  \n",
       "Fielding_pos_C          0.000000    0.000000    1.000000  \n",
       "Fielding_pos_CF         0.000000    0.000000    1.000000  \n",
       "Fielding_pos_DH         0.000000    0.000000    0.000000  \n",
       "Fielding_pos_LF         0.000000    0.000000    1.000000  \n",
       "Fielding_pos_N/A        0.000000    0.000000    0.000000  \n",
       "Fielding_pos_OF         0.000000    0.000000    1.000000  \n",
       "Fielding_pos_RF         0.000000    0.000000    1.000000  \n",
       "Fielding_pos_SS         0.000000    0.000000    1.000000  \n",
       "Fielding_pos_Unknown    0.000000    0.000000    0.000000  \n",
       "uBB_batting             0.082618    0.109019    0.250000  \n",
       "CS_perc_batting         0.285714    0.500000    1.000000  \n",
       "\n",
       "[63 rows x 8 columns]"
      ]
     },
     "execution_count": 210,
     "metadata": {},
     "output_type": "execute_result"
    }
   ],
   "source": [
    "X_train[y_train == 1].describe().T"
   ]
  },
  {
   "cell_type": "code",
   "execution_count": 209,
   "metadata": {
    "collapsed": false
   },
   "outputs": [
    {
     "data": {
      "text/html": [
       "<div>\n",
       "<table border=\"1\" class=\"dataframe\">\n",
       "  <thead>\n",
       "    <tr style=\"text-align: right;\">\n",
       "      <th></th>\n",
       "      <th>2B</th>\n",
       "      <th>Pre_lev</th>\n",
       "      <th>Lev</th>\n",
       "      <th>3B</th>\n",
       "      <th>A</th>\n",
       "      <th>AB</th>\n",
       "      <th>AgeDif_batting</th>\n",
       "      <th>Age_batting</th>\n",
       "      <th>BA</th>\n",
       "      <th>Bats_Right</th>\n",
       "      <th>...</th>\n",
       "      <th>Fielding_pos_CF</th>\n",
       "      <th>Fielding_pos_DH</th>\n",
       "      <th>Fielding_pos_LF</th>\n",
       "      <th>Fielding_pos_N/A</th>\n",
       "      <th>Fielding_pos_OF</th>\n",
       "      <th>Fielding_pos_RF</th>\n",
       "      <th>Fielding_pos_SS</th>\n",
       "      <th>Fielding_pos_Unknown</th>\n",
       "      <th>uBB_batting</th>\n",
       "      <th>CS_perc_batting</th>\n",
       "    </tr>\n",
       "  </thead>\n",
       "  <tbody>\n",
       "    <tr>\n",
       "      <th>count</th>\n",
       "      <td>63350.000000</td>\n",
       "      <td>63350.000000</td>\n",
       "      <td>63350.000000</td>\n",
       "      <td>63350.000000</td>\n",
       "      <td>63350.000000</td>\n",
       "      <td>63350.000000</td>\n",
       "      <td>63350.000000</td>\n",
       "      <td>63350.000000</td>\n",
       "      <td>63350.000000</td>\n",
       "      <td>63350.000000</td>\n",
       "      <td>...</td>\n",
       "      <td>63350.000000</td>\n",
       "      <td>63350.000000</td>\n",
       "      <td>63350.000000</td>\n",
       "      <td>63350.000000</td>\n",
       "      <td>63350.000000</td>\n",
       "      <td>63350.000000</td>\n",
       "      <td>63350.000000</td>\n",
       "      <td>63350.000000</td>\n",
       "      <td>63350.000000</td>\n",
       "      <td>63350.000000</td>\n",
       "    </tr>\n",
       "    <tr>\n",
       "      <th>mean</th>\n",
       "      <td>0.045385</td>\n",
       "      <td>4.649803</td>\n",
       "      <td>4.823978</td>\n",
       "      <td>0.006711</td>\n",
       "      <td>0.912029</td>\n",
       "      <td>174.049329</td>\n",
       "      <td>-0.192418</td>\n",
       "      <td>23.180852</td>\n",
       "      <td>0.245835</td>\n",
       "      <td>0.616085</td>\n",
       "      <td>...</td>\n",
       "      <td>0.114870</td>\n",
       "      <td>0.000268</td>\n",
       "      <td>0.172549</td>\n",
       "      <td>0.000110</td>\n",
       "      <td>0.234680</td>\n",
       "      <td>0.147482</td>\n",
       "      <td>0.200505</td>\n",
       "      <td>0.000600</td>\n",
       "      <td>0.085195</td>\n",
       "      <td>0.081153</td>\n",
       "    </tr>\n",
       "    <tr>\n",
       "      <th>std</th>\n",
       "      <td>0.030067</td>\n",
       "      <td>3.227262</td>\n",
       "      <td>3.301352</td>\n",
       "      <td>0.011686</td>\n",
       "      <td>0.973365</td>\n",
       "      <td>139.675862</td>\n",
       "      <td>2.688684</td>\n",
       "      <td>4.121716</td>\n",
       "      <td>0.077757</td>\n",
       "      <td>0.486341</td>\n",
       "      <td>...</td>\n",
       "      <td>0.318867</td>\n",
       "      <td>0.016379</td>\n",
       "      <td>0.377860</td>\n",
       "      <td>0.010511</td>\n",
       "      <td>0.423802</td>\n",
       "      <td>0.354589</td>\n",
       "      <td>0.400382</td>\n",
       "      <td>0.024485</td>\n",
       "      <td>0.049638</td>\n",
       "      <td>0.627266</td>\n",
       "    </tr>\n",
       "    <tr>\n",
       "      <th>min</th>\n",
       "      <td>0.000000</td>\n",
       "      <td>0.000000</td>\n",
       "      <td>0.000000</td>\n",
       "      <td>0.000000</td>\n",
       "      <td>0.000000</td>\n",
       "      <td>1.000000</td>\n",
       "      <td>-14.300000</td>\n",
       "      <td>14.000000</td>\n",
       "      <td>0.000000</td>\n",
       "      <td>0.000000</td>\n",
       "      <td>...</td>\n",
       "      <td>0.000000</td>\n",
       "      <td>0.000000</td>\n",
       "      <td>0.000000</td>\n",
       "      <td>0.000000</td>\n",
       "      <td>0.000000</td>\n",
       "      <td>0.000000</td>\n",
       "      <td>0.000000</td>\n",
       "      <td>0.000000</td>\n",
       "      <td>0.000000</td>\n",
       "      <td>-1.000000</td>\n",
       "    </tr>\n",
       "    <tr>\n",
       "      <th>25%</th>\n",
       "      <td>0.028226</td>\n",
       "      <td>1.000000</td>\n",
       "      <td>2.000000</td>\n",
       "      <td>0.000000</td>\n",
       "      <td>0.088889</td>\n",
       "      <td>57.000000</td>\n",
       "      <td>-1.600000</td>\n",
       "      <td>20.000000</td>\n",
       "      <td>0.212000</td>\n",
       "      <td>0.000000</td>\n",
       "      <td>...</td>\n",
       "      <td>0.000000</td>\n",
       "      <td>0.000000</td>\n",
       "      <td>0.000000</td>\n",
       "      <td>0.000000</td>\n",
       "      <td>0.000000</td>\n",
       "      <td>0.000000</td>\n",
       "      <td>0.000000</td>\n",
       "      <td>0.000000</td>\n",
       "      <td>0.055002</td>\n",
       "      <td>0.000000</td>\n",
       "    </tr>\n",
       "    <tr>\n",
       "      <th>50%</th>\n",
       "      <td>0.045455</td>\n",
       "      <td>5.000000</td>\n",
       "      <td>5.000000</td>\n",
       "      <td>0.002625</td>\n",
       "      <td>0.541667</td>\n",
       "      <td>141.000000</td>\n",
       "      <td>-0.300000</td>\n",
       "      <td>22.000000</td>\n",
       "      <td>0.251000</td>\n",
       "      <td>1.000000</td>\n",
       "      <td>...</td>\n",
       "      <td>0.000000</td>\n",
       "      <td>0.000000</td>\n",
       "      <td>0.000000</td>\n",
       "      <td>0.000000</td>\n",
       "      <td>0.000000</td>\n",
       "      <td>0.000000</td>\n",
       "      <td>0.000000</td>\n",
       "      <td>0.000000</td>\n",
       "      <td>0.081395</td>\n",
       "      <td>0.250000</td>\n",
       "    </tr>\n",
       "    <tr>\n",
       "      <th>75%</th>\n",
       "      <td>0.060976</td>\n",
       "      <td>7.000000</td>\n",
       "      <td>7.000000</td>\n",
       "      <td>0.010101</td>\n",
       "      <td>1.666667</td>\n",
       "      <td>260.000000</td>\n",
       "      <td>1.100000</td>\n",
       "      <td>25.000000</td>\n",
       "      <td>0.286000</td>\n",
       "      <td>1.000000</td>\n",
       "      <td>...</td>\n",
       "      <td>0.000000</td>\n",
       "      <td>0.000000</td>\n",
       "      <td>0.000000</td>\n",
       "      <td>0.000000</td>\n",
       "      <td>0.000000</td>\n",
       "      <td>0.000000</td>\n",
       "      <td>0.000000</td>\n",
       "      <td>0.000000</td>\n",
       "      <td>0.111111</td>\n",
       "      <td>0.500000</td>\n",
       "    </tr>\n",
       "    <tr>\n",
       "      <th>max</th>\n",
       "      <td>0.571429</td>\n",
       "      <td>10.000000</td>\n",
       "      <td>10.000000</td>\n",
       "      <td>0.500000</td>\n",
       "      <td>27.800000</td>\n",
       "      <td>603.000000</td>\n",
       "      <td>26.700000</td>\n",
       "      <td>53.000000</td>\n",
       "      <td>1.000000</td>\n",
       "      <td>1.000000</td>\n",
       "      <td>...</td>\n",
       "      <td>1.000000</td>\n",
       "      <td>1.000000</td>\n",
       "      <td>1.000000</td>\n",
       "      <td>1.000000</td>\n",
       "      <td>1.000000</td>\n",
       "      <td>1.000000</td>\n",
       "      <td>1.000000</td>\n",
       "      <td>1.000000</td>\n",
       "      <td>0.800000</td>\n",
       "      <td>1.000000</td>\n",
       "    </tr>\n",
       "  </tbody>\n",
       "</table>\n",
       "<p>8 rows × 63 columns</p>\n",
       "</div>"
      ],
      "text/plain": [
       "                 2B       Pre_lev           Lev            3B             A  \\\n",
       "count  63350.000000  63350.000000  63350.000000  63350.000000  63350.000000   \n",
       "mean       0.045385      4.649803      4.823978      0.006711      0.912029   \n",
       "std        0.030067      3.227262      3.301352      0.011686      0.973365   \n",
       "min        0.000000      0.000000      0.000000      0.000000      0.000000   \n",
       "25%        0.028226      1.000000      2.000000      0.000000      0.088889   \n",
       "50%        0.045455      5.000000      5.000000      0.002625      0.541667   \n",
       "75%        0.060976      7.000000      7.000000      0.010101      1.666667   \n",
       "max        0.571429     10.000000     10.000000      0.500000     27.800000   \n",
       "\n",
       "                 AB  AgeDif_batting   Age_batting            BA    Bats_Right  \\\n",
       "count  63350.000000    63350.000000  63350.000000  63350.000000  63350.000000   \n",
       "mean     174.049329       -0.192418     23.180852      0.245835      0.616085   \n",
       "std      139.675862        2.688684      4.121716      0.077757      0.486341   \n",
       "min        1.000000      -14.300000     14.000000      0.000000      0.000000   \n",
       "25%       57.000000       -1.600000     20.000000      0.212000      0.000000   \n",
       "50%      141.000000       -0.300000     22.000000      0.251000      1.000000   \n",
       "75%      260.000000        1.100000     25.000000      0.286000      1.000000   \n",
       "max      603.000000       26.700000     53.000000      1.000000      1.000000   \n",
       "\n",
       "            ...         Fielding_pos_CF  Fielding_pos_DH  Fielding_pos_LF  \\\n",
       "count       ...            63350.000000     63350.000000     63350.000000   \n",
       "mean        ...                0.114870         0.000268         0.172549   \n",
       "std         ...                0.318867         0.016379         0.377860   \n",
       "min         ...                0.000000         0.000000         0.000000   \n",
       "25%         ...                0.000000         0.000000         0.000000   \n",
       "50%         ...                0.000000         0.000000         0.000000   \n",
       "75%         ...                0.000000         0.000000         0.000000   \n",
       "max         ...                1.000000         1.000000         1.000000   \n",
       "\n",
       "       Fielding_pos_N/A  Fielding_pos_OF  Fielding_pos_RF  Fielding_pos_SS  \\\n",
       "count      63350.000000     63350.000000     63350.000000     63350.000000   \n",
       "mean           0.000110         0.234680         0.147482         0.200505   \n",
       "std            0.010511         0.423802         0.354589         0.400382   \n",
       "min            0.000000         0.000000         0.000000         0.000000   \n",
       "25%            0.000000         0.000000         0.000000         0.000000   \n",
       "50%            0.000000         0.000000         0.000000         0.000000   \n",
       "75%            0.000000         0.000000         0.000000         0.000000   \n",
       "max            1.000000         1.000000         1.000000         1.000000   \n",
       "\n",
       "       Fielding_pos_Unknown   uBB_batting  CS_perc_batting  \n",
       "count          63350.000000  63350.000000     63350.000000  \n",
       "mean               0.000600      0.085195         0.081153  \n",
       "std                0.024485      0.049638         0.627266  \n",
       "min                0.000000      0.000000        -1.000000  \n",
       "25%                0.000000      0.055002         0.000000  \n",
       "50%                0.000000      0.081395         0.250000  \n",
       "75%                0.000000      0.111111         0.500000  \n",
       "max                1.000000      0.800000         1.000000  \n",
       "\n",
       "[8 rows x 63 columns]"
      ]
     },
     "execution_count": 209,
     "metadata": {},
     "output_type": "execute_result"
    }
   ],
   "source": [
    "X_train[y_train == 0].describe()"
   ]
  },
  {
   "cell_type": "code",
   "execution_count": null,
   "metadata": {
    "collapsed": true
   },
   "outputs": [],
   "source": []
  }
 ],
 "metadata": {
  "kernelspec": {
   "display_name": "Python 2",
   "language": "python",
   "name": "python2"
  },
  "language_info": {
   "codemirror_mode": {
    "name": "ipython",
    "version": 2
   },
   "file_extension": ".py",
   "mimetype": "text/x-python",
   "name": "python",
   "nbconvert_exporter": "python",
   "pygments_lexer": "ipython2",
   "version": "2.7.11"
  }
 },
 "nbformat": 4,
 "nbformat_minor": 0
}
