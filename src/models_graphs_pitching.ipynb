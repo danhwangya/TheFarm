{
 "cells": [
  {
   "cell_type": "code",
   "execution_count": 210,
   "metadata": {
    "collapsed": false
   },
   "outputs": [],
   "source": [
    "from sklearn.linear_model import LogisticRegression, LogisticRegressionCV, LassoLars\n",
    "from sklearn.cross_validation import train_test_split\n",
    "from statsmodels.discrete.discrete_model import Logit\n",
    "from pandas.tools.plotting import scatter_matrix\n",
    "from sklearn.ensemble import RandomForestClassifier, GradientBoostingClassifier\n",
    "from sklearn.metrics import precision_score, recall_score, roc_auc_score, confusion_matrix, roc_curve\n",
    "import pandas as pd\n",
    "import numpy as np\n",
    "from imblearn.under_sampling import RandomUnderSampler\n",
    "from imblearn.over_sampling import SMOTE\n",
    "from sklearn.decomposition import PCA\n",
    "import matplotlib.pyplot as plt\n",
    "from sklearn.ensemble.partial_dependence import plot_partial_dependence\n",
    "from __future__ import division\n",
    "from sklearn.feature_selection import f_regression\n",
    "from sklearn.preprocessing import scale, StandardScaler\n",
    "from bokeh.charts import Histogram\n",
    "from bokeh.sampledata.autompg import autompg as df\n",
    "from bokeh.charts import defaults, vplot, hplot, show, output_file\n",
    "from bokeh.charts import Bar, output_file, show\n",
    "import pygal\n",
    "import matplotlib.cm as cm, matplotlib.font_manager as fm\n",
    "\n",
    "%matplotlib inline"
   ]
  },
  {
   "cell_type": "code",
   "execution_count": 2,
   "metadata": {
    "collapsed": true
   },
   "outputs": [],
   "source": [
    "X_ver2 = pd.read_csv('X_ver2.csv')"
   ]
  },
  {
   "cell_type": "code",
   "execution_count": 3,
   "metadata": {
    "collapsed": false
   },
   "outputs": [],
   "source": [
    "X_ver2 = X_ver2[X_ver2['HR9'].notnull()]"
   ]
  },
  {
   "cell_type": "code",
   "execution_count": 4,
   "metadata": {
    "collapsed": true
   },
   "outputs": [],
   "source": [
    "y = X_ver2.pop('Rookie?')"
   ]
  },
  {
   "cell_type": "code",
   "execution_count": 5,
   "metadata": {
    "collapsed": false
   },
   "outputs": [],
   "source": [
    "X_ver2 = X_ver2.drop(['player_id', 'Year'], axis=1)"
   ]
  },
  {
   "cell_type": "code",
   "execution_count": 28,
   "metadata": {
    "collapsed": false
   },
   "outputs": [],
   "source": [
    "X_train, X_test, y_train, y_test = train_test_split(X_ver2, y)"
   ]
  },
  {
   "cell_type": "code",
   "execution_count": 235,
   "metadata": {
    "collapsed": false
   },
   "outputs": [],
   "source": [
    "rus = RandomUnderSampler()\n",
    "X_resampled, y_resampled = rus.fit_sample(X_train, y_train)"
   ]
  },
  {
   "cell_type": "code",
   "execution_count": 236,
   "metadata": {
    "collapsed": false
   },
   "outputs": [],
   "source": [
    "#logit_mod = Logit(y_resampled, X_resampled).fit()\n",
    "#logit_mod.summary()"
   ]
  },
  {
   "cell_type": "code",
   "execution_count": 345,
   "metadata": {
    "collapsed": true
   },
   "outputs": [],
   "source": [
    "sklogit = LogisticRegression()\n",
    "RF = RandomForestClassifier(n_estimators=200, n_jobs=4)\n",
    "GB = GradientBoostingClassifier(n_estimators=500)"
   ]
  },
  {
   "cell_type": "code",
   "execution_count": 346,
   "metadata": {
    "collapsed": false
   },
   "outputs": [
    {
     "data": {
      "text/plain": [
       "GradientBoostingClassifier(init=None, learning_rate=0.1, loss='deviance',\n",
       "              max_depth=3, max_features=None, max_leaf_nodes=None,\n",
       "              min_samples_leaf=1, min_samples_split=2,\n",
       "              min_weight_fraction_leaf=0.0, n_estimators=500,\n",
       "              presort='auto', random_state=None, subsample=1.0, verbose=0,\n",
       "              warm_start=False)"
      ]
     },
     "execution_count": 346,
     "metadata": {},
     "output_type": "execute_result"
    }
   ],
   "source": [
    "sklogit.fit(X_resampled, y_resampled)\n",
    "RF.fit(X_resampled, y_resampled)\n",
    "GB.fit(X_resampled, y_resampled)"
   ]
  },
  {
   "cell_type": "code",
   "execution_count": 347,
   "metadata": {
    "collapsed": false
   },
   "outputs": [
    {
     "name": "stdout",
     "output_type": "stream",
     "text": [
      "0.768037328667\n",
      "0.779994167396\n",
      "0.779819189268\n"
     ]
    }
   ],
   "source": [
    "print sklogit.score(X_test, y_test)\n",
    "print RF.score(X_test, y_test)\n",
    "print GB.score(X_test, y_test)"
   ]
  },
  {
   "cell_type": "code",
   "execution_count": 348,
   "metadata": {
    "collapsed": false
   },
   "outputs": [],
   "source": [
    "y_pred_logit = sklogit.predict(X_test)\n",
    "y_pred_RF = RF.predict(X_test)\n",
    "y_pred_GB = GB.predict(X_test)\n",
    "y_proba_logit = sklogit.predict_proba(X_test)\n",
    "y_proba_RF = RF.predict_proba(X_test)\n",
    "y_proba_GB = GB.predict_proba(X_test)"
   ]
  },
  {
   "cell_type": "code",
   "execution_count": 349,
   "metadata": {
    "collapsed": false
   },
   "outputs": [
    {
     "name": "stdout",
     "output_type": "stream",
     "text": [
      "0.0457516339869\n",
      "0.0451282051282\n",
      "0.0443931229151\n"
     ]
    }
   ],
   "source": [
    "print precision_score(y_test, y_pred_logit)\n",
    "print precision_score(y_test, y_pred_RF)\n",
    "print precision_score(y_test, y_pred_GB)"
   ]
  },
  {
   "cell_type": "code",
   "execution_count": 350,
   "metadata": {
    "collapsed": false
   },
   "outputs": [
    {
     "name": "stdout",
     "output_type": "stream",
     "text": [
      "0.84375\n",
      "0.785714285714\n",
      "0.772321428571\n"
     ]
    }
   ],
   "source": [
    "print recall_score(y_test, y_pred_logit)\n",
    "print recall_score(y_test, y_pred_RF)\n",
    "print recall_score(y_test, y_pred_GB)"
   ]
  },
  {
   "cell_type": "code",
   "execution_count": 351,
   "metadata": {
    "collapsed": false
   },
   "outputs": [
    {
     "name": "stdout",
     "output_type": "stream",
     "text": [
      "0.805392522605\n",
      "0.782816365125\n",
      "0.776119936554\n"
     ]
    }
   ],
   "source": [
    "print roc_auc_score(y_test, y_pred_logit)\n",
    "print roc_auc_score(y_test, y_pred_RF)\n",
    "print roc_auc_score(y_test, y_pred_GB)"
   ]
  },
  {
   "cell_type": "code",
   "execution_count": null,
   "metadata": {
    "collapsed": false
   },
   "outputs": [],
   "source": [
    "confusion_matrix(y_test, y_pred_logit)"
   ]
  },
  {
   "cell_type": "code",
   "execution_count": null,
   "metadata": {
    "collapsed": false
   },
   "outputs": [],
   "source": [
    "y_test.value_counts()"
   ]
  },
  {
   "cell_type": "code",
   "execution_count": 246,
   "metadata": {
    "collapsed": false
   },
   "outputs": [
    {
     "data": {
      "text/plain": [
       "(19288,)"
      ]
     },
     "execution_count": 246,
     "metadata": {},
     "output_type": "execute_result"
    }
   ],
   "source": [
    "y_test.shape"
   ]
  },
  {
   "cell_type": "code",
   "execution_count": 247,
   "metadata": {
    "collapsed": true
   },
   "outputs": [],
   "source": [
    "y_test_copy = y_test.copy()"
   ]
  },
  {
   "cell_type": "code",
   "execution_count": 248,
   "metadata": {
    "collapsed": false
   },
   "outputs": [],
   "source": [
    "y_test_copy.index = range(y_test_copy.shape[0])"
   ]
  },
  {
   "cell_type": "code",
   "execution_count": 249,
   "metadata": {
    "collapsed": false
   },
   "outputs": [],
   "source": [
    "true_idx_0 = y_test_copy[y_test_copy == 0].index"
   ]
  },
  {
   "cell_type": "code",
   "execution_count": 250,
   "metadata": {
    "collapsed": true
   },
   "outputs": [],
   "source": [
    "true_idx_1 = y_test_copy[y_test_copy==1].index"
   ]
  },
  {
   "cell_type": "code",
   "execution_count": 251,
   "metadata": {
    "collapsed": false
   },
   "outputs": [],
   "source": [
    "pred_idx_1 = np.where(y_pred_logit == 1)"
   ]
  },
  {
   "cell_type": "code",
   "execution_count": 252,
   "metadata": {
    "collapsed": true
   },
   "outputs": [],
   "source": [
    "pred_idx_0 = np.where(y_pred_logit == 0)"
   ]
  },
  {
   "cell_type": "code",
   "execution_count": 253,
   "metadata": {
    "collapsed": false
   },
   "outputs": [],
   "source": [
    "FP_idx = np.intersect1d(true_idx_0, pred_idx_1) # 실제로는 0인데 1로 예상한것들"
   ]
  },
  {
   "cell_type": "code",
   "execution_count": 254,
   "metadata": {
    "collapsed": true
   },
   "outputs": [],
   "source": [
    "TP_idx = np.intersect1d(true_idx_1, pred_idx_1) # 실제로 1이고 1로 예상한것들"
   ]
  },
  {
   "cell_type": "code",
   "execution_count": 255,
   "metadata": {
    "collapsed": true
   },
   "outputs": [],
   "source": [
    "FN_idx = np.intersect1d(true_idx_1, pred_idx_0) # 실제로 1인데 0으로 예상한것들"
   ]
  },
  {
   "cell_type": "code",
   "execution_count": 256,
   "metadata": {
    "collapsed": false
   },
   "outputs": [
    {
     "data": {
      "text/plain": [
       "<matplotlib.collections.PathCollection at 0x7fbd28422210>"
      ]
     },
     "execution_count": 256,
     "metadata": {},
     "output_type": "execute_result"
    },
    {
     "data": {
      "image/png": "[encoded data removed]",
      "text/plain": [
       "<matplotlib.figure.Figure at 0x7fbd28371690>"
      ]
     },
     "metadata": {},
     "output_type": "display_data"
    }
   ],
   "source": [
    "plt.scatter(y_pred_logit[FP_idx], y_proba_logit[:,1][FP_idx], alpha=0.2, s=100, c='y', edgecolor='red')"
   ]
  },
  {
   "cell_type": "code",
   "execution_count": 257,
   "metadata": {
    "collapsed": false
   },
   "outputs": [
    {
     "data": {
      "text/plain": [
       "<matplotlib.text.Text at 0x7fbd296a0a10>"
      ]
     },
     "execution_count": 257,
     "metadata": {},
     "output_type": "execute_result"
    },
    {
     "data": {
      "image/png": "[encoded data removed]",
      "text/plain": [
       "<matplotlib.figure.Figure at 0x7fbd2bd42850>"
      ]
     },
     "metadata": {},
     "output_type": "display_data"
    }
   ],
   "source": [
    "f, ax = plt.subplots(1, 2)\n",
    "_ = ax[0].hist(y_proba_logit[:,1][FP_idx], bins=50)\n",
    "ax[0].set_title('Proba of False Positive')\n",
    "_ = ax[1].hist(y_proba_logit[:,1][TP_idx], bins=50)\n",
    "ax[1].set_title('Proba of True Positive')"
   ]
  },
  {
   "cell_type": "code",
   "execution_count": 258,
   "metadata": {
    "collapsed": false
   },
   "outputs": [
    {
     "data": {
      "text/plain": [
       "118"
      ]
     },
     "execution_count": 258,
     "metadata": {},
     "output_type": "execute_result"
    }
   ],
   "source": [
    "(y_proba_logit[:,1][TP_idx] > 0.75).sum()"
   ]
  },
  {
   "cell_type": "code",
   "execution_count": 259,
   "metadata": {
    "collapsed": false
   },
   "outputs": [
    {
     "data": {
      "text/plain": [
       "1562"
      ]
     },
     "execution_count": 259,
     "metadata": {},
     "output_type": "execute_result"
    }
   ],
   "source": [
    "(y_proba_logit[:,1][FP_idx] > 0.75).sum()"
   ]
  },
  {
   "cell_type": "code",
   "execution_count": 260,
   "metadata": {
    "collapsed": true
   },
   "outputs": [],
   "source": [
    "thres = np.linspace(0.2, 1.0, 50)"
   ]
  },
  {
   "cell_type": "code",
   "execution_count": 261,
   "metadata": {
    "collapsed": false
   },
   "outputs": [],
   "source": [
    "TPR = []\n",
    "Precision = []\n",
    "for t in thres:\n",
    "    TPR.append((y_proba_logit[:,1][TP_idx] > t).sum() / 222.)\n",
    "    Precision.append((y_proba_logit[:,1][TP_idx] > t).sum() / ((y_proba_logit[:,1][FP_idx] > t).sum() + (y_proba_logit[:,1][TP_idx] > t).sum()))"
   ]
  },
  {
   "cell_type": "code",
   "execution_count": 263,
   "metadata": {
    "collapsed": false,
    "scrolled": true
   },
   "outputs": [
    {
     "data": {
      "text/plain": [
       "<matplotlib.text.Text at 0x7fbd293983d0>"
      ]
     },
     "execution_count": 263,
     "metadata": {},
     "output_type": "execute_result"
    },
    {
     "data": {
      "image/png": "[encoded data removed]",
      "text/plain": [
       "<matplotlib.figure.Figure at 0x7fbd284ccb10>"
      ]
     },
     "metadata": {},
     "output_type": "display_data"
    }
   ],
   "source": [
    "plt.plot(thres, TPR, label='Recall')\n",
    "plt.plot(thres, Precision, label='Precision')\n",
    "plt.legend()\n",
    "plt.xlabel('Threshold')"
   ]
  },
  {
   "cell_type": "code",
   "execution_count": 267,
   "metadata": {
    "collapsed": false
   },
   "outputs": [
    {
     "data": {
      "text/html": [
       "<div>\n",
       "<table border=\"1\" class=\"dataframe\">\n",
       "  <thead>\n",
       "    <tr style=\"text-align: right;\">\n",
       "      <th></th>\n",
       "      <th>0</th>\n",
       "      <th>1</th>\n",
       "      <th>2</th>\n",
       "      <th>3</th>\n",
       "      <th>4</th>\n",
       "    </tr>\n",
       "  </thead>\n",
       "  <tbody>\n",
       "    <tr>\n",
       "      <th>Lev</th>\n",
       "      <td>6.000000</td>\n",
       "      <td>6.000</td>\n",
       "      <td>6.000</td>\n",
       "      <td>5.000</td>\n",
       "      <td>5.00</td>\n",
       "    </tr>\n",
       "    <tr>\n",
       "      <th>AgeDif_pitching</th>\n",
       "      <td>-0.833333</td>\n",
       "      <td>-1.000</td>\n",
       "      <td>-0.100</td>\n",
       "      <td>-2.300</td>\n",
       "      <td>-1.20</td>\n",
       "    </tr>\n",
       "    <tr>\n",
       "      <th>Age_pitching</th>\n",
       "      <td>21.000000</td>\n",
       "      <td>22.000</td>\n",
       "      <td>23.000</td>\n",
       "      <td>24.000</td>\n",
       "      <td>25.00</td>\n",
       "    </tr>\n",
       "    <tr>\n",
       "      <th>BF</th>\n",
       "      <td>78.333333</td>\n",
       "      <td>400.000</td>\n",
       "      <td>224.000</td>\n",
       "      <td>173.000</td>\n",
       "      <td>75.00</td>\n",
       "    </tr>\n",
       "    <tr>\n",
       "      <th>Drafted</th>\n",
       "      <td>100.000000</td>\n",
       "      <td>100.000</td>\n",
       "      <td>100.000</td>\n",
       "      <td>100.000</td>\n",
       "      <td>100.00</td>\n",
       "    </tr>\n",
       "    <tr>\n",
       "      <th>ERA</th>\n",
       "      <td>11.714014</td>\n",
       "      <td>3.260</td>\n",
       "      <td>2.290</td>\n",
       "      <td>5.700</td>\n",
       "      <td>2.70</td>\n",
       "    </tr>\n",
       "    <tr>\n",
       "      <th>G_pitching</th>\n",
       "      <td>4.666667</td>\n",
       "      <td>22.000</td>\n",
       "      <td>31.000</td>\n",
       "      <td>9.000</td>\n",
       "      <td>3.00</td>\n",
       "    </tr>\n",
       "    <tr>\n",
       "      <th>HR9</th>\n",
       "      <td>2.746892</td>\n",
       "      <td>1.300</td>\n",
       "      <td>0.200</td>\n",
       "      <td>1.200</td>\n",
       "      <td>1.10</td>\n",
       "    </tr>\n",
       "    <tr>\n",
       "      <th>Height</th>\n",
       "      <td>154.940000</td>\n",
       "      <td>154.940</td>\n",
       "      <td>154.940</td>\n",
       "      <td>154.940</td>\n",
       "      <td>154.94</td>\n",
       "    </tr>\n",
       "    <tr>\n",
       "      <th>IP</th>\n",
       "      <td>18.766667</td>\n",
       "      <td>99.100</td>\n",
       "      <td>51.000</td>\n",
       "      <td>36.100</td>\n",
       "      <td>16.20</td>\n",
       "    </tr>\n",
       "    <tr>\n",
       "      <th>L</th>\n",
       "      <td>4.714286</td>\n",
       "      <td>5.000</td>\n",
       "      <td>3.000</td>\n",
       "      <td>1.000</td>\n",
       "      <td>0.00</td>\n",
       "    </tr>\n",
       "    <tr>\n",
       "      <th>SO/W</th>\n",
       "      <td>8.175506</td>\n",
       "      <td>2.800</td>\n",
       "      <td>2.130</td>\n",
       "      <td>0.920</td>\n",
       "      <td>1.75</td>\n",
       "    </tr>\n",
       "    <tr>\n",
       "      <th>SO9</th>\n",
       "      <td>22.210124</td>\n",
       "      <td>7.600</td>\n",
       "      <td>11.300</td>\n",
       "      <td>5.900</td>\n",
       "      <td>7.60</td>\n",
       "    </tr>\n",
       "    <tr>\n",
       "      <th>SV</th>\n",
       "      <td>0.000000</td>\n",
       "      <td>0.000</td>\n",
       "      <td>9.000</td>\n",
       "      <td>0.000</td>\n",
       "      <td>0.00</td>\n",
       "    </tr>\n",
       "    <tr>\n",
       "      <th>Throws</th>\n",
       "      <td>1.000000</td>\n",
       "      <td>1.000</td>\n",
       "      <td>1.000</td>\n",
       "      <td>1.000</td>\n",
       "      <td>1.00</td>\n",
       "    </tr>\n",
       "    <tr>\n",
       "      <th>W</th>\n",
       "      <td>5.785714</td>\n",
       "      <td>5.000</td>\n",
       "      <td>3.000</td>\n",
       "      <td>1.000</td>\n",
       "      <td>2.00</td>\n",
       "    </tr>\n",
       "    <tr>\n",
       "      <th>WHIP</th>\n",
       "      <td>3.614952</td>\n",
       "      <td>1.007</td>\n",
       "      <td>1.431</td>\n",
       "      <td>1.899</td>\n",
       "      <td>1.38</td>\n",
       "    </tr>\n",
       "    <tr>\n",
       "      <th>WP</th>\n",
       "      <td>8.142857</td>\n",
       "      <td>2.000</td>\n",
       "      <td>1.000</td>\n",
       "      <td>4.000</td>\n",
       "      <td>0.00</td>\n",
       "    </tr>\n",
       "    <tr>\n",
       "      <th>Weight</th>\n",
       "      <td>190.000000</td>\n",
       "      <td>190.000</td>\n",
       "      <td>190.000</td>\n",
       "      <td>190.000</td>\n",
       "      <td>190.00</td>\n",
       "    </tr>\n",
       "  </tbody>\n",
       "</table>\n",
       "</div>"
      ],
      "text/plain": [
       "                          0        1        2        3       4\n",
       "Lev                6.000000    6.000    6.000    5.000    5.00\n",
       "AgeDif_pitching   -0.833333   -1.000   -0.100   -2.300   -1.20\n",
       "Age_pitching      21.000000   22.000   23.000   24.000   25.00\n",
       "BF                78.333333  400.000  224.000  173.000   75.00\n",
       "Drafted          100.000000  100.000  100.000  100.000  100.00\n",
       "ERA               11.714014    3.260    2.290    5.700    2.70\n",
       "G_pitching         4.666667   22.000   31.000    9.000    3.00\n",
       "HR9                2.746892    1.300    0.200    1.200    1.10\n",
       "Height           154.940000  154.940  154.940  154.940  154.94\n",
       "IP                18.766667   99.100   51.000   36.100   16.20\n",
       "L                  4.714286    5.000    3.000    1.000    0.00\n",
       "SO/W               8.175506    2.800    2.130    0.920    1.75\n",
       "SO9               22.210124    7.600   11.300    5.900    7.60\n",
       "SV                 0.000000    0.000    9.000    0.000    0.00\n",
       "Throws             1.000000    1.000    1.000    1.000    1.00\n",
       "W                  5.785714    5.000    3.000    1.000    2.00\n",
       "WHIP               3.614952    1.007    1.431    1.899    1.38\n",
       "WP                 8.142857    2.000    1.000    4.000    0.00\n",
       "Weight           190.000000  190.000  190.000  190.000  190.00"
      ]
     },
     "execution_count": 267,
     "metadata": {},
     "output_type": "execute_result"
    }
   ],
   "source": [
    "X_ver2.drop('Number_row', axis=1).head().T"
   ]
  },
  {
   "cell_type": "code",
   "execution_count": 268,
   "metadata": {
    "collapsed": false
   },
   "outputs": [
    {
     "data": {
      "text/plain": [
       "<matplotlib.text.Text at 0x7fbd29178550>"
      ]
     },
     "execution_count": 268,
     "metadata": {},
     "output_type": "execute_result"
    },
    {
     "data": {
      "image/png": "[encoded data removed]",
      "text/plain": [
       "<matplotlib.figure.Figure at 0x7fbd2924e990>"
      ]
     },
     "metadata": {},
     "output_type": "display_data"
    }
   ],
   "source": [
    "\n",
    "importances = RF.feature_importances_\n",
    "indices = np.argsort(importances)[::-1]\n",
    "plt.figure(figsize=(20,12))\n",
    "_ = plt.bar(range(X_train.shape[1]), importances[indices], align='center', label = X_train.columns[indices], color='green')\n",
    "_ = plt.xticks(range(X_train.shape[1]), X_train.columns[indices], rotation=80)\n",
    "plt.grid(True)\n",
    "plt.xlabel('Features', fontsize=14, fontweight='bold', style='italic')\n",
    "plt.ylabel('Relative Importance', fontsize=14, fontweight='bold', style='italic')\n",
    "plt.title('Figure 1: Random Undersampling', fontsize=16)\n",
    "\n"
   ]
  },
  {
   "cell_type": "code",
   "execution_count": 274,
   "metadata": {
    "collapsed": true
   },
   "outputs": [],
   "source": [
    "sorted_ix = np.argsort(f_regression(X_resampled, y_resampled)[1])"
   ]
  },
  {
   "cell_type": "code",
   "execution_count": 275,
   "metadata": {
    "collapsed": false,
    "scrolled": true
   },
   "outputs": [
    {
     "data": {
      "text/plain": [
       "[('Lev', 9.3068426204334364e-74),\n",
       " ('W', 9.0515638705714198e-43),\n",
       " ('IP', 1.4880634594341871e-26),\n",
       " ('Drafted', 1.5293776325530845e-23),\n",
       " ('BF', 2.1863948310613192e-23),\n",
       " ('Weight', 3.5910132601610574e-23),\n",
       " ('L', 1.6295369401072979e-22),\n",
       " ('AgeDif_pitching', 1.0272469211480599e-20),\n",
       " ('SO9', 1.5124418040936471e-19),\n",
       " ('SO/W', 1.9048277746758295e-18),\n",
       " ('Number_row', 8.8041561669854441e-13),\n",
       " ('G_pitching', 1.5963137461405463e-10),\n",
       " ('SV', 2.1492637225482847e-05),\n",
       " ('WP', 0.00081392032278829369),\n",
       " ('Height', 0.0012193485799165335),\n",
       " ('HR9', 0.0075091402880290477),\n",
       " ('WHIP', 0.065471141352417148),\n",
       " ('ERA', 0.16453994043633824),\n",
       " ('Throws', 0.17311766383844931),\n",
       " ('Age_pitching', 0.54735989978577915)]"
      ]
     },
     "execution_count": 275,
     "metadata": {},
     "output_type": "execute_result"
    }
   ],
   "source": [
    "zip(X_ver2.columns[sorted_ix], f_regression(X_resampled, y_resampled)[1][sorted_ix])"
   ]
  },
  {
   "cell_type": "code",
   "execution_count": null,
   "metadata": {
    "collapsed": true
   },
   "outputs": [],
   "source": []
  },
  {
   "cell_type": "code",
   "execution_count": null,
   "metadata": {
    "collapsed": true
   },
   "outputs": [],
   "source": []
  },
  {
   "cell_type": "code",
   "execution_count": 11,
   "metadata": {
    "collapsed": true
   },
   "outputs": [],
   "source": [
    "pca = PCA()"
   ]
  },
  {
   "cell_type": "code",
   "execution_count": 14,
   "metadata": {
    "collapsed": false
   },
   "outputs": [],
   "source": [
    "X_pca = pca.fit_transform(X_ver2)"
   ]
  },
  {
   "cell_type": "code",
   "execution_count": 19,
   "metadata": {
    "collapsed": false
   },
   "outputs": [
    {
     "data": {
      "text/plain": [
       "array([[ -1.29783298e+02,  -4.83981924e+01,   3.98907895e+00, ...,\n",
       "          6.45516250e-01,  -4.50102700e-03,   3.75286410e-01],\n",
       "       [  2.01940173e+02,  -6.22372208e+01,   4.55601871e+00, ...,\n",
       "          5.73986062e-01,  -3.40746585e-01,  -2.97053133e-02],\n",
       "       [  2.01805624e+01,  -5.48349197e+01,   4.22881414e+00, ...,\n",
       "          6.21953776e-01,  -2.14841097e-01,  -1.58879008e-01],\n",
       "       ..., \n",
       "       [  4.54457377e+02,   2.82727262e+01,  -9.60067199e-01, ...,\n",
       "         -3.33719005e-01,  -1.92459401e-01,   1.77840715e-02],\n",
       "       [  1.11461148e+02,   4.24419324e+01,  -1.45920735e+00, ...,\n",
       "         -3.03398146e-01,   1.52889161e-01,  -1.55354661e-01],\n",
       "       [ -6.17249683e+01,   4.91054056e+01,  -1.32720482e+00, ...,\n",
       "         -3.23710419e-01,  -1.29169519e-01,  -9.72408549e-02]])"
      ]
     },
     "execution_count": 19,
     "metadata": {},
     "output_type": "execute_result"
    }
   ],
   "source": [
    "X_pca"
   ]
  },
  {
   "cell_type": "code",
   "execution_count": 279,
   "metadata": {
    "collapsed": false
   },
   "outputs": [
    {
     "data": {
      "text/plain": [
       "Index([u'Number_row', u'Lev', u'AgeDif_pitching', u'Age_pitching', u'BF',\n",
       "       u'Drafted', u'ERA', u'G_pitching', u'HR9', u'Height', u'IP', u'L',\n",
       "       u'SO/W', u'SO9', u'SV', u'Throws', u'W', u'WHIP', u'WP', u'Weight'],\n",
       "      dtype='object')"
      ]
     },
     "execution_count": 279,
     "metadata": {},
     "output_type": "execute_result"
    }
   ],
   "source": [
    "X_ver2.columns"
   ]
  },
  {
   "cell_type": "code",
   "execution_count": null,
   "metadata": {
    "collapsed": false
   },
   "outputs": [],
   "source": [
    "_ = scatter_matrix(X_ver2, alpha=0.2, figsize=(6, 6), diagonal='kde')"
   ]
  },
  {
   "cell_type": "markdown",
   "metadata": {},
   "source": [
    "## Dropping anything AFTER the first promotion year"
   ]
  },
  {
   "cell_type": "code",
   "execution_count": 4,
   "metadata": {
    "collapsed": false
   },
   "outputs": [],
   "source": [
    "ix = []\n",
    "for i, y in X_ver2[X_ver2['Rookie?'] == 1][['player_id', 'Year']].values:\n",
    "    ix.extend(X_ver2[(X_ver2['player_id'] == i) & (X_ver2['Year'] > y)].index)"
   ]
  },
  {
   "cell_type": "code",
   "execution_count": 5,
   "metadata": {
    "collapsed": false
   },
   "outputs": [
    {
     "data": {
      "text/plain": [
       "3725"
      ]
     },
     "execution_count": 5,
     "metadata": {},
     "output_type": "execute_result"
    }
   ],
   "source": [
    "len(ix)"
   ]
  },
  {
   "cell_type": "code",
   "execution_count": 6,
   "metadata": {
    "collapsed": false
   },
   "outputs": [
    {
     "data": {
      "text/plain": [
       "array([[11114,  2004],\n",
       "       [11132,  2015],\n",
       "       [11157,  2006],\n",
       "       ..., \n",
       "       [38085,  2006],\n",
       "       [38098,  2005],\n",
       "       [38104,  2013]])"
      ]
     },
     "execution_count": 6,
     "metadata": {},
     "output_type": "execute_result"
    }
   ],
   "source": [
    "X_ver2[X_ver2['Rookie?'] == 1][['player_id', 'Year']].values"
   ]
  },
  {
   "cell_type": "code",
   "execution_count": 7,
   "metadata": {
    "collapsed": false
   },
   "outputs": [
    {
     "data": {
      "text/plain": [
       "(77151, 23)"
      ]
     },
     "execution_count": 7,
     "metadata": {},
     "output_type": "execute_result"
    }
   ],
   "source": [
    "X_ver2.shape"
   ]
  },
  {
   "cell_type": "code",
   "execution_count": 8,
   "metadata": {
    "collapsed": true
   },
   "outputs": [],
   "source": [
    "X_ver2 = X_ver2.drop(X_ver2.index[ix])"
   ]
  },
  {
   "cell_type": "markdown",
   "metadata": {},
   "source": [
    "## Dropping everything before 1999"
   ]
  },
  {
   "cell_type": "code",
   "execution_count": 9,
   "metadata": {
    "collapsed": false
   },
   "outputs": [
    {
     "data": {
      "text/plain": [
       "(4869, 23)"
      ]
     },
     "execution_count": 9,
     "metadata": {},
     "output_type": "execute_result"
    }
   ],
   "source": [
    "X_ver2[X_ver2.Year < 1999].shape"
   ]
  },
  {
   "cell_type": "code",
   "execution_count": 10,
   "metadata": {
    "collapsed": false
   },
   "outputs": [
    {
     "data": {
      "text/plain": [
       "2014    65\n",
       "2005    62\n",
       "2007    58\n",
       "1999    57\n",
       "2012    55\n",
       "2010    53\n",
       "2008    53\n",
       "2006    49\n",
       "2013    49\n",
       "2000    49\n",
       "2011    46\n",
       "2001    46\n",
       "2015    46\n",
       "2004    41\n",
       "2003    41\n",
       "2002    41\n",
       "2009    37\n",
       "Name: Year, dtype: int64"
      ]
     },
     "execution_count": 10,
     "metadata": {},
     "output_type": "execute_result"
    }
   ],
   "source": [
    "X_ver2[X_ver2['Rookie?'] == 1].Year.value_counts()"
   ]
  },
  {
   "cell_type": "code",
   "execution_count": 11,
   "metadata": {
    "collapsed": true
   },
   "outputs": [],
   "source": [
    "X_ver2 = X_ver2[X_ver2.Year >= 1999]"
   ]
  },
  {
   "cell_type": "code",
   "execution_count": 12,
   "metadata": {
    "collapsed": true
   },
   "outputs": [],
   "source": [
    "X_ver2_copy = X_ver2.copy()"
   ]
  },
  {
   "cell_type": "code",
   "execution_count": 13,
   "metadata": {
    "collapsed": true
   },
   "outputs": [],
   "source": [
    "Id = X_ver2_copy.pop('player_id')"
   ]
  },
  {
   "cell_type": "code",
   "execution_count": 14,
   "metadata": {
    "collapsed": true
   },
   "outputs": [],
   "source": [
    "yeaR = X_ver2_copy.pop('Year')"
   ]
  },
  {
   "cell_type": "code",
   "execution_count": 15,
   "metadata": {
    "collapsed": true
   },
   "outputs": [],
   "source": [
    "label = X_ver2_copy.pop('Rookie?')"
   ]
  },
  {
   "cell_type": "code",
   "execution_count": 16,
   "metadata": {
    "collapsed": true
   },
   "outputs": [],
   "source": [
    "X_ver2 = X_ver2.drop('Number_row', axis=1)"
   ]
  },
  {
   "cell_type": "code",
   "execution_count": 17,
   "metadata": {
    "collapsed": false
   },
   "outputs": [
    {
     "data": {
      "text/plain": [
       "Index([u'player_id', u'Year', u'Lev', u'AgeDif_pitching', u'Age_pitching',\n",
       "       u'BF', u'Drafted', u'ERA', u'G_pitching', u'HR9', u'Height', u'IP',\n",
       "       u'L', u'Rookie?', u'SO/W', u'SO9', u'SV', u'Throws', u'W', u'WHIP',\n",
       "       u'WP', u'Weight'],\n",
       "      dtype='object')"
      ]
     },
     "execution_count": 17,
     "metadata": {},
     "output_type": "execute_result"
    }
   ],
   "source": [
    "X_ver2.columns"
   ]
  },
  {
   "cell_type": "code",
   "execution_count": 18,
   "metadata": {
    "collapsed": true
   },
   "outputs": [],
   "source": [
    "X_ver2[['ERA_diff', 'IP_diff', 'HR9_diff', 'L_diff', 'SO/W_diff', 'SO9_diff', 'SV_diff', 'W_diff', 'WHIP_diff', 'WP_diff']] =\\\n",
    "X_ver2[['ERA', 'IP', 'HR9', 'L', 'SO/W', 'SO9', 'SV', 'W', 'WHIP', 'WP']]"
   ]
  },
  {
   "cell_type": "markdown",
   "metadata": {},
   "source": [
    "## Save a copy"
   ]
  },
  {
   "cell_type": "code",
   "execution_count": 19,
   "metadata": {
    "collapsed": true
   },
   "outputs": [],
   "source": [
    "copy_before_new_col = X_ver2.copy()"
   ]
  },
  {
   "cell_type": "code",
   "execution_count": 20,
   "metadata": {
    "collapsed": false
   },
   "outputs": [],
   "source": [
    "X_ver2.index = range(X_ver2.shape[0])"
   ]
  },
  {
   "cell_type": "code",
   "execution_count": 21,
   "metadata": {
    "collapsed": true
   },
   "outputs": [],
   "source": [
    "group_idx = X_ver2.groupby('player_id').groups.values()"
   ]
  },
  {
   "cell_type": "code",
   "execution_count": 22,
   "metadata": {
    "collapsed": false
   },
   "outputs": [],
   "source": [
    "for group in group_idx:\n",
    "    for i, idx in enumerate(group):\n",
    "        if i == 0:\n",
    "            X_ver2.set_value(idx, ['ERA_diff', 'IP_diff', 'HR9_diff', 'L_diff',\n",
    "                                   'SO/W_diff', 'SO9_diff', 'SV_diff', 'W_diff', 'WHIP_diff', 'WP_diff'], 0)\n",
    "        else:\n",
    "            X_ver2.set_value(idx, ['ERA_diff', 'IP_diff', 'HR9_diff', 'L_diff',\n",
    "                                   'SO/W_diff', 'SO9_diff', 'SV_diff', 'W_diff', 'WHIP_diff', 'WP_diff'],\n",
    "                             X_ver2.ix[idx][['ERA', 'IP', 'HR9', 'L', 'SO/W', 'SO9', 'SV', 'W', 'WHIP', 'WP']].values -\\\n",
    "                             X_ver2.ix[idx-1][['ERA', 'IP', 'HR9', 'L', 'SO/W', 'SO9', 'SV', 'W', 'WHIP', 'WP']].values)"
   ]
  },
  {
   "cell_type": "code",
   "execution_count": 26,
   "metadata": {
    "collapsed": true
   },
   "outputs": [],
   "source": [
    "X_ver2.to_csv('batter_808.csv')"
   ]
  },
  {
   "cell_type": "code",
   "execution_count": 312,
   "metadata": {
    "collapsed": false
   },
   "outputs": [],
   "source": [
    "X_ver2_bat = X_ver2.drop(['player_id', 'Year'], axis=1)"
   ]
  },
  {
   "cell_type": "code",
   "execution_count": 313,
   "metadata": {
    "collapsed": true
   },
   "outputs": [],
   "source": [
    "y = X_ver2_bat.pop('Rookie?')"
   ]
  },
  {
   "cell_type": "code",
   "execution_count": null,
   "metadata": {
    "collapsed": true
   },
   "outputs": [],
   "source": []
  },
  {
   "cell_type": "code",
   "execution_count": null,
   "metadata": {
    "collapsed": true
   },
   "outputs": [],
   "source": [
    "Under"
   ]
  },
  {
   "cell_type": "code",
   "execution_count": 195,
   "metadata": {
    "collapsed": false
   },
   "outputs": [],
   "source": [
    "X_train, X_test, y_train, y_test = train_test_split(X_ver2_808x, y)"
   ]
  },
  {
   "cell_type": "code",
   "execution_count": 196,
   "metadata": {
    "collapsed": false
   },
   "outputs": [],
   "source": [
    "rus = RandomUnderSampler()\n",
    "X_resampled, y_resampled = rus.fit_sample(X_train, y_train)"
   ]
  },
  {
   "cell_type": "code",
   "execution_count": 197,
   "metadata": {
    "collapsed": false
   },
   "outputs": [],
   "source": [
    "sm = SMOTE(kind='regular')\n",
    "X_over, y_over = sm.fit_sample(X_train, y_train)"
   ]
  },
  {
   "cell_type": "code",
   "execution_count": 319,
   "metadata": {
    "collapsed": false
   },
   "outputs": [],
   "source": [
    "#logit_mod = Logit(y_resampled, X_resampled).fit()\n",
    "#logit_mod.summary()"
   ]
  },
  {
   "cell_type": "code",
   "execution_count": 198,
   "metadata": {
    "collapsed": true
   },
   "outputs": [],
   "source": [
    "d = {'Regular': [X_train, y_train], 'SMOTE': [X_over, y_over], 'Undersampling': [X_resampled, y_resampled]}"
   ]
  },
  {
   "cell_type": "code",
   "execution_count": 199,
   "metadata": {
    "collapsed": true
   },
   "outputs": [],
   "source": [
    "y_test_copy = y_test.copy()"
   ]
  },
  {
   "cell_type": "code",
   "execution_count": 200,
   "metadata": {
    "collapsed": true
   },
   "outputs": [],
   "source": [
    "y_test_copy.index = range(y_test_copy.shape[0])"
   ]
  },
  {
   "cell_type": "code",
   "execution_count": 201,
   "metadata": {
    "collapsed": false
   },
   "outputs": [],
   "source": [
    "true_idx_0 = y_test_copy[y_test_copy == 0].index"
   ]
  },
  {
   "cell_type": "code",
   "execution_count": 202,
   "metadata": {
    "collapsed": true
   },
   "outputs": [],
   "source": [
    "true_idx_1 = y_test_copy[y_test_copy==1].index"
   ]
  },
  {
   "cell_type": "code",
   "execution_count": 203,
   "metadata": {
    "collapsed": true
   },
   "outputs": [],
   "source": [
    "thres = np.linspace(0.0, 1.0, 100)"
   ]
  },
  {
   "cell_type": "code",
   "execution_count": 204,
   "metadata": {
    "collapsed": false
   },
   "outputs": [
    {
     "data": {
      "text/plain": [
       "[]"
      ]
     },
     "execution_count": 204,
     "metadata": {},
     "output_type": "execute_result"
    }
   ],
   "source": [
    "rec_logit"
   ]
  },
  {
   "cell_type": "code",
   "execution_count": 194,
   "metadata": {
    "collapsed": false
   },
   "outputs": [
    {
     "ename": "NameError",
     "evalue": "name 'd' is not defined",
     "output_type": "error",
     "traceback": [
      "\u001b[1;31m---------------------------------------------------------------------------\u001b[0m",
      "\u001b[1;31mNameError\u001b[0m                                 Traceback (most recent call last)",
      "\u001b[1;32m<ipython-input-194-6274230521cf>\u001b[0m in \u001b[0;36m<module>\u001b[1;34m()\u001b[0m\n\u001b[0;32m     17\u001b[0m \u001b[0mroc_RF\u001b[0m \u001b[1;33m=\u001b[0m \u001b[1;33m[\u001b[0m\u001b[1;33m]\u001b[0m\u001b[1;33m\u001b[0m\u001b[0m\n\u001b[0;32m     18\u001b[0m \u001b[0mroc_GB\u001b[0m \u001b[1;33m=\u001b[0m \u001b[1;33m[\u001b[0m\u001b[1;33m]\u001b[0m\u001b[1;33m\u001b[0m\u001b[0m\n\u001b[1;32m---> 19\u001b[1;33m \u001b[1;32mfor\u001b[0m \u001b[0mtpe\u001b[0m \u001b[1;32min\u001b[0m \u001b[0md\u001b[0m\u001b[1;33m:\u001b[0m\u001b[1;33m\u001b[0m\u001b[0m\n\u001b[0m\u001b[0;32m     20\u001b[0m     \u001b[0mX_x\u001b[0m\u001b[1;33m,\u001b[0m \u001b[0my_y\u001b[0m \u001b[1;33m=\u001b[0m \u001b[0md\u001b[0m\u001b[1;33m[\u001b[0m\u001b[0mtpe\u001b[0m\u001b[1;33m]\u001b[0m\u001b[1;33m\u001b[0m\u001b[0m\n\u001b[0;32m     21\u001b[0m     \u001b[0msklogit\u001b[0m \u001b[1;33m=\u001b[0m \u001b[0mLogisticRegression\u001b[0m\u001b[1;33m(\u001b[0m\u001b[1;33m)\u001b[0m\u001b[1;33m\u001b[0m\u001b[0m\n",
      "\u001b[1;31mNameError\u001b[0m: name 'd' is not defined"
     ]
    }
   ],
   "source": [
    "acc_logit = []\n",
    "acc_RF = []\n",
    "acc_GB = []\n",
    "prec_logit = []\n",
    "prec_RF = []\n",
    "prec_GB = []\n",
    "rec_logit = []\n",
    "rec_RF = []\n",
    "rec_GB = []\n",
    "auc_logit = []\n",
    "auc_RF = []\n",
    "auc_GB = []\n",
    "CM_logit = []\n",
    "CM_RF = []\n",
    "CM_GB = []\n",
    "roc_logit = []\n",
    "roc_RF = []\n",
    "roc_GB = []\n",
    "for tpe in d:\n",
    "    X_x, y_y = d[tpe]\n",
    "    sklogit = LogisticRegression()\n",
    "    RF = RandomForestClassifier(n_estimators=200, n_jobs=4)\n",
    "    GB = GradientBoostingClassifier(n_estimators=500)\n",
    "    sklogit.fit(X_x, y_y)\n",
    "    RF.fit(X_x, y_y)\n",
    "    GB.fit(X_x, y_y)\n",
    "    acc_logit.append(sklogit.score(X_test, y_test))\n",
    "    acc_RF.append(RF.score(X_test, y_test))\n",
    "    acc_GB.append(GB.score(X_test, y_test))\n",
    "    y_pred_logit = sklogit.predict(X_test)\n",
    "    y_pred_RF = RF.predict(X_test)\n",
    "    y_pred_GB = GB.predict(X_test)\n",
    "    y_proba_logit = sklogit.predict_proba(X_test)\n",
    "    y_proba_RF = RF.predict_proba(X_test)\n",
    "    y_proba_GB = GB.predict_proba(X_test)\n",
    "    prec_logit.append(precision_score(y_test, y_pred_logit))\n",
    "    prec_RF.append(precision_score(y_test, y_pred_RF))\n",
    "    prec_GB.append(precision_score(y_test, y_pred_GB))\n",
    "    rec_logit.append(recall_score(y_test, y_pred_logit))\n",
    "    rec_RF.append(recall_score(y_test, y_pred_RF))\n",
    "    rec_GB.append(recall_score(y_test, y_pred_GB))\n",
    "    auc_logit.append(roc_auc_score(y_test, y_pred_logit))\n",
    "    auc_RF.append(roc_auc_score(y_test, y_pred_RF))\n",
    "    auc_GB.append(roc_auc_score(y_test, y_pred_GB))\n",
    "    CM_logit.append(confusion_matrix(y_test, y_pred_logit))\n",
    "    CM_RF.append(confusion_matrix(y_test, y_pred_RF))\n",
    "    CM_GB.append(confusion_matrix(y_test, y_pred_GB))\n",
    "    auc_logit.append(roc_curve(y_test, y_pred_logit))\n",
    "    auc_RF.append(roc_curve(y_test, y_pred_RF))\n",
    "    auc_GB.append(roc_curve(y_test, y_pred_GB))\n",
    "    \n",
    " '''   importances = RF.feature_importances_\n",
    "    indices = np.argsort(importances)[::-1]\n",
    "    fig1 = plt.figure(figsize=(20,12))\n",
    "    _ = plt.bar(range(X_train.shape[1]), importances[indices], align='center', label = X_train.columns[indices], color='green')\n",
    "    _ = plt.xticks(range(X_train.shape[1]), X_train.columns[indices], rotation=80)\n",
    "    plt.grid(True)\n",
    "    plt.xlabel('Features', fontsize=14, fontweight='bold', style='italic')\n",
    "    plt.ylabel('Relative Importance', fontsize=14, fontweight='bold', style='italic')\n",
    "    plt.title(tpe, fontsize=16)\n",
    "    fig1.savefig('/home/jun/Galvanize/capstone/Galvanize_capstone/Images/Presentation/featimp_%s.png' % tpe)\n",
    "    plt.close(fig1)'''\n",
    "    \n",
    "    for y_set in [[y_pred_logit, y_proba_logit, 'Logistic Regression'], [y_pred_RF, y_proba_RF, 'Random Forest'], [y_pred_GB, y_proba_GB, 'Gradient Boosting']]:\n",
    "        y_pred, y_proba, model_name = y_set\n",
    "        TP = confusion_matrix(y_test, y_pred)[1:,1]\n",
    "        pred_idx_1 = np.where(y_pred == 1)\n",
    "        pred_idx_0 = np.where(y_pred == 0)\n",
    "        FP_idx = np.intersect1d(true_idx_0, pred_idx_1)\n",
    "        TP_idx = np.intersect1d(true_idx_1, pred_idx_1)\n",
    "        TPR = []\n",
    "        Precision = []\n",
    "        for t in thres:\n",
    "            TPR.append((y_proba[:,1][TP_idx] > t).sum() / TP)\n",
    "            Precision.append((y_proba[:,1][TP_idx] > t).sum() / ((y_proba[:,1][FP_idx] > t).sum() + (y_proba[:,1][TP_idx] > t).sum()))\n",
    "        fig = plt.figure()\n",
    "        plt.plot(thres, TPR, label='Recall')\n",
    "        plt.plot(thres, Precision, label='Precision')\n",
    "        plt.legend()\n",
    "        plt.xlabel('Threshold')\n",
    "        plt.ylabel('Ratio')\n",
    "        plt.title('Pitchers: ' + tpe + ' + ' + model_name)\n",
    "        fig.savefig('/home/jun/Galvanize/capstone/Galvanize_capstone/Images/Presentation/%s.png' % (tpe + '_' + model_name + '_pitchers'))\n",
    "        plt.close(fig)"
   ]
  },
  {
   "cell_type": "code",
   "execution_count": 391,
   "metadata": {
    "collapsed": false
   },
   "outputs": [
    {
     "data": {
      "text/plain": [
       "[0.75876348789734616, 0.98798483522892977, 0.77258675998833481]"
      ]
     },
     "execution_count": 391,
     "metadata": {},
     "output_type": "execute_result"
    }
   ],
   "source": [
    "acc_logit"
   ]
  },
  {
   "cell_type": "code",
   "execution_count": 392,
   "metadata": {
    "collapsed": false
   },
   "outputs": [
    {
     "data": {
      "text/plain": [
       "[0.82692307692307687, 0.014423076923076924, 0.0625]"
      ]
     },
     "execution_count": 392,
     "metadata": {},
     "output_type": "execute_result"
    }
   ],
   "source": [
    "rec_RF"
   ]
  },
  {
   "cell_type": "code",
   "execution_count": 377,
   "metadata": {
    "collapsed": false
   },
   "outputs": [],
   "source": [
    "acc_under = [acc_logit[0], acc_RF[0], acc_GB[0]]\n",
    "acc_reg = [acc_logit[1], acc_RF[1], acc_GB[1]]\n",
    "acc_SMOTE = [acc_logit[2], acc_RF[2], acc_GB[2]]\n",
    "\n",
    "rec_under = [rec_logit[0], rec_RF[0], rec_GB[0]]\n",
    "rec_reg = [rec_logit[1], rec_RF[1], rec_GB[1]]\n",
    "rec_SMOTE = [rec_logit[2], rec_RF[2], rec_GB[2]]\n",
    "\n",
    "prec_under = [prec_logit[0], prec_RF[0], prec_GB[0]]\n",
    "prec_reg = [prec_logit[1], prec_RF[1], prec_GB[1]]\n",
    "prec_SMOTE = [prec_logit[2], prec_RF[2], prec_GB[2]]\n",
    "\n",
    "auc_under = [auc_logit[0], auc_RF[0], auc_GB[0]]\n",
    "auc_reg = [auc_logit[1], auc_RF[1], auc_GB[1]]\n",
    "auc_SMOTE = [auc_logit[2], auc_RF[2], auc_GB[2]]"
   ]
  },
  {
   "cell_type": "code",
   "execution_count": 398,
   "metadata": {
    "collapsed": false
   },
   "outputs": [
    {
     "data": {
      "image/png": "[encoded data removed]",
      "text/plain": [
       "<matplotlib.figure.Figure at 0x7fbd0b9d0110>"
      ]
     },
     "metadata": {},
     "output_type": "display_data"
    }
   ],
   "source": [
    "N = 3\n",
    "\n",
    "ind = np.arange(N)  # the x locations for the groups\n",
    "width = 0.20       # the width of the bars\n",
    "\n",
    "fig, ax = plt.subplots()\n",
    "rects1 = ax.bar(ind, auc_reg, width, color='#3f2b2c')\n",
    "\n",
    "rects2 = ax.bar(ind + width, auc_under, width, color='#ec3047')\n",
    "\n",
    "rects3 = ax.bar(ind + width + width, auc_SMOTE, width, color='#aca287')\n",
    "\n",
    "# add some text for labels, title and axes ticks\n",
    "ax.set_ylabel('Scores')\n",
    "ax.set_title('AUC (Pitchers)')\n",
    "ax.set_xticks(ind + width + width)\n",
    "ax.set_xticklabels(('Logit', 'RF', 'GB'))\n",
    "\n",
    "ax.legend((rects1[0], rects2[0], rects3[0]), ('Reg', 'Under', 'SMOTE'), loc='right')\n",
    "fig.savefig('/home/jun/Galvanize/capstone/Galvanize_capstone/Images/Presentation/AUC_pit.png')"
   ]
  },
  {
   "cell_type": "code",
   "execution_count": 30,
   "metadata": {
    "collapsed": true
   },
   "outputs": [],
   "source": [
    "X_ver2_808 = X_ver2.copy()"
   ]
  },
  {
   "cell_type": "code",
   "execution_count": 36,
   "metadata": {
    "collapsed": true
   },
   "outputs": [],
   "source": [
    "y = X_ver2_808.pop('Rookie?')"
   ]
  },
  {
   "cell_type": "code",
   "execution_count": 37,
   "metadata": {
    "collapsed": true
   },
   "outputs": [],
   "source": [
    "X_ver2_808x = X_ver2_808.drop(['player_id', 'Year'], axis=1)"
   ]
  },
  {
   "cell_type": "code",
   "execution_count": 78,
   "metadata": {
    "collapsed": true
   },
   "outputs": [],
   "source": [
    "X_ver2_808x = X_ver2_808x.drop(['W', 'L', 'SV', 'W_diff', 'L_diff', 'SV_diff'], axis=1)"
   ]
  },
  {
   "cell_type": "code",
   "execution_count": 79,
   "metadata": {
    "collapsed": false
   },
   "outputs": [],
   "source": [
    "X_train_808, X_test_808, y_train_808, y_test_808 = train_test_split(X_ver2_808x, y, train_size=0.8)\n",
    "sm = SMOTE(kind = 'regular')\n",
    "RU = RandomUnderSampler()"
   ]
  },
  {
   "cell_type": "code",
   "execution_count": 80,
   "metadata": {
    "collapsed": true
   },
   "outputs": [],
   "source": [
    "X_over_808, y_over_808 = sm.fit_sample(X_train_808, y_train_808)\n",
    "X_under_808, y_under_808 = RU.fit_sample(X_train_808, y_train_808)"
   ]
  },
  {
   "cell_type": "code",
   "execution_count": 81,
   "metadata": {
    "collapsed": true
   },
   "outputs": [],
   "source": [
    "x_under_808df = pd.DataFrame(X_under_808)\n",
    "x_under_808df.columns = X_ver2_808x.columns"
   ]
  },
  {
   "cell_type": "code",
   "execution_count": 82,
   "metadata": {
    "collapsed": false
   },
   "outputs": [
    {
     "name": "stdout",
     "output_type": "stream",
     "text": [
      "Optimization terminated successfully.\n",
      "         Current function value: 0.421091\n",
      "         Iterations 7\n"
     ]
    }
   ],
   "source": [
    "stats_logit = Logit(y_under_808, x_under_808df).fit()"
   ]
  },
  {
   "cell_type": "code",
   "execution_count": 83,
   "metadata": {
    "collapsed": false
   },
   "outputs": [
    {
     "data": {
      "text/html": [
       "<table class=\"simpletable\">\n",
       "<caption>Logit Regression Results</caption>\n",
       "<tr>\n",
       "  <th>Dep. Variable:</th>         <td>y</td>        <th>  No. Observations:  </th>   <td>  1386</td>  \n",
       "</tr>\n",
       "<tr>\n",
       "  <th>Model:</th>               <td>Logit</td>      <th>  Df Residuals:      </th>   <td>  1363</td>  \n",
       "</tr>\n",
       "<tr>\n",
       "  <th>Method:</th>               <td>MLE</td>       <th>  Df Model:          </th>   <td>    22</td>  \n",
       "</tr>\n",
       "<tr>\n",
       "  <th>Date:</th>          <td>Tue, 09 Aug 2016</td> <th>  Pseudo R-squ.:     </th>   <td>0.3925</td>  \n",
       "</tr>\n",
       "<tr>\n",
       "  <th>Time:</th>              <td>01:33:23</td>     <th>  Log-Likelihood:    </th>  <td> -583.63</td> \n",
       "</tr>\n",
       "<tr>\n",
       "  <th>converged:</th>           <td>True</td>       <th>  LL-Null:           </th>  <td> -960.70</td> \n",
       "</tr>\n",
       "<tr>\n",
       "  <th> </th>                      <td> </td>        <th>  LLR p-value:       </th> <td>2.861e-145</td>\n",
       "</tr>\n",
       "</table>\n",
       "<table class=\"simpletable\">\n",
       "<tr>\n",
       "         <td></td>            <th>coef</th>     <th>std err</th>      <th>z</th>      <th>P>|z|</th>  <th>[0.025</th>    <th>0.975]</th>  \n",
       "</tr>\n",
       "<tr>\n",
       "  <th>Lev</th>             <td>    0.9258</td> <td>    0.084</td> <td>   10.959</td> <td> 0.000</td> <td>    0.760</td> <td>    1.091</td>\n",
       "</tr>\n",
       "<tr>\n",
       "  <th>AgeDif_pitching</th> <td>    0.4220</td> <td>    0.068</td> <td>    6.247</td> <td> 0.000</td> <td>    0.290</td> <td>    0.554</td>\n",
       "</tr>\n",
       "<tr>\n",
       "  <th>Age_pitching</th>    <td>   -0.5653</td> <td>    0.060</td> <td>   -9.401</td> <td> 0.000</td> <td>   -0.683</td> <td>   -0.447</td>\n",
       "</tr>\n",
       "<tr>\n",
       "  <th>BF</th>              <td>   -0.0224</td> <td>    0.006</td> <td>   -3.462</td> <td> 0.001</td> <td>   -0.035</td> <td>   -0.010</td>\n",
       "</tr>\n",
       "<tr>\n",
       "  <th>Drafted</th>         <td>    0.0027</td> <td>    0.002</td> <td>    1.329</td> <td> 0.184</td> <td>   -0.001</td> <td>    0.007</td>\n",
       "</tr>\n",
       "<tr>\n",
       "  <th>ERA</th>             <td>    0.0642</td> <td>    0.074</td> <td>    0.869</td> <td> 0.385</td> <td>   -0.081</td> <td>    0.209</td>\n",
       "</tr>\n",
       "<tr>\n",
       "  <th>G_pitching</th>      <td>    0.0303</td> <td>    0.007</td> <td>    4.345</td> <td> 0.000</td> <td>    0.017</td> <td>    0.044</td>\n",
       "</tr>\n",
       "<tr>\n",
       "  <th>HR9</th>             <td>    0.0505</td> <td>    0.166</td> <td>    0.304</td> <td> 0.761</td> <td>   -0.275</td> <td>    0.376</td>\n",
       "</tr>\n",
       "<tr>\n",
       "  <th>Height</th>          <td>    0.0124</td> <td>    0.007</td> <td>    1.840</td> <td> 0.066</td> <td>   -0.001</td> <td>    0.026</td>\n",
       "</tr>\n",
       "<tr>\n",
       "  <th>IP</th>              <td>    0.1168</td> <td>    0.028</td> <td>    4.165</td> <td> 0.000</td> <td>    0.062</td> <td>    0.172</td>\n",
       "</tr>\n",
       "<tr>\n",
       "  <th>SO/W</th>            <td>   -0.0108</td> <td>    0.033</td> <td>   -0.324</td> <td> 0.746</td> <td>   -0.076</td> <td>    0.054</td>\n",
       "</tr>\n",
       "<tr>\n",
       "  <th>SO9</th>             <td>    0.1275</td> <td>    0.026</td> <td>    4.870</td> <td> 0.000</td> <td>    0.076</td> <td>    0.179</td>\n",
       "</tr>\n",
       "<tr>\n",
       "  <th>Throws</th>          <td>    0.3605</td> <td>    0.168</td> <td>    2.142</td> <td> 0.032</td> <td>    0.031</td> <td>    0.690</td>\n",
       "</tr>\n",
       "<tr>\n",
       "  <th>WHIP</th>            <td>   -0.7526</td> <td>    0.294</td> <td>   -2.558</td> <td> 0.011</td> <td>   -1.329</td> <td>   -0.176</td>\n",
       "</tr>\n",
       "<tr>\n",
       "  <th>WP</th>              <td>    0.0168</td> <td>    0.025</td> <td>    0.683</td> <td> 0.494</td> <td>   -0.031</td> <td>    0.065</td>\n",
       "</tr>\n",
       "<tr>\n",
       "  <th>Weight</th>          <td>    0.0131</td> <td>    0.004</td> <td>    3.376</td> <td> 0.001</td> <td>    0.006</td> <td>    0.021</td>\n",
       "</tr>\n",
       "<tr>\n",
       "  <th>ERA_diff</th>        <td>   -0.0636</td> <td>    0.062</td> <td>   -1.034</td> <td> 0.301</td> <td>   -0.184</td> <td>    0.057</td>\n",
       "</tr>\n",
       "<tr>\n",
       "  <th>IP_diff</th>         <td>   -0.0043</td> <td>    0.003</td> <td>   -1.543</td> <td> 0.123</td> <td>   -0.010</td> <td>    0.001</td>\n",
       "</tr>\n",
       "<tr>\n",
       "  <th>HR9_diff</th>        <td>   -0.0132</td> <td>    0.143</td> <td>   -0.092</td> <td> 0.927</td> <td>   -0.294</td> <td>    0.267</td>\n",
       "</tr>\n",
       "<tr>\n",
       "  <th>SO/W_diff</th>       <td>   -0.0162</td> <td>    0.030</td> <td>   -0.532</td> <td> 0.595</td> <td>   -0.076</td> <td>    0.043</td>\n",
       "</tr>\n",
       "<tr>\n",
       "  <th>SO9_diff</th>        <td>   -0.0226</td> <td>    0.026</td> <td>   -0.883</td> <td> 0.377</td> <td>   -0.073</td> <td>    0.028</td>\n",
       "</tr>\n",
       "<tr>\n",
       "  <th>WHIP_diff</th>       <td>    0.2463</td> <td>    0.240</td> <td>    1.024</td> <td> 0.306</td> <td>   -0.225</td> <td>    0.718</td>\n",
       "</tr>\n",
       "<tr>\n",
       "  <th>WP_diff</th>         <td>   -0.0186</td> <td>    0.022</td> <td>   -0.865</td> <td> 0.387</td> <td>   -0.061</td> <td>    0.024</td>\n",
       "</tr>\n",
       "</table>"
      ],
      "text/plain": [
       "<class 'statsmodels.iolib.summary.Summary'>\n",
       "\"\"\"\n",
       "                           Logit Regression Results                           \n",
       "==============================================================================\n",
       "Dep. Variable:                      y   No. Observations:                 1386\n",
       "Model:                          Logit   Df Residuals:                     1363\n",
       "Method:                           MLE   Df Model:                           22\n",
       "Date:                Tue, 09 Aug 2016   Pseudo R-squ.:                  0.3925\n",
       "Time:                        01:33:23   Log-Likelihood:                -583.63\n",
       "converged:                       True   LL-Null:                       -960.70\n",
       "                                        LLR p-value:                2.861e-145\n",
       "===================================================================================\n",
       "                      coef    std err          z      P>|z|      [0.025      0.975]\n",
       "-----------------------------------------------------------------------------------\n",
       "Lev                 0.9258      0.084     10.959      0.000       0.760       1.091\n",
       "AgeDif_pitching     0.4220      0.068      6.247      0.000       0.290       0.554\n",
       "Age_pitching       -0.5653      0.060     -9.401      0.000      -0.683      -0.447\n",
       "BF                 -0.0224      0.006     -3.462      0.001      -0.035      -0.010\n",
       "Drafted             0.0027      0.002      1.329      0.184      -0.001       0.007\n",
       "ERA                 0.0642      0.074      0.869      0.385      -0.081       0.209\n",
       "G_pitching          0.0303      0.007      4.345      0.000       0.017       0.044\n",
       "HR9                 0.0505      0.166      0.304      0.761      -0.275       0.376\n",
       "Height              0.0124      0.007      1.840      0.066      -0.001       0.026\n",
       "IP                  0.1168      0.028      4.165      0.000       0.062       0.172\n",
       "SO/W               -0.0108      0.033     -0.324      0.746      -0.076       0.054\n",
       "SO9                 0.1275      0.026      4.870      0.000       0.076       0.179\n",
       "Throws              0.3605      0.168      2.142      0.032       0.031       0.690\n",
       "WHIP               -0.7526      0.294     -2.558      0.011      -1.329      -0.176\n",
       "WP                  0.0168      0.025      0.683      0.494      -0.031       0.065\n",
       "Weight              0.0131      0.004      3.376      0.001       0.006       0.021\n",
       "ERA_diff           -0.0636      0.062     -1.034      0.301      -0.184       0.057\n",
       "IP_diff            -0.0043      0.003     -1.543      0.123      -0.010       0.001\n",
       "HR9_diff           -0.0132      0.143     -0.092      0.927      -0.294       0.267\n",
       "SO/W_diff          -0.0162      0.030     -0.532      0.595      -0.076       0.043\n",
       "SO9_diff           -0.0226      0.026     -0.883      0.377      -0.073       0.028\n",
       "WHIP_diff           0.2463      0.240      1.024      0.306      -0.225       0.718\n",
       "WP_diff            -0.0186      0.022     -0.865      0.387      -0.061       0.024\n",
       "===================================================================================\n",
       "\"\"\""
      ]
     },
     "execution_count": 83,
     "metadata": {},
     "output_type": "execute_result"
    }
   ],
   "source": [
    "stats_logit.summary()"
   ]
  },
  {
   "cell_type": "code",
   "execution_count": 84,
   "metadata": {
    "collapsed": true
   },
   "outputs": [],
   "source": [
    "bad_ix = np.where(stats_logit.pvalues >= 0.05)"
   ]
  },
  {
   "cell_type": "code",
   "execution_count": 85,
   "metadata": {
    "collapsed": false
   },
   "outputs": [
    {
     "data": {
      "text/plain": [
       "Index([u'Drafted', u'ERA', u'HR9', u'Height', u'SO/W', u'WP', u'ERA_diff',\n",
       "       u'IP_diff', u'HR9_diff', u'SO/W_diff', u'SO9_diff', u'WHIP_diff',\n",
       "       u'WP_diff'],\n",
       "      dtype='object')"
      ]
     },
     "execution_count": 85,
     "metadata": {},
     "output_type": "execute_result"
    }
   ],
   "source": [
    "X_ver2_808x.columns[bad_ix]"
   ]
  },
  {
   "cell_type": "code",
   "execution_count": 86,
   "metadata": {
    "collapsed": true
   },
   "outputs": [],
   "source": [
    "sklogit = LogisticRegression()\n",
    "RF = RandomForestClassifier(n_estimators=200, n_jobs=4)"
   ]
  },
  {
   "cell_type": "code",
   "execution_count": 87,
   "metadata": {
    "collapsed": false
   },
   "outputs": [
    {
     "data": {
      "text/plain": [
       "RandomForestClassifier(bootstrap=True, class_weight=None, criterion='gini',\n",
       "            max_depth=None, max_features='auto', max_leaf_nodes=None,\n",
       "            min_samples_leaf=1, min_samples_split=2,\n",
       "            min_weight_fraction_leaf=0.0, n_estimators=200, n_jobs=4,\n",
       "            oob_score=False, random_state=None, verbose=0,\n",
       "            warm_start=False)"
      ]
     },
     "execution_count": 87,
     "metadata": {},
     "output_type": "execute_result"
    }
   ],
   "source": [
    "sklogit.fit(X_under_808, y_under_808)\n",
    "RF.fit(X_under_808, y_under_808)"
   ]
  },
  {
   "cell_type": "code",
   "execution_count": 88,
   "metadata": {
    "collapsed": false
   },
   "outputs": [
    {
     "name": "stdout",
     "output_type": "stream",
     "text": [
      "0.764216972878\n",
      "0.776538349373\n"
     ]
    }
   ],
   "source": [
    "print sklogit.score(X_test_808, y_test_808)\n",
    "print RF.score(X_test_808, y_test_808)"
   ]
  },
  {
   "cell_type": "code",
   "execution_count": 89,
   "metadata": {
    "collapsed": false
   },
   "outputs": [],
   "source": [
    "y_pred_logit = sklogit.predict(X_test_808)\n",
    "y_pred_RF = RF.predict(X_test_808)\n",
    "y_proba_logit = sklogit.predict_proba(X_test_808)\n",
    "y_proba_RF = RF.predict_proba(X_test_808)"
   ]
  },
  {
   "cell_type": "code",
   "execution_count": 90,
   "metadata": {
    "collapsed": false
   },
   "outputs": [
    {
     "name": "stdout",
     "output_type": "stream",
     "text": [
      "0.0392098174199\n",
      "0.0401390644753\n"
     ]
    }
   ],
   "source": [
    "print precision_score(y_test_808, y_pred_logit)\n",
    "print precision_score(y_test_808, y_pred_RF)"
   ]
  },
  {
   "cell_type": "code",
   "execution_count": 91,
   "metadata": {
    "collapsed": false
   },
   "outputs": [
    {
     "name": "stdout",
     "output_type": "stream",
     "text": [
      "0.845161290323\n",
      "0.81935483871\n"
     ]
    }
   ],
   "source": [
    "print recall_score(y_test_808, y_pred_logit)\n",
    "print recall_score(y_test_808, y_pred_RF)"
   ]
  },
  {
   "cell_type": "code",
   "execution_count": 92,
   "metadata": {
    "collapsed": false
   },
   "outputs": [
    {
     "name": "stdout",
     "output_type": "stream",
     "text": [
      "0.804226541482\n",
      "0.797701901325\n"
     ]
    }
   ],
   "source": [
    "print roc_auc_score(y_test_808, y_pred_logit)\n",
    "print roc_auc_score(y_test_808, y_pred_RF)"
   ]
  },
  {
   "cell_type": "code",
   "execution_count": 93,
   "metadata": {
    "collapsed": false
   },
   "outputs": [
    {
     "data": {
      "text/plain": [
       "array([[10351,  3210],\n",
       "       [   24,   131]])"
      ]
     },
     "execution_count": 93,
     "metadata": {},
     "output_type": "execute_result"
    }
   ],
   "source": [
    "confusion_matrix(y_test_808, y_pred_logit)"
   ]
  },
  {
   "cell_type": "code",
   "execution_count": null,
   "metadata": {
    "collapsed": true
   },
   "outputs": [],
   "source": [
    "hist = Histogram(df['mpg'], title=\"df['mpg']\")"
   ]
  },
  {
   "cell_type": "code",
   "execution_count": 118,
   "metadata": {
    "collapsed": false
   },
   "outputs": [
    {
     "data": {
      "text/html": [
       "<div>\n",
       "<table border=\"1\" class=\"dataframe\">\n",
       "  <thead>\n",
       "    <tr style=\"text-align: right;\">\n",
       "      <th></th>\n",
       "      <th>mpg</th>\n",
       "      <th>cyl</th>\n",
       "      <th>displ</th>\n",
       "      <th>hp</th>\n",
       "      <th>weight</th>\n",
       "      <th>accel</th>\n",
       "      <th>yr</th>\n",
       "      <th>origin</th>\n",
       "      <th>name</th>\n",
       "    </tr>\n",
       "  </thead>\n",
       "  <tbody>\n",
       "    <tr>\n",
       "      <th>0</th>\n",
       "      <td>18.0</td>\n",
       "      <td>8</td>\n",
       "      <td>307.0</td>\n",
       "      <td>130</td>\n",
       "      <td>3504</td>\n",
       "      <td>12.0</td>\n",
       "      <td>70</td>\n",
       "      <td>1</td>\n",
       "      <td>chevrolet chevelle malibu</td>\n",
       "    </tr>\n",
       "    <tr>\n",
       "      <th>1</th>\n",
       "      <td>15.0</td>\n",
       "      <td>8</td>\n",
       "      <td>350.0</td>\n",
       "      <td>165</td>\n",
       "      <td>3693</td>\n",
       "      <td>11.5</td>\n",
       "      <td>70</td>\n",
       "      <td>1</td>\n",
       "      <td>buick skylark 320</td>\n",
       "    </tr>\n",
       "    <tr>\n",
       "      <th>2</th>\n",
       "      <td>18.0</td>\n",
       "      <td>8</td>\n",
       "      <td>318.0</td>\n",
       "      <td>150</td>\n",
       "      <td>3436</td>\n",
       "      <td>11.0</td>\n",
       "      <td>70</td>\n",
       "      <td>1</td>\n",
       "      <td>plymouth satellite</td>\n",
       "    </tr>\n",
       "    <tr>\n",
       "      <th>3</th>\n",
       "      <td>16.0</td>\n",
       "      <td>8</td>\n",
       "      <td>304.0</td>\n",
       "      <td>150</td>\n",
       "      <td>3433</td>\n",
       "      <td>12.0</td>\n",
       "      <td>70</td>\n",
       "      <td>1</td>\n",
       "      <td>amc rebel sst</td>\n",
       "    </tr>\n",
       "    <tr>\n",
       "      <th>4</th>\n",
       "      <td>17.0</td>\n",
       "      <td>8</td>\n",
       "      <td>302.0</td>\n",
       "      <td>140</td>\n",
       "      <td>3449</td>\n",
       "      <td>10.5</td>\n",
       "      <td>70</td>\n",
       "      <td>1</td>\n",
       "      <td>ford torino</td>\n",
       "    </tr>\n",
       "    <tr>\n",
       "      <th>5</th>\n",
       "      <td>15.0</td>\n",
       "      <td>8</td>\n",
       "      <td>429.0</td>\n",
       "      <td>198</td>\n",
       "      <td>4341</td>\n",
       "      <td>10.0</td>\n",
       "      <td>70</td>\n",
       "      <td>1</td>\n",
       "      <td>ford galaxie 500</td>\n",
       "    </tr>\n",
       "    <tr>\n",
       "      <th>6</th>\n",
       "      <td>14.0</td>\n",
       "      <td>8</td>\n",
       "      <td>454.0</td>\n",
       "      <td>220</td>\n",
       "      <td>4354</td>\n",
       "      <td>9.0</td>\n",
       "      <td>70</td>\n",
       "      <td>1</td>\n",
       "      <td>chevrolet impala</td>\n",
       "    </tr>\n",
       "    <tr>\n",
       "      <th>7</th>\n",
       "      <td>14.0</td>\n",
       "      <td>8</td>\n",
       "      <td>440.0</td>\n",
       "      <td>215</td>\n",
       "      <td>4312</td>\n",
       "      <td>8.5</td>\n",
       "      <td>70</td>\n",
       "      <td>1</td>\n",
       "      <td>plymouth fury iii</td>\n",
       "    </tr>\n",
       "    <tr>\n",
       "      <th>8</th>\n",
       "      <td>14.0</td>\n",
       "      <td>8</td>\n",
       "      <td>455.0</td>\n",
       "      <td>225</td>\n",
       "      <td>4425</td>\n",
       "      <td>10.0</td>\n",
       "      <td>70</td>\n",
       "      <td>1</td>\n",
       "      <td>pontiac catalina</td>\n",
       "    </tr>\n",
       "    <tr>\n",
       "      <th>9</th>\n",
       "      <td>15.0</td>\n",
       "      <td>8</td>\n",
       "      <td>390.0</td>\n",
       "      <td>190</td>\n",
       "      <td>3850</td>\n",
       "      <td>8.5</td>\n",
       "      <td>70</td>\n",
       "      <td>1</td>\n",
       "      <td>amc ambassador dpl</td>\n",
       "    </tr>\n",
       "    <tr>\n",
       "      <th>10</th>\n",
       "      <td>15.0</td>\n",
       "      <td>8</td>\n",
       "      <td>383.0</td>\n",
       "      <td>170</td>\n",
       "      <td>3563</td>\n",
       "      <td>10.0</td>\n",
       "      <td>70</td>\n",
       "      <td>1</td>\n",
       "      <td>dodge challenger se</td>\n",
       "    </tr>\n",
       "    <tr>\n",
       "      <th>11</th>\n",
       "      <td>14.0</td>\n",
       "      <td>8</td>\n",
       "      <td>340.0</td>\n",
       "      <td>160</td>\n",
       "      <td>3609</td>\n",
       "      <td>8.0</td>\n",
       "      <td>70</td>\n",
       "      <td>1</td>\n",
       "      <td>plymouth 'cuda 340</td>\n",
       "    </tr>\n",
       "    <tr>\n",
       "      <th>12</th>\n",
       "      <td>15.0</td>\n",
       "      <td>8</td>\n",
       "      <td>400.0</td>\n",
       "      <td>150</td>\n",
       "      <td>3761</td>\n",
       "      <td>9.5</td>\n",
       "      <td>70</td>\n",
       "      <td>1</td>\n",
       "      <td>chevrolet monte carlo</td>\n",
       "    </tr>\n",
       "    <tr>\n",
       "      <th>13</th>\n",
       "      <td>14.0</td>\n",
       "      <td>8</td>\n",
       "      <td>455.0</td>\n",
       "      <td>225</td>\n",
       "      <td>3086</td>\n",
       "      <td>10.0</td>\n",
       "      <td>70</td>\n",
       "      <td>1</td>\n",
       "      <td>buick estate wagon (sw)</td>\n",
       "    </tr>\n",
       "    <tr>\n",
       "      <th>14</th>\n",
       "      <td>24.0</td>\n",
       "      <td>4</td>\n",
       "      <td>113.0</td>\n",
       "      <td>95</td>\n",
       "      <td>2372</td>\n",
       "      <td>15.0</td>\n",
       "      <td>70</td>\n",
       "      <td>3</td>\n",
       "      <td>toyota corona mark ii</td>\n",
       "    </tr>\n",
       "    <tr>\n",
       "      <th>15</th>\n",
       "      <td>22.0</td>\n",
       "      <td>6</td>\n",
       "      <td>198.0</td>\n",
       "      <td>95</td>\n",
       "      <td>2833</td>\n",
       "      <td>15.5</td>\n",
       "      <td>70</td>\n",
       "      <td>1</td>\n",
       "      <td>plymouth duster</td>\n",
       "    </tr>\n",
       "    <tr>\n",
       "      <th>16</th>\n",
       "      <td>18.0</td>\n",
       "      <td>6</td>\n",
       "      <td>199.0</td>\n",
       "      <td>97</td>\n",
       "      <td>2774</td>\n",
       "      <td>15.5</td>\n",
       "      <td>70</td>\n",
       "      <td>1</td>\n",
       "      <td>amc hornet</td>\n",
       "    </tr>\n",
       "    <tr>\n",
       "      <th>17</th>\n",
       "      <td>21.0</td>\n",
       "      <td>6</td>\n",
       "      <td>200.0</td>\n",
       "      <td>85</td>\n",
       "      <td>2587</td>\n",
       "      <td>16.0</td>\n",
       "      <td>70</td>\n",
       "      <td>1</td>\n",
       "      <td>ford maverick</td>\n",
       "    </tr>\n",
       "    <tr>\n",
       "      <th>18</th>\n",
       "      <td>27.0</td>\n",
       "      <td>4</td>\n",
       "      <td>97.0</td>\n",
       "      <td>88</td>\n",
       "      <td>2130</td>\n",
       "      <td>14.5</td>\n",
       "      <td>70</td>\n",
       "      <td>3</td>\n",
       "      <td>datsun pl510</td>\n",
       "    </tr>\n",
       "    <tr>\n",
       "      <th>19</th>\n",
       "      <td>26.0</td>\n",
       "      <td>4</td>\n",
       "      <td>97.0</td>\n",
       "      <td>46</td>\n",
       "      <td>1835</td>\n",
       "      <td>20.5</td>\n",
       "      <td>70</td>\n",
       "      <td>2</td>\n",
       "      <td>volkswagen 1131 deluxe sedan</td>\n",
       "    </tr>\n",
       "    <tr>\n",
       "      <th>20</th>\n",
       "      <td>25.0</td>\n",
       "      <td>4</td>\n",
       "      <td>110.0</td>\n",
       "      <td>87</td>\n",
       "      <td>2672</td>\n",
       "      <td>17.5</td>\n",
       "      <td>70</td>\n",
       "      <td>2</td>\n",
       "      <td>peugeot 504</td>\n",
       "    </tr>\n",
       "    <tr>\n",
       "      <th>21</th>\n",
       "      <td>24.0</td>\n",
       "      <td>4</td>\n",
       "      <td>107.0</td>\n",
       "      <td>90</td>\n",
       "      <td>2430</td>\n",
       "      <td>14.5</td>\n",
       "      <td>70</td>\n",
       "      <td>2</td>\n",
       "      <td>audi 100 ls</td>\n",
       "    </tr>\n",
       "    <tr>\n",
       "      <th>22</th>\n",
       "      <td>25.0</td>\n",
       "      <td>4</td>\n",
       "      <td>104.0</td>\n",
       "      <td>95</td>\n",
       "      <td>2375</td>\n",
       "      <td>17.5</td>\n",
       "      <td>70</td>\n",
       "      <td>2</td>\n",
       "      <td>saab 99e</td>\n",
       "    </tr>\n",
       "    <tr>\n",
       "      <th>23</th>\n",
       "      <td>26.0</td>\n",
       "      <td>4</td>\n",
       "      <td>121.0</td>\n",
       "      <td>113</td>\n",
       "      <td>2234</td>\n",
       "      <td>12.5</td>\n",
       "      <td>70</td>\n",
       "      <td>2</td>\n",
       "      <td>bmw 2002</td>\n",
       "    </tr>\n",
       "    <tr>\n",
       "      <th>24</th>\n",
       "      <td>21.0</td>\n",
       "      <td>6</td>\n",
       "      <td>199.0</td>\n",
       "      <td>90</td>\n",
       "      <td>2648</td>\n",
       "      <td>15.0</td>\n",
       "      <td>70</td>\n",
       "      <td>1</td>\n",
       "      <td>amc gremlin</td>\n",
       "    </tr>\n",
       "    <tr>\n",
       "      <th>25</th>\n",
       "      <td>10.0</td>\n",
       "      <td>8</td>\n",
       "      <td>360.0</td>\n",
       "      <td>215</td>\n",
       "      <td>4615</td>\n",
       "      <td>14.0</td>\n",
       "      <td>70</td>\n",
       "      <td>1</td>\n",
       "      <td>ford f250</td>\n",
       "    </tr>\n",
       "    <tr>\n",
       "      <th>26</th>\n",
       "      <td>10.0</td>\n",
       "      <td>8</td>\n",
       "      <td>307.0</td>\n",
       "      <td>200</td>\n",
       "      <td>4376</td>\n",
       "      <td>15.0</td>\n",
       "      <td>70</td>\n",
       "      <td>1</td>\n",
       "      <td>chevy c20</td>\n",
       "    </tr>\n",
       "    <tr>\n",
       "      <th>27</th>\n",
       "      <td>11.0</td>\n",
       "      <td>8</td>\n",
       "      <td>318.0</td>\n",
       "      <td>210</td>\n",
       "      <td>4382</td>\n",
       "      <td>13.5</td>\n",
       "      <td>70</td>\n",
       "      <td>1</td>\n",
       "      <td>dodge d200</td>\n",
       "    </tr>\n",
       "    <tr>\n",
       "      <th>28</th>\n",
       "      <td>9.0</td>\n",
       "      <td>8</td>\n",
       "      <td>304.0</td>\n",
       "      <td>193</td>\n",
       "      <td>4732</td>\n",
       "      <td>18.5</td>\n",
       "      <td>70</td>\n",
       "      <td>1</td>\n",
       "      <td>hi 1200d</td>\n",
       "    </tr>\n",
       "    <tr>\n",
       "      <th>29</th>\n",
       "      <td>27.0</td>\n",
       "      <td>4</td>\n",
       "      <td>97.0</td>\n",
       "      <td>88</td>\n",
       "      <td>2130</td>\n",
       "      <td>14.5</td>\n",
       "      <td>71</td>\n",
       "      <td>3</td>\n",
       "      <td>datsun pl510</td>\n",
       "    </tr>\n",
       "    <tr>\n",
       "      <th>...</th>\n",
       "      <td>...</td>\n",
       "      <td>...</td>\n",
       "      <td>...</td>\n",
       "      <td>...</td>\n",
       "      <td>...</td>\n",
       "      <td>...</td>\n",
       "      <td>...</td>\n",
       "      <td>...</td>\n",
       "      <td>...</td>\n",
       "    </tr>\n",
       "    <tr>\n",
       "      <th>362</th>\n",
       "      <td>28.0</td>\n",
       "      <td>4</td>\n",
       "      <td>112.0</td>\n",
       "      <td>88</td>\n",
       "      <td>2605</td>\n",
       "      <td>19.6</td>\n",
       "      <td>82</td>\n",
       "      <td>1</td>\n",
       "      <td>chevrolet cavalier</td>\n",
       "    </tr>\n",
       "    <tr>\n",
       "      <th>363</th>\n",
       "      <td>27.0</td>\n",
       "      <td>4</td>\n",
       "      <td>112.0</td>\n",
       "      <td>88</td>\n",
       "      <td>2640</td>\n",
       "      <td>18.6</td>\n",
       "      <td>82</td>\n",
       "      <td>1</td>\n",
       "      <td>chevrolet cavalier wagon</td>\n",
       "    </tr>\n",
       "    <tr>\n",
       "      <th>364</th>\n",
       "      <td>34.0</td>\n",
       "      <td>4</td>\n",
       "      <td>112.0</td>\n",
       "      <td>88</td>\n",
       "      <td>2395</td>\n",
       "      <td>18.0</td>\n",
       "      <td>82</td>\n",
       "      <td>1</td>\n",
       "      <td>chevrolet cavalier 2-door</td>\n",
       "    </tr>\n",
       "    <tr>\n",
       "      <th>365</th>\n",
       "      <td>31.0</td>\n",
       "      <td>4</td>\n",
       "      <td>112.0</td>\n",
       "      <td>85</td>\n",
       "      <td>2575</td>\n",
       "      <td>16.2</td>\n",
       "      <td>82</td>\n",
       "      <td>1</td>\n",
       "      <td>pontiac j2000 se hatchback</td>\n",
       "    </tr>\n",
       "    <tr>\n",
       "      <th>366</th>\n",
       "      <td>29.0</td>\n",
       "      <td>4</td>\n",
       "      <td>135.0</td>\n",
       "      <td>84</td>\n",
       "      <td>2525</td>\n",
       "      <td>16.0</td>\n",
       "      <td>82</td>\n",
       "      <td>1</td>\n",
       "      <td>dodge aries se</td>\n",
       "    </tr>\n",
       "    <tr>\n",
       "      <th>367</th>\n",
       "      <td>27.0</td>\n",
       "      <td>4</td>\n",
       "      <td>151.0</td>\n",
       "      <td>90</td>\n",
       "      <td>2735</td>\n",
       "      <td>18.0</td>\n",
       "      <td>82</td>\n",
       "      <td>1</td>\n",
       "      <td>pontiac phoenix</td>\n",
       "    </tr>\n",
       "    <tr>\n",
       "      <th>368</th>\n",
       "      <td>24.0</td>\n",
       "      <td>4</td>\n",
       "      <td>140.0</td>\n",
       "      <td>92</td>\n",
       "      <td>2865</td>\n",
       "      <td>16.4</td>\n",
       "      <td>82</td>\n",
       "      <td>1</td>\n",
       "      <td>ford fairmont futura</td>\n",
       "    </tr>\n",
       "    <tr>\n",
       "      <th>369</th>\n",
       "      <td>36.0</td>\n",
       "      <td>4</td>\n",
       "      <td>105.0</td>\n",
       "      <td>74</td>\n",
       "      <td>1980</td>\n",
       "      <td>15.3</td>\n",
       "      <td>82</td>\n",
       "      <td>2</td>\n",
       "      <td>volkswagen rabbit l</td>\n",
       "    </tr>\n",
       "    <tr>\n",
       "      <th>370</th>\n",
       "      <td>37.0</td>\n",
       "      <td>4</td>\n",
       "      <td>91.0</td>\n",
       "      <td>68</td>\n",
       "      <td>2025</td>\n",
       "      <td>18.2</td>\n",
       "      <td>82</td>\n",
       "      <td>3</td>\n",
       "      <td>mazda glc custom l</td>\n",
       "    </tr>\n",
       "    <tr>\n",
       "      <th>371</th>\n",
       "      <td>31.0</td>\n",
       "      <td>4</td>\n",
       "      <td>91.0</td>\n",
       "      <td>68</td>\n",
       "      <td>1970</td>\n",
       "      <td>17.6</td>\n",
       "      <td>82</td>\n",
       "      <td>3</td>\n",
       "      <td>mazda glc custom</td>\n",
       "    </tr>\n",
       "    <tr>\n",
       "      <th>372</th>\n",
       "      <td>38.0</td>\n",
       "      <td>4</td>\n",
       "      <td>105.0</td>\n",
       "      <td>63</td>\n",
       "      <td>2125</td>\n",
       "      <td>14.7</td>\n",
       "      <td>82</td>\n",
       "      <td>1</td>\n",
       "      <td>plymouth horizon miser</td>\n",
       "    </tr>\n",
       "    <tr>\n",
       "      <th>373</th>\n",
       "      <td>36.0</td>\n",
       "      <td>4</td>\n",
       "      <td>98.0</td>\n",
       "      <td>70</td>\n",
       "      <td>2125</td>\n",
       "      <td>17.3</td>\n",
       "      <td>82</td>\n",
       "      <td>1</td>\n",
       "      <td>mercury lynx l</td>\n",
       "    </tr>\n",
       "    <tr>\n",
       "      <th>374</th>\n",
       "      <td>36.0</td>\n",
       "      <td>4</td>\n",
       "      <td>120.0</td>\n",
       "      <td>88</td>\n",
       "      <td>2160</td>\n",
       "      <td>14.5</td>\n",
       "      <td>82</td>\n",
       "      <td>3</td>\n",
       "      <td>nissan stanza xe</td>\n",
       "    </tr>\n",
       "    <tr>\n",
       "      <th>375</th>\n",
       "      <td>36.0</td>\n",
       "      <td>4</td>\n",
       "      <td>107.0</td>\n",
       "      <td>75</td>\n",
       "      <td>2205</td>\n",
       "      <td>14.5</td>\n",
       "      <td>82</td>\n",
       "      <td>3</td>\n",
       "      <td>honda accord</td>\n",
       "    </tr>\n",
       "    <tr>\n",
       "      <th>376</th>\n",
       "      <td>34.0</td>\n",
       "      <td>4</td>\n",
       "      <td>108.0</td>\n",
       "      <td>70</td>\n",
       "      <td>2245</td>\n",
       "      <td>16.9</td>\n",
       "      <td>82</td>\n",
       "      <td>3</td>\n",
       "      <td>toyota corolla</td>\n",
       "    </tr>\n",
       "    <tr>\n",
       "      <th>377</th>\n",
       "      <td>38.0</td>\n",
       "      <td>4</td>\n",
       "      <td>91.0</td>\n",
       "      <td>67</td>\n",
       "      <td>1965</td>\n",
       "      <td>15.0</td>\n",
       "      <td>82</td>\n",
       "      <td>3</td>\n",
       "      <td>honda civic</td>\n",
       "    </tr>\n",
       "    <tr>\n",
       "      <th>378</th>\n",
       "      <td>32.0</td>\n",
       "      <td>4</td>\n",
       "      <td>91.0</td>\n",
       "      <td>67</td>\n",
       "      <td>1965</td>\n",
       "      <td>15.7</td>\n",
       "      <td>82</td>\n",
       "      <td>3</td>\n",
       "      <td>honda civic (auto)</td>\n",
       "    </tr>\n",
       "    <tr>\n",
       "      <th>379</th>\n",
       "      <td>38.0</td>\n",
       "      <td>4</td>\n",
       "      <td>91.0</td>\n",
       "      <td>67</td>\n",
       "      <td>1995</td>\n",
       "      <td>16.2</td>\n",
       "      <td>82</td>\n",
       "      <td>3</td>\n",
       "      <td>datsun 310 gx</td>\n",
       "    </tr>\n",
       "    <tr>\n",
       "      <th>380</th>\n",
       "      <td>25.0</td>\n",
       "      <td>6</td>\n",
       "      <td>181.0</td>\n",
       "      <td>110</td>\n",
       "      <td>2945</td>\n",
       "      <td>16.4</td>\n",
       "      <td>82</td>\n",
       "      <td>1</td>\n",
       "      <td>buick century limited</td>\n",
       "    </tr>\n",
       "    <tr>\n",
       "      <th>381</th>\n",
       "      <td>38.0</td>\n",
       "      <td>6</td>\n",
       "      <td>262.0</td>\n",
       "      <td>85</td>\n",
       "      <td>3015</td>\n",
       "      <td>17.0</td>\n",
       "      <td>82</td>\n",
       "      <td>1</td>\n",
       "      <td>oldsmobile cutlass ciera (diesel)</td>\n",
       "    </tr>\n",
       "    <tr>\n",
       "      <th>382</th>\n",
       "      <td>26.0</td>\n",
       "      <td>4</td>\n",
       "      <td>156.0</td>\n",
       "      <td>92</td>\n",
       "      <td>2585</td>\n",
       "      <td>14.5</td>\n",
       "      <td>82</td>\n",
       "      <td>1</td>\n",
       "      <td>chrysler lebaron medallion</td>\n",
       "    </tr>\n",
       "    <tr>\n",
       "      <th>383</th>\n",
       "      <td>22.0</td>\n",
       "      <td>6</td>\n",
       "      <td>232.0</td>\n",
       "      <td>112</td>\n",
       "      <td>2835</td>\n",
       "      <td>14.7</td>\n",
       "      <td>82</td>\n",
       "      <td>1</td>\n",
       "      <td>ford granada l</td>\n",
       "    </tr>\n",
       "    <tr>\n",
       "      <th>384</th>\n",
       "      <td>32.0</td>\n",
       "      <td>4</td>\n",
       "      <td>144.0</td>\n",
       "      <td>96</td>\n",
       "      <td>2665</td>\n",
       "      <td>13.9</td>\n",
       "      <td>82</td>\n",
       "      <td>3</td>\n",
       "      <td>toyota celica gt</td>\n",
       "    </tr>\n",
       "    <tr>\n",
       "      <th>385</th>\n",
       "      <td>36.0</td>\n",
       "      <td>4</td>\n",
       "      <td>135.0</td>\n",
       "      <td>84</td>\n",
       "      <td>2370</td>\n",
       "      <td>13.0</td>\n",
       "      <td>82</td>\n",
       "      <td>1</td>\n",
       "      <td>dodge charger 2.2</td>\n",
       "    </tr>\n",
       "    <tr>\n",
       "      <th>386</th>\n",
       "      <td>27.0</td>\n",
       "      <td>4</td>\n",
       "      <td>151.0</td>\n",
       "      <td>90</td>\n",
       "      <td>2950</td>\n",
       "      <td>17.3</td>\n",
       "      <td>82</td>\n",
       "      <td>1</td>\n",
       "      <td>chevrolet camaro</td>\n",
       "    </tr>\n",
       "    <tr>\n",
       "      <th>387</th>\n",
       "      <td>27.0</td>\n",
       "      <td>4</td>\n",
       "      <td>140.0</td>\n",
       "      <td>86</td>\n",
       "      <td>2790</td>\n",
       "      <td>15.6</td>\n",
       "      <td>82</td>\n",
       "      <td>1</td>\n",
       "      <td>ford mustang gl</td>\n",
       "    </tr>\n",
       "    <tr>\n",
       "      <th>388</th>\n",
       "      <td>44.0</td>\n",
       "      <td>4</td>\n",
       "      <td>97.0</td>\n",
       "      <td>52</td>\n",
       "      <td>2130</td>\n",
       "      <td>24.6</td>\n",
       "      <td>82</td>\n",
       "      <td>2</td>\n",
       "      <td>vw pickup</td>\n",
       "    </tr>\n",
       "    <tr>\n",
       "      <th>389</th>\n",
       "      <td>32.0</td>\n",
       "      <td>4</td>\n",
       "      <td>135.0</td>\n",
       "      <td>84</td>\n",
       "      <td>2295</td>\n",
       "      <td>11.6</td>\n",
       "      <td>82</td>\n",
       "      <td>1</td>\n",
       "      <td>dodge rampage</td>\n",
       "    </tr>\n",
       "    <tr>\n",
       "      <th>390</th>\n",
       "      <td>28.0</td>\n",
       "      <td>4</td>\n",
       "      <td>120.0</td>\n",
       "      <td>79</td>\n",
       "      <td>2625</td>\n",
       "      <td>18.6</td>\n",
       "      <td>82</td>\n",
       "      <td>1</td>\n",
       "      <td>ford ranger</td>\n",
       "    </tr>\n",
       "    <tr>\n",
       "      <th>391</th>\n",
       "      <td>31.0</td>\n",
       "      <td>4</td>\n",
       "      <td>119.0</td>\n",
       "      <td>82</td>\n",
       "      <td>2720</td>\n",
       "      <td>19.4</td>\n",
       "      <td>82</td>\n",
       "      <td>1</td>\n",
       "      <td>chevy s-10</td>\n",
       "    </tr>\n",
       "  </tbody>\n",
       "</table>\n",
       "<p>392 rows × 9 columns</p>\n",
       "</div>"
      ],
      "text/plain": [
       "      mpg  cyl  displ   hp  weight  accel  yr  origin  \\\n",
       "0    18.0    8  307.0  130    3504   12.0  70       1   \n",
       "1    15.0    8  350.0  165    3693   11.5  70       1   \n",
       "2    18.0    8  318.0  150    3436   11.0  70       1   \n",
       "3    16.0    8  304.0  150    3433   12.0  70       1   \n",
       "4    17.0    8  302.0  140    3449   10.5  70       1   \n",
       "5    15.0    8  429.0  198    4341   10.0  70       1   \n",
       "6    14.0    8  454.0  220    4354    9.0  70       1   \n",
       "7    14.0    8  440.0  215    4312    8.5  70       1   \n",
       "8    14.0    8  455.0  225    4425   10.0  70       1   \n",
       "9    15.0    8  390.0  190    3850    8.5  70       1   \n",
       "10   15.0    8  383.0  170    3563   10.0  70       1   \n",
       "11   14.0    8  340.0  160    3609    8.0  70       1   \n",
       "12   15.0    8  400.0  150    3761    9.5  70       1   \n",
       "13   14.0    8  455.0  225    3086   10.0  70       1   \n",
       "14   24.0    4  113.0   95    2372   15.0  70       3   \n",
       "15   22.0    6  198.0   95    2833   15.5  70       1   \n",
       "16   18.0    6  199.0   97    2774   15.5  70       1   \n",
       "17   21.0    6  200.0   85    2587   16.0  70       1   \n",
       "18   27.0    4   97.0   88    2130   14.5  70       3   \n",
       "19   26.0    4   97.0   46    1835   20.5  70       2   \n",
       "20   25.0    4  110.0   87    2672   17.5  70       2   \n",
       "21   24.0    4  107.0   90    2430   14.5  70       2   \n",
       "22   25.0    4  104.0   95    2375   17.5  70       2   \n",
       "23   26.0    4  121.0  113    2234   12.5  70       2   \n",
       "24   21.0    6  199.0   90    2648   15.0  70       1   \n",
       "25   10.0    8  360.0  215    4615   14.0  70       1   \n",
       "26   10.0    8  307.0  200    4376   15.0  70       1   \n",
       "27   11.0    8  318.0  210    4382   13.5  70       1   \n",
       "28    9.0    8  304.0  193    4732   18.5  70       1   \n",
       "29   27.0    4   97.0   88    2130   14.5  71       3   \n",
       "..    ...  ...    ...  ...     ...    ...  ..     ...   \n",
       "362  28.0    4  112.0   88    2605   19.6  82       1   \n",
       "363  27.0    4  112.0   88    2640   18.6  82       1   \n",
       "364  34.0    4  112.0   88    2395   18.0  82       1   \n",
       "365  31.0    4  112.0   85    2575   16.2  82       1   \n",
       "366  29.0    4  135.0   84    2525   16.0  82       1   \n",
       "367  27.0    4  151.0   90    2735   18.0  82       1   \n",
       "368  24.0    4  140.0   92    2865   16.4  82       1   \n",
       "369  36.0    4  105.0   74    1980   15.3  82       2   \n",
       "370  37.0    4   91.0   68    2025   18.2  82       3   \n",
       "371  31.0    4   91.0   68    1970   17.6  82       3   \n",
       "372  38.0    4  105.0   63    2125   14.7  82       1   \n",
       "373  36.0    4   98.0   70    2125   17.3  82       1   \n",
       "374  36.0    4  120.0   88    2160   14.5  82       3   \n",
       "375  36.0    4  107.0   75    2205   14.5  82       3   \n",
       "376  34.0    4  108.0   70    2245   16.9  82       3   \n",
       "377  38.0    4   91.0   67    1965   15.0  82       3   \n",
       "378  32.0    4   91.0   67    1965   15.7  82       3   \n",
       "379  38.0    4   91.0   67    1995   16.2  82       3   \n",
       "380  25.0    6  181.0  110    2945   16.4  82       1   \n",
       "381  38.0    6  262.0   85    3015   17.0  82       1   \n",
       "382  26.0    4  156.0   92    2585   14.5  82       1   \n",
       "383  22.0    6  232.0  112    2835   14.7  82       1   \n",
       "384  32.0    4  144.0   96    2665   13.9  82       3   \n",
       "385  36.0    4  135.0   84    2370   13.0  82       1   \n",
       "386  27.0    4  151.0   90    2950   17.3  82       1   \n",
       "387  27.0    4  140.0   86    2790   15.6  82       1   \n",
       "388  44.0    4   97.0   52    2130   24.6  82       2   \n",
       "389  32.0    4  135.0   84    2295   11.6  82       1   \n",
       "390  28.0    4  120.0   79    2625   18.6  82       1   \n",
       "391  31.0    4  119.0   82    2720   19.4  82       1   \n",
       "\n",
       "                                  name  \n",
       "0            chevrolet chevelle malibu  \n",
       "1                    buick skylark 320  \n",
       "2                   plymouth satellite  \n",
       "3                        amc rebel sst  \n",
       "4                          ford torino  \n",
       "5                     ford galaxie 500  \n",
       "6                     chevrolet impala  \n",
       "7                    plymouth fury iii  \n",
       "8                     pontiac catalina  \n",
       "9                   amc ambassador dpl  \n",
       "10                 dodge challenger se  \n",
       "11                  plymouth 'cuda 340  \n",
       "12               chevrolet monte carlo  \n",
       "13             buick estate wagon (sw)  \n",
       "14               toyota corona mark ii  \n",
       "15                     plymouth duster  \n",
       "16                          amc hornet  \n",
       "17                       ford maverick  \n",
       "18                        datsun pl510  \n",
       "19        volkswagen 1131 deluxe sedan  \n",
       "20                         peugeot 504  \n",
       "21                         audi 100 ls  \n",
       "22                            saab 99e  \n",
       "23                            bmw 2002  \n",
       "24                         amc gremlin  \n",
       "25                           ford f250  \n",
       "26                           chevy c20  \n",
       "27                          dodge d200  \n",
       "28                            hi 1200d  \n",
       "29                        datsun pl510  \n",
       "..                                 ...  \n",
       "362                 chevrolet cavalier  \n",
       "363           chevrolet cavalier wagon  \n",
       "364          chevrolet cavalier 2-door  \n",
       "365         pontiac j2000 se hatchback  \n",
       "366                     dodge aries se  \n",
       "367                    pontiac phoenix  \n",
       "368               ford fairmont futura  \n",
       "369                volkswagen rabbit l  \n",
       "370                 mazda glc custom l  \n",
       "371                   mazda glc custom  \n",
       "372             plymouth horizon miser  \n",
       "373                     mercury lynx l  \n",
       "374                   nissan stanza xe  \n",
       "375                       honda accord  \n",
       "376                     toyota corolla  \n",
       "377                        honda civic  \n",
       "378                 honda civic (auto)  \n",
       "379                      datsun 310 gx  \n",
       "380              buick century limited  \n",
       "381  oldsmobile cutlass ciera (diesel)  \n",
       "382         chrysler lebaron medallion  \n",
       "383                     ford granada l  \n",
       "384                   toyota celica gt  \n",
       "385                  dodge charger 2.2  \n",
       "386                   chevrolet camaro  \n",
       "387                    ford mustang gl  \n",
       "388                          vw pickup  \n",
       "389                      dodge rampage  \n",
       "390                        ford ranger  \n",
       "391                         chevy s-10  \n",
       "\n",
       "[392 rows x 9 columns]"
      ]
     },
     "execution_count": 118,
     "metadata": {},
     "output_type": "execute_result"
    }
   ],
   "source": [
    "df"
   ]
  },
  {
   "cell_type": "code",
   "execution_count": 123,
   "metadata": {
    "collapsed": false
   },
   "outputs": [
    {
     "data": {
      "text/html": [
       "<div>\n",
       "<table border=\"1\" class=\"dataframe\">\n",
       "  <thead>\n",
       "    <tr style=\"text-align: right;\">\n",
       "      <th></th>\n",
       "      <th>0</th>\n",
       "      <th>label</th>\n",
       "    </tr>\n",
       "  </thead>\n",
       "  <tbody>\n",
       "    <tr>\n",
       "      <th>0</th>\n",
       "      <td>0.159374</td>\n",
       "      <td>Lev</td>\n",
       "    </tr>\n",
       "    <tr>\n",
       "      <th>1</th>\n",
       "      <td>0.077093</td>\n",
       "      <td>IP</td>\n",
       "    </tr>\n",
       "    <tr>\n",
       "      <th>2</th>\n",
       "      <td>0.073594</td>\n",
       "      <td>BF</td>\n",
       "    </tr>\n",
       "    <tr>\n",
       "      <th>3</th>\n",
       "      <td>0.070509</td>\n",
       "      <td>SO/W</td>\n",
       "    </tr>\n",
       "    <tr>\n",
       "      <th>4</th>\n",
       "      <td>0.062458</td>\n",
       "      <td>SO9</td>\n",
       "    </tr>\n",
       "    <tr>\n",
       "      <th>5</th>\n",
       "      <td>0.049406</td>\n",
       "      <td>AgeDif_pitching</td>\n",
       "    </tr>\n",
       "    <tr>\n",
       "      <th>6</th>\n",
       "      <td>0.045958</td>\n",
       "      <td>G_pitching</td>\n",
       "    </tr>\n",
       "    <tr>\n",
       "      <th>7</th>\n",
       "      <td>0.040619</td>\n",
       "      <td>WHIP</td>\n",
       "    </tr>\n",
       "    <tr>\n",
       "      <th>8</th>\n",
       "      <td>0.038938</td>\n",
       "      <td>Age_pitching</td>\n",
       "    </tr>\n",
       "    <tr>\n",
       "      <th>9</th>\n",
       "      <td>0.037800</td>\n",
       "      <td>Weight</td>\n",
       "    </tr>\n",
       "    <tr>\n",
       "      <th>10</th>\n",
       "      <td>0.037581</td>\n",
       "      <td>ERA</td>\n",
       "    </tr>\n",
       "    <tr>\n",
       "      <th>11</th>\n",
       "      <td>0.033236</td>\n",
       "      <td>Drafted</td>\n",
       "    </tr>\n",
       "    <tr>\n",
       "      <th>12</th>\n",
       "      <td>0.030624</td>\n",
       "      <td>SO/W_diff</td>\n",
       "    </tr>\n",
       "    <tr>\n",
       "      <th>13</th>\n",
       "      <td>0.029966</td>\n",
       "      <td>WP</td>\n",
       "    </tr>\n",
       "    <tr>\n",
       "      <th>14</th>\n",
       "      <td>0.029692</td>\n",
       "      <td>HR9</td>\n",
       "    </tr>\n",
       "    <tr>\n",
       "      <th>15</th>\n",
       "      <td>0.028317</td>\n",
       "      <td>IP_diff</td>\n",
       "    </tr>\n",
       "    <tr>\n",
       "      <th>16</th>\n",
       "      <td>0.027752</td>\n",
       "      <td>ERA_diff</td>\n",
       "    </tr>\n",
       "    <tr>\n",
       "      <th>17</th>\n",
       "      <td>0.027726</td>\n",
       "      <td>WHIP_diff</td>\n",
       "    </tr>\n",
       "    <tr>\n",
       "      <th>18</th>\n",
       "      <td>0.027568</td>\n",
       "      <td>SO9_diff</td>\n",
       "    </tr>\n",
       "    <tr>\n",
       "      <th>19</th>\n",
       "      <td>0.024191</td>\n",
       "      <td>WP_diff</td>\n",
       "    </tr>\n",
       "    <tr>\n",
       "      <th>20</th>\n",
       "      <td>0.023435</td>\n",
       "      <td>HR9_diff</td>\n",
       "    </tr>\n",
       "    <tr>\n",
       "      <th>21</th>\n",
       "      <td>0.018276</td>\n",
       "      <td>Height</td>\n",
       "    </tr>\n",
       "    <tr>\n",
       "      <th>22</th>\n",
       "      <td>0.005886</td>\n",
       "      <td>Throws</td>\n",
       "    </tr>\n",
       "  </tbody>\n",
       "</table>\n",
       "</div>"
      ],
      "text/plain": [
       "           0            label\n",
       "0   0.159374              Lev\n",
       "1   0.077093               IP\n",
       "2   0.073594               BF\n",
       "3   0.070509             SO/W\n",
       "4   0.062458              SO9\n",
       "5   0.049406  AgeDif_pitching\n",
       "6   0.045958       G_pitching\n",
       "7   0.040619             WHIP\n",
       "8   0.038938     Age_pitching\n",
       "9   0.037800           Weight\n",
       "10  0.037581              ERA\n",
       "11  0.033236          Drafted\n",
       "12  0.030624        SO/W_diff\n",
       "13  0.029966               WP\n",
       "14  0.029692              HR9\n",
       "15  0.028317          IP_diff\n",
       "16  0.027752         ERA_diff\n",
       "17  0.027726        WHIP_diff\n",
       "18  0.027568         SO9_diff\n",
       "19  0.024191          WP_diff\n",
       "20  0.023435         HR9_diff\n",
       "21  0.018276           Height\n",
       "22  0.005886           Throws"
      ]
     },
     "execution_count": 123,
     "metadata": {},
     "output_type": "execute_result"
    }
   ],
   "source": [
    "df_imp"
   ]
  },
  {
   "cell_type": "code",
   "execution_count": 143,
   "metadata": {
    "collapsed": false
   },
   "outputs": [
    {
     "data": {
      "image/svg+xml": [
       "<svg class=\"pygal-chart\" id=\"chart-b6440b0b-5c66-4b38-818e-ff412e28317f\" viewBox=\"0 0 800 600\" xmlns=\"http://www.w3.org/2000/svg\" xmlns:xlink=\"http://www.w3.org/1999/xlink\"><!--Generated with pygal 2.2.3 (lxml) ©Kozea 2012-2016 on 2016-08-09--><!--http://pygal.org--><!--http://github.com/Kozea/pygal--><defs><style type=\"text/css\">#chart-b6440b0b-5c66-4b38-818e-ff412e28317f{-webkit-user-select:none;-webkit-font-smoothing:antialiased;font-family:Consolas,&quot;Liberation Mono&quot;,Menlo,Courier,monospace}#chart-b6440b0b-5c66-4b38-818e-ff412e28317f .title{font-family:Consolas,&quot;Liberation Mono&quot;,Menlo,Courier,monospace;font-size:16px}#chart-b6440b0b-5c66-4b38-818e-ff412e28317f .legends .legend text{font-family:Consolas,&quot;Liberation Mono&quot;,Menlo,Courier,monospace;font-size:14px}#chart-b6440b0b-5c66-4b38-818e-ff412e28317f .axis text{font-family:Consolas,&quot;Liberation Mono&quot;,Menlo,Courier,monospace;font-size:10px}#chart-b6440b0b-5c66-4b38-818e-ff412e28317f .axis text.major{font-family:Consolas,&quot;Liberation Mono&quot;,Menlo,Courier,monospace;font-size:10px}#chart-b6440b0b-5c66-4b38-818e-ff412e28317f .text-overlay text.value{font-family:Consolas,&quot;Liberation Mono&quot;,Menlo,Courier,monospace;font-size:16px}#chart-b6440b0b-5c66-4b38-818e-ff412e28317f .text-overlay text.label{font-family:Consolas,&quot;Liberation Mono&quot;,Menlo,Courier,monospace;font-size:10px}#chart-b6440b0b-5c66-4b38-818e-ff412e28317f .tooltip{font-family:Consolas,&quot;Liberation Mono&quot;,Menlo,Courier,monospace;font-size:14px}#chart-b6440b0b-5c66-4b38-818e-ff412e28317f text.no_data{font-family:Consolas,&quot;Liberation Mono&quot;,Menlo,Courier,monospace;font-size:64px}\n",
       "#chart-b6440b0b-5c66-4b38-818e-ff412e28317f{background-color:rgba(249,249,249,1)}#chart-b6440b0b-5c66-4b38-818e-ff412e28317f path,#chart-b6440b0b-5c66-4b38-818e-ff412e28317f line,#chart-b6440b0b-5c66-4b38-818e-ff412e28317f rect,#chart-b6440b0b-5c66-4b38-818e-ff412e28317f circle{-webkit-transition:150ms;-moz-transition:150ms;transition:150ms}#chart-b6440b0b-5c66-4b38-818e-ff412e28317f .graph &gt; .background{fill:rgba(249,249,249,1)}#chart-b6440b0b-5c66-4b38-818e-ff412e28317f .plot &gt; .background{fill:rgba(255,255,255,1)}#chart-b6440b0b-5c66-4b38-818e-ff412e28317f .graph{fill:rgba(0,0,0,.87)}#chart-b6440b0b-5c66-4b38-818e-ff412e28317f text.no_data{fill:rgba(0,0,0,1)}#chart-b6440b0b-5c66-4b38-818e-ff412e28317f .title{fill:rgba(0,0,0,1)}#chart-b6440b0b-5c66-4b38-818e-ff412e28317f .legends .legend text{fill:rgba(0,0,0,.87)}#chart-b6440b0b-5c66-4b38-818e-ff412e28317f .legends .legend:hover text{fill:rgba(0,0,0,1)}#chart-b6440b0b-5c66-4b38-818e-ff412e28317f .axis .line{stroke:rgba(0,0,0,1)}#chart-b6440b0b-5c66-4b38-818e-ff412e28317f .axis .guide.line{stroke:rgba(0,0,0,.54)}#chart-b6440b0b-5c66-4b38-818e-ff412e28317f .axis .major.line{stroke:rgba(0,0,0,.87)}#chart-b6440b0b-5c66-4b38-818e-ff412e28317f .axis text.major{fill:rgba(0,0,0,1)}#chart-b6440b0b-5c66-4b38-818e-ff412e28317f .axis.y .guides:hover .guide.line,#chart-b6440b0b-5c66-4b38-818e-ff412e28317f .line-graph .axis.x .guides:hover .guide.line,#chart-b6440b0b-5c66-4b38-818e-ff412e28317f .stackedline-graph .axis.x .guides:hover .guide.line,#chart-b6440b0b-5c66-4b38-818e-ff412e28317f .xy-graph .axis.x .guides:hover .guide.line{stroke:rgba(0,0,0,1)}#chart-b6440b0b-5c66-4b38-818e-ff412e28317f .axis .guides:hover text{fill:rgba(0,0,0,1)}#chart-b6440b0b-5c66-4b38-818e-ff412e28317f .reactive{fill-opacity:.7;stroke-opacity:.8}#chart-b6440b0b-5c66-4b38-818e-ff412e28317f .ci{stroke:rgba(0,0,0,.87)}#chart-b6440b0b-5c66-4b38-818e-ff412e28317f .reactive.active,#chart-b6440b0b-5c66-4b38-818e-ff412e28317f .active .reactive{fill-opacity:.8;stroke-opacity:.9;stroke-width:4}#chart-b6440b0b-5c66-4b38-818e-ff412e28317f .ci .reactive.active{stroke-width:1.5}#chart-b6440b0b-5c66-4b38-818e-ff412e28317f .series text{fill:rgba(0,0,0,1)}#chart-b6440b0b-5c66-4b38-818e-ff412e28317f .tooltip rect{fill:rgba(255,255,255,1);stroke:rgba(0,0,0,1);-webkit-transition:opacity 150ms;-moz-transition:opacity 150ms;transition:opacity 150ms}#chart-b6440b0b-5c66-4b38-818e-ff412e28317f .tooltip .label{fill:rgba(0,0,0,.87)}#chart-b6440b0b-5c66-4b38-818e-ff412e28317f .tooltip .label{fill:rgba(0,0,0,.87)}#chart-b6440b0b-5c66-4b38-818e-ff412e28317f .tooltip .legend{font-size:.8em;fill:rgba(0,0,0,.54)}#chart-b6440b0b-5c66-4b38-818e-ff412e28317f .tooltip .x_label{font-size:.6em;fill:rgba(0,0,0,1)}#chart-b6440b0b-5c66-4b38-818e-ff412e28317f .tooltip .xlink{font-size:.5em;text-decoration:underline}#chart-b6440b0b-5c66-4b38-818e-ff412e28317f .tooltip .value{font-size:1.5em}#chart-b6440b0b-5c66-4b38-818e-ff412e28317f .bound{font-size:.5em}#chart-b6440b0b-5c66-4b38-818e-ff412e28317f .max-value{font-size:.75em;fill:rgba(0,0,0,.54)}#chart-b6440b0b-5c66-4b38-818e-ff412e28317f .map-element{fill:rgba(255,255,255,1);stroke:rgba(0,0,0,.54) !important}#chart-b6440b0b-5c66-4b38-818e-ff412e28317f .map-element .reactive{fill-opacity:inherit;stroke-opacity:inherit}#chart-b6440b0b-5c66-4b38-818e-ff412e28317f .color-0,#chart-b6440b0b-5c66-4b38-818e-ff412e28317f .color-0 a:visited{stroke:#F44336;fill:#F44336}#chart-b6440b0b-5c66-4b38-818e-ff412e28317f .text-overlay .color-0 text{fill:black}\n",
       "#chart-b6440b0b-5c66-4b38-818e-ff412e28317f text.no_data{text-anchor:middle}#chart-b6440b0b-5c66-4b38-818e-ff412e28317f .guide.line{fill:none}#chart-b6440b0b-5c66-4b38-818e-ff412e28317f .centered{text-anchor:middle}#chart-b6440b0b-5c66-4b38-818e-ff412e28317f .title{text-anchor:middle}#chart-b6440b0b-5c66-4b38-818e-ff412e28317f .legends .legend text{fill-opacity:1}#chart-b6440b0b-5c66-4b38-818e-ff412e28317f .axis.x text{text-anchor:middle}#chart-b6440b0b-5c66-4b38-818e-ff412e28317f .axis.x:not(.web) text[transform]{text-anchor:start}#chart-b6440b0b-5c66-4b38-818e-ff412e28317f .axis.x:not(.web) text[transform].backwards{text-anchor:end}#chart-b6440b0b-5c66-4b38-818e-ff412e28317f .axis.y text{text-anchor:end}#chart-b6440b0b-5c66-4b38-818e-ff412e28317f .axis.y text[transform].backwards{text-anchor:start}#chart-b6440b0b-5c66-4b38-818e-ff412e28317f .axis.y2 text{text-anchor:start}#chart-b6440b0b-5c66-4b38-818e-ff412e28317f .axis.y2 text[transform].backwards{text-anchor:end}#chart-b6440b0b-5c66-4b38-818e-ff412e28317f .axis .guide.line{stroke-dasharray:4,4}#chart-b6440b0b-5c66-4b38-818e-ff412e28317f .axis .major.guide.line{stroke-dasharray:6,6}#chart-b6440b0b-5c66-4b38-818e-ff412e28317f .horizontal .axis.y .guide.line,#chart-b6440b0b-5c66-4b38-818e-ff412e28317f .horizontal .axis.y2 .guide.line,#chart-b6440b0b-5c66-4b38-818e-ff412e28317f .vertical .axis.x .guide.line{opacity:0}#chart-b6440b0b-5c66-4b38-818e-ff412e28317f .horizontal .axis.always_show .guide.line,#chart-b6440b0b-5c66-4b38-818e-ff412e28317f .vertical .axis.always_show .guide.line{opacity:1 !important}#chart-b6440b0b-5c66-4b38-818e-ff412e28317f .axis.y .guides:hover .guide.line,#chart-b6440b0b-5c66-4b38-818e-ff412e28317f .axis.y2 .guides:hover .guide.line,#chart-b6440b0b-5c66-4b38-818e-ff412e28317f .axis.x .guides:hover .guide.line{opacity:1}#chart-b6440b0b-5c66-4b38-818e-ff412e28317f .axis .guides:hover text{opacity:1}#chart-b6440b0b-5c66-4b38-818e-ff412e28317f .nofill{fill:none}#chart-b6440b0b-5c66-4b38-818e-ff412e28317f .subtle-fill{fill-opacity:.2}#chart-b6440b0b-5c66-4b38-818e-ff412e28317f .dot{stroke-width:1px;fill-opacity:1}#chart-b6440b0b-5c66-4b38-818e-ff412e28317f .dot.active{stroke-width:5px}#chart-b6440b0b-5c66-4b38-818e-ff412e28317f .dot.negative{fill:transparent}#chart-b6440b0b-5c66-4b38-818e-ff412e28317f text,#chart-b6440b0b-5c66-4b38-818e-ff412e28317f tspan{stroke:none !important}#chart-b6440b0b-5c66-4b38-818e-ff412e28317f .series text.active{opacity:1}#chart-b6440b0b-5c66-4b38-818e-ff412e28317f .tooltip rect{fill-opacity:.95;stroke-width:.5}#chart-b6440b0b-5c66-4b38-818e-ff412e28317f .tooltip text{fill-opacity:1}#chart-b6440b0b-5c66-4b38-818e-ff412e28317f .showable{visibility:hidden}#chart-b6440b0b-5c66-4b38-818e-ff412e28317f .showable.shown{visibility:visible}#chart-b6440b0b-5c66-4b38-818e-ff412e28317f .gauge-background{fill:rgba(229,229,229,1);stroke:none}#chart-b6440b0b-5c66-4b38-818e-ff412e28317f .bg-lines{stroke:rgba(249,249,249,1);stroke-width:2px}</style><script type=\"text/javascript\">window.pygal = window.pygal || {};window.pygal.config = window.pygal.config || {};window.pygal.config['b6440b0b-5c66-4b38-818e-ff412e28317f'] = {&quot;dynamic_print_values&quot;: false, &quot;truncate_label&quot;: null, &quot;inner_radius&quot;: 0, &quot;print_values&quot;: false, &quot;xrange&quot;: null, &quot;box_mode&quot;: &quot;extremes&quot;, &quot;title&quot;: &quot;Feature Importances&quot;, &quot;legend_at_bottom_columns&quot;: null, &quot;height&quot;: 600, &quot;legend_at_bottom&quot;: false, &quot;show_legend&quot;: true, &quot;show_dots&quot;: true, &quot;explicit_size&quot;: false, &quot;y_labels_major&quot;: null, &quot;show_minor_x_labels&quot;: true, &quot;width&quot;: 800, &quot;force_uri_protocol&quot;: &quot;https&quot;, &quot;half_pie&quot;: false, &quot;style&quot;: {&quot;major_label_font_family&quot;: &quot;Consolas, \\&quot;Liberation Mono\\&quot;, Menlo, Courier, monospace&quot;, &quot;title_font_family&quot;: &quot;Consolas, \\&quot;Liberation Mono\\&quot;, Menlo, Courier, monospace&quot;, &quot;stroke_opacity&quot;: &quot;.8&quot;, &quot;legend_font_family&quot;: &quot;Consolas, \\&quot;Liberation Mono\\&quot;, Menlo, Courier, monospace&quot;, &quot;colors&quot;: [&quot;#F44336&quot;, &quot;#3F51B5&quot;, &quot;#009688&quot;, &quot;#FFC107&quot;, &quot;#FF5722&quot;, &quot;#9C27B0&quot;, &quot;#03A9F4&quot;, &quot;#8BC34A&quot;, &quot;#FF9800&quot;, &quot;#E91E63&quot;, &quot;#2196F3&quot;, &quot;#4CAF50&quot;, &quot;#FFEB3B&quot;, &quot;#673AB7&quot;, &quot;#00BCD4&quot;, &quot;#CDDC39&quot;, &quot;#9E9E9E&quot;, &quot;#607D8B&quot;], &quot;legend_font_size&quot;: 14, &quot;no_data_font_family&quot;: &quot;Consolas, \\&quot;Liberation Mono\\&quot;, Menlo, Courier, monospace&quot;, &quot;major_label_font_size&quot;: 10, &quot;value_background&quot;: &quot;rgba(229, 229, 229, 1)&quot;, &quot;ci_colors&quot;: [], &quot;label_font_family&quot;: &quot;Consolas, \\&quot;Liberation Mono\\&quot;, Menlo, Courier, monospace&quot;, &quot;label_font_size&quot;: 10, &quot;tooltip_font_size&quot;: 14, &quot;value_font_size&quot;: 16, &quot;font_family&quot;: &quot;Consolas, \\&quot;Liberation Mono\\&quot;, Menlo, Courier, monospace&quot;, &quot;opacity&quot;: &quot;.7&quot;, &quot;foreground&quot;: &quot;rgba(0, 0, 0, .87)&quot;, &quot;plot_background&quot;: &quot;rgba(255, 255, 255, 1)&quot;, &quot;value_label_font_size&quot;: 10, &quot;value_label_font_family&quot;: &quot;Consolas, \\&quot;Liberation Mono\\&quot;, Menlo, Courier, monospace&quot;, &quot;background&quot;: &quot;rgba(249, 249, 249, 1)&quot;, &quot;no_data_font_size&quot;: 64, &quot;value_colors&quot;: [], &quot;guide_stroke_dasharray&quot;: &quot;4,4&quot;, &quot;transition&quot;: &quot;150ms&quot;, &quot;foreground_subtle&quot;: &quot;rgba(0, 0, 0, .54)&quot;, &quot;value_font_family&quot;: &quot;Consolas, \\&quot;Liberation Mono\\&quot;, Menlo, Courier, monospace&quot;, &quot;tooltip_font_family&quot;: &quot;Consolas, \\&quot;Liberation Mono\\&quot;, Menlo, Courier, monospace&quot;, &quot;title_font_size&quot;: 16, &quot;stroke_opacity_hover&quot;: &quot;.9&quot;, &quot;major_guide_stroke_dasharray&quot;: &quot;6,6&quot;, &quot;opacity_hover&quot;: &quot;.8&quot;, &quot;foreground_strong&quot;: &quot;rgba(0, 0, 0, 1)&quot;}, &quot;x_label_rotation&quot;: 0, &quot;fill&quot;: false, &quot;missing_value_fill_truncation&quot;: &quot;x&quot;, &quot;zero&quot;: 0, &quot;margin_right&quot;: null, &quot;interpolation_parameters&quot;: {}, &quot;x_labels_major&quot;: null, &quot;rounded_bars&quot;: null, &quot;show_y_labels&quot;: true, &quot;dots_size&quot;: 2.5, &quot;show_y_guides&quot;: true, &quot;show_minor_y_labels&quot;: true, &quot;x_labels&quot;: [&quot;Lev&quot;, &quot;IP&quot;, &quot;BF&quot;, &quot;SO/W&quot;, &quot;SO9&quot;, &quot;AgeDif_pitching&quot;, &quot;G_pitching&quot;, &quot;WHIP&quot;, &quot;Age_pitching&quot;, &quot;Weight&quot;, &quot;ERA&quot;, &quot;Drafted&quot;, &quot;SO/W_diff&quot;, &quot;WP&quot;, &quot;HR9&quot;, &quot;IP_diff&quot;, &quot;ERA_diff&quot;, &quot;WHIP_diff&quot;, &quot;SO9_diff&quot;, &quot;WP_diff&quot;, &quot;HR9_diff&quot;, &quot;Height&quot;, &quot;Throws&quot;], &quot;y_title&quot;: null, &quot;order_min&quot;: null, &quot;formatter&quot;: null, &quot;disable_xml_declaration&quot;: false, &quot;strict&quot;: false, &quot;css&quot;: [&quot;file://style.css&quot;, &quot;file://graph.css&quot;], &quot;tooltip_fancy_mode&quot;: true, &quot;defs&quot;: [], &quot;show_only_major_dots&quot;: false, &quot;y_label_rotation&quot;: 0, &quot;show_x_labels&quot;: true, &quot;min_scale&quot;: 4, &quot;show_x_guides&quot;: false, &quot;spacing&quot;: 10, &quot;x_labels_major_count&quot;: null, &quot;pretty_print&quot;: false, &quot;tooltip_border_radius&quot;: 0, &quot;interpolate&quot;: null, &quot;js&quot;: [&quot;//kozea.github.io/pygal.js/2.0.x/pygal-tooltips.min.js&quot;], &quot;y_labels&quot;: null, &quot;stroke_style&quot;: null, &quot;print_labels&quot;: false, &quot;interpolation_precision&quot;: 250, &quot;x_title&quot;: null, &quot;y_labels_major_every&quot;: null, &quot;logarithmic&quot;: false, &quot;legends&quot;: [&quot;Pitching&quot;], &quot;max_scale&quot;: 16, &quot;print_zeroes&quot;: true, &quot;no_data_text&quot;: &quot;No data&quot;, &quot;truncate_legend&quot;: null, &quot;x_labels_major_every&quot;: null, &quot;secondary_range&quot;: null, &quot;legend_box_size&quot;: 12, &quot;no_prefix&quot;: false, &quot;stroke&quot;: true, &quot;stack_from_top&quot;: false, &quot;include_x_axis&quot;: false, &quot;range&quot;: null, &quot;classes&quot;: [&quot;pygal-chart&quot;], &quot;margin_top&quot;: null, &quot;margin_left&quot;: null, &quot;y_labels_major_count&quot;: null, &quot;margin_bottom&quot;: null, &quot;inverse_y_axis&quot;: false, &quot;margin&quot;: 20, &quot;allow_interruptions&quot;: false, &quot;print_values_position&quot;: &quot;center&quot;}</script><script type=\"text/javascript\" xlink:href=\"https://kozea.github.io/pygal.js/2.0.x/pygal-tooltips.min.js\"/></defs><title>Feature Importances</title><g class=\"graph bar-graph vertical\"><rect class=\"background\" height=\"600\" width=\"800\" x=\"0\" y=\"0\"/><g class=\"plot\" transform=\"translate(143, 46)\"><rect class=\"background\" height=\"514\" width=\"636.8\" x=\"0\" y=\"0\"/><g class=\"axis y\"><g class=\"guides\"><path class=\"axis major line\" d=\"M0.000000 504.115385 h636.800000\"/><text class=\"major\" x=\"-5\" y=\"507.615384615\">0</text><title>0</title></g><g class=\"guides\"><path class=\"guide line\" d=\"M0.000000 473.104688 h636.800000\"/><text class=\"\" x=\"-5\" y=\"476.604687911\">0.01</text><title>0.01</title></g><g class=\"guides\"><path class=\"guide line\" d=\"M0.000000 442.093991 h636.800000\"/><text class=\"\" x=\"-5\" y=\"445.593991206\">0.02</text><title>0.02</title></g><g class=\"guides\"><path class=\"guide line\" d=\"M0.000000 411.083295 h636.800000\"/><text class=\"\" x=\"-5\" y=\"414.583294502\">0.03</text><title>0.03</title></g><g class=\"guides\"><path class=\"guide line\" d=\"M0.000000 380.072598 h636.800000\"/><text class=\"\" x=\"-5\" y=\"383.572597798\">0.04</text><title>0.04</title></g><g class=\"guides\"><path class=\"guide line\" d=\"M0.000000 349.061901 h636.800000\"/><text class=\"\" x=\"-5\" y=\"352.561901093\">0.05</text><title>0.05</title></g><g class=\"guides\"><path class=\"guide line\" d=\"M0.000000 318.051204 h636.800000\"/><text class=\"\" x=\"-5\" y=\"321.551204389\">0.06</text><title>0.06</title></g><g class=\"guides\"><path class=\"guide line\" d=\"M0.000000 287.040508 h636.800000\"/><text class=\"\" x=\"-5\" y=\"290.540507684\">0.07</text><title>0.07</title></g><g class=\"guides\"><path class=\"guide line\" d=\"M0.000000 256.029811 h636.800000\"/><text class=\"\" x=\"-5\" y=\"259.52981098\">0.08</text><title>0.08</title></g><g class=\"guides\"><path class=\"guide line\" d=\"M0.000000 225.019114 h636.800000\"/><text class=\"\" x=\"-5\" y=\"228.519114275\">0.09</text><title>0.09</title></g><g class=\"guides\"><path class=\"guide line\" d=\"M0.000000 194.008418 h636.800000\"/><text class=\"\" x=\"-5\" y=\"197.508417571\">0.1</text><title>0.1</title></g><g class=\"guides\"><path class=\"guide line\" d=\"M0.000000 162.997721 h636.800000\"/><text class=\"\" x=\"-5\" y=\"166.497720866\">0.11</text><title>0.11</title></g><g class=\"guides\"><path class=\"guide line\" d=\"M0.000000 131.987024 h636.800000\"/><text class=\"\" x=\"-5\" y=\"135.487024162\">0.12</text><title>0.12</title></g><g class=\"guides\"><path class=\"guide line\" d=\"M0.000000 100.976327 h636.800000\"/><text class=\"\" x=\"-5\" y=\"104.476327458\">0.13</text><title>0.13</title></g><g class=\"guides\"><path class=\"guide line\" d=\"M0.000000 69.965631 h636.800000\"/><text class=\"\" x=\"-5\" y=\"73.4656307531\">0.14</text><title>0.14</title></g><g class=\"guides\"><path class=\"guide line\" d=\"M0.000000 38.954934 h636.800000\"/><text class=\"\" x=\"-5\" y=\"42.4549340487\">0.15</text><title>0.15</title></g></g><g class=\"axis x\"><path class=\"line\" d=\"M0.000000 0.000000 v514.000000\"/><g class=\"guides\"><path class=\"guide line\" d=\"M25.557191 0.000000 v514.000000\"/><text class=\"\" x=\"25.5571906355\" y=\"529.0\">Lev</text></g><g class=\"guides\"><path class=\"guide line\" d=\"M52.179264 0.000000 v514.000000\"/><text class=\"\" x=\"52.179264214\" y=\"529.0\">IP</text></g><g class=\"guides\"><path class=\"guide line\" d=\"M78.801338 0.000000 v514.000000\"/><text class=\"\" x=\"78.8013377926\" y=\"529.0\">BF</text></g><g class=\"guides\"><path class=\"guide line\" d=\"M105.423411 0.000000 v514.000000\"/><text class=\"\" x=\"105.423411371\" y=\"529.0\">SO/W</text></g><g class=\"guides\"><path class=\"guide line\" d=\"M132.045485 0.000000 v514.000000\"/><text class=\"\" x=\"132.04548495\" y=\"529.0\">SO9</text></g><g class=\"guides\"><path class=\"guide line\" d=\"M158.667559 0.000000 v514.000000\"/><text class=\"\" x=\"158.667558528\" y=\"529.0\">Age…</text><title>AgeDif_pitching</title></g><g class=\"guides\"><path class=\"guide line\" d=\"M185.289632 0.000000 v514.000000\"/><text class=\"\" x=\"185.289632107\" y=\"529.0\">G_p…</text><title>G_pitching</title></g><g class=\"guides\"><path class=\"guide line\" d=\"M211.911706 0.000000 v514.000000\"/><text class=\"\" x=\"211.911705686\" y=\"529.0\">WHIP</text></g><g class=\"guides\"><path class=\"guide line\" d=\"M238.533779 0.000000 v514.000000\"/><text class=\"\" x=\"238.533779264\" y=\"529.0\">Age…</text><title>Age_pitching</title></g><g class=\"guides\"><path class=\"guide line\" d=\"M265.155853 0.000000 v514.000000\"/><text class=\"\" x=\"265.155852843\" y=\"529.0\">Wei…</text><title>Weight</title></g><g class=\"guides\"><path class=\"guide line\" d=\"M291.777926 0.000000 v514.000000\"/><text class=\"\" x=\"291.777926421\" y=\"529.0\">ERA</text></g><g class=\"guides\"><path class=\"guide line\" d=\"M318.400000 0.000000 v514.000000\"/><text class=\"\" x=\"318.4\" y=\"529.0\">Dra…</text><title>Drafted</title></g><g class=\"guides\"><path class=\"guide line\" d=\"M345.022074 0.000000 v514.000000\"/><text class=\"\" x=\"345.022073579\" y=\"529.0\">SO/…</text><title>SO/W_diff</title></g><g class=\"guides\"><path class=\"guide line\" d=\"M371.644147 0.000000 v514.000000\"/><text class=\"\" x=\"371.644147157\" y=\"529.0\">WP</text></g><g class=\"guides\"><path class=\"guide line\" d=\"M398.266221 0.000000 v514.000000\"/><text class=\"\" x=\"398.266220736\" y=\"529.0\">HR9</text></g><g class=\"guides\"><path class=\"guide line\" d=\"M424.888294 0.000000 v514.000000\"/><text class=\"\" x=\"424.888294314\" y=\"529.0\">IP_…</text><title>IP_diff</title></g><g class=\"guides\"><path class=\"guide line\" d=\"M451.510368 0.000000 v514.000000\"/><text class=\"\" x=\"451.510367893\" y=\"529.0\">ERA…</text><title>ERA_diff</title></g><g class=\"guides\"><path class=\"guide line\" d=\"M478.132441 0.000000 v514.000000\"/><text class=\"\" x=\"478.132441472\" y=\"529.0\">WHI…</text><title>WHIP_diff</title></g><g class=\"guides\"><path class=\"guide line\" d=\"M504.754515 0.000000 v514.000000\"/><text class=\"\" x=\"504.75451505\" y=\"529.0\">SO9…</text><title>SO9_diff</title></g><g class=\"guides\"><path class=\"guide line\" d=\"M531.376589 0.000000 v514.000000\"/><text class=\"\" x=\"531.376588629\" y=\"529.0\">WP_…</text><title>WP_diff</title></g><g class=\"guides\"><path class=\"guide line\" d=\"M557.998662 0.000000 v514.000000\"/><text class=\"\" x=\"557.998662207\" y=\"529.0\">HR9…</text><title>HR9_diff</title></g><g class=\"guides\"><path class=\"guide line\" d=\"M584.620736 0.000000 v514.000000\"/><text class=\"\" x=\"584.620735786\" y=\"529.0\">Hei…</text><title>Height</title></g><g class=\"guides\"><path class=\"guide line\" d=\"M611.242809 0.000000 v514.000000\"/><text class=\"\" x=\"611.242809365\" y=\"529.0\">Thr…</text><title>Throws</title></g></g><g class=\"series serie-0 color-0\"><g class=\"bars\"><g class=\"bar\"><rect class=\"rect reactive tooltip-trigger\" height=\"494.230769231\" rx=\"0\" ry=\"0\" width=\"20.6161337793\" x=\"15.2491237458\" y=\"9.88461538462\"/><desc class=\"value\">0.1593742875</desc><desc class=\"x centered\">25.5571906355</desc><desc class=\"y centered\">257.0</desc><desc class=\"x_label\">Lev</desc></g><g class=\"bar\"><rect class=\"rect reactive tooltip-trigger\" height=\"239.071887571\" rx=\"0\" ry=\"0\" width=\"20.6161337793\" x=\"41.8711973244\" y=\"265.043497044\"/><desc class=\"value\">0.07709336228</desc><desc class=\"x centered\">52.179264214</desc><desc class=\"y centered\">384.57944083</desc><desc class=\"x_label\">IP</desc></g><g class=\"bar\"><rect class=\"rect reactive tooltip-trigger\" height=\"228.219865239\" rx=\"0\" ry=\"0\" width=\"20.6161337793\" x=\"68.493270903\" y=\"275.895519376\"/><desc class=\"value\">0.07359391742</desc><desc class=\"x centered\">78.8013377926</desc><desc class=\"y centered\">390.005451996</desc><desc class=\"x_label\">BF</desc></g><g class=\"bar\"><rect class=\"rect reactive tooltip-trigger\" height=\"218.652392919\" rx=\"0\" ry=\"0\" width=\"20.6161337793\" x=\"95.1153444816\" y=\"285.462991697\"/><desc class=\"value\">0.0705087006</desc><desc class=\"x centered\">105.423411371</desc><desc class=\"y centered\">394.789188156</desc><desc class=\"x_label\">SO/W</desc></g><g class=\"bar\"><rect class=\"rect reactive tooltip-trigger\" height=\"193.687678797\" rx=\"0\" ry=\"0\" width=\"20.6161337793\" x=\"121.73741806\" y=\"310.427705819\"/><desc class=\"value\">0.06245834482</desc><desc class=\"x centered\">132.04548495</desc><desc class=\"y centered\">407.271545217</desc><desc class=\"x_label\">SO9</desc></g><g class=\"bar\"><rect class=\"rect reactive tooltip-trigger\" height=\"153.212325175\" rx=\"0\" ry=\"0\" width=\"20.6161337793\" x=\"148.359491639\" y=\"350.903059441\"/><desc class=\"value\">0.04940628282</desc><desc class=\"x centered\">158.667558528</desc><desc class=\"y centered\">427.509222028</desc><desc class=\"x_label\">AgeDif_pitching</desc></g><g class=\"bar\"><rect class=\"rect reactive tooltip-trigger\" height=\"142.518747206\" rx=\"0\" ry=\"0\" width=\"20.6161337793\" x=\"174.981565217\" y=\"361.596637409\"/><desc class=\"value\">0.04595793141</desc><desc class=\"x centered\">185.289632107</desc><desc class=\"y centered\">432.856011012</desc><desc class=\"x_label\">G_pitching</desc></g><g class=\"bar\"><rect class=\"rect reactive tooltip-trigger\" height=\"125.96254952\" rx=\"0\" ry=\"0\" width=\"20.6161337793\" x=\"201.603638796\" y=\"378.152835096\"/><desc class=\"value\">0.04061906468</desc><desc class=\"x centered\">211.911705686</desc><desc class=\"y centered\">441.134109856</desc><desc class=\"x_label\">WHIP</desc></g><g class=\"bar\"><rect class=\"rect reactive tooltip-trigger\" height=\"120.748911212\" rx=\"0\" ry=\"0\" width=\"20.6161337793\" x=\"228.225712375\" y=\"383.366473403\"/><desc class=\"value\">0.03893782599</desc><desc class=\"x centered\">238.533779264</desc><desc class=\"y centered\">443.740929009</desc><desc class=\"x_label\">Age_pitching</desc></g><g class=\"bar\"><rect class=\"rect reactive tooltip-trigger\" height=\"117.221690709\" rx=\"0\" ry=\"0\" width=\"20.6161337793\" x=\"254.847785953\" y=\"386.893693906\"/><desc class=\"value\">0.0378004054</desc><desc class=\"x centered\">265.155852843</desc><desc class=\"y centered\">445.504539261</desc><desc class=\"x_label\">Weight</desc></g><g class=\"bar\"><rect class=\"rect reactive tooltip-trigger\" height=\"116.539760452\" rx=\"0\" ry=\"0\" width=\"20.6161337793\" x=\"281.469859532\" y=\"387.575624163\"/><desc class=\"value\">0.03758050377</desc><desc class=\"x centered\">291.777926421</desc><desc class=\"y centered\">445.845504389</desc><desc class=\"x_label\">ERA</desc></g><g class=\"bar\"><rect class=\"rect reactive tooltip-trigger\" height=\"103.068480034\" rx=\"0\" ry=\"0\" width=\"20.6161337793\" x=\"308.09193311\" y=\"401.046904581\"/><desc class=\"value\">0.03323642839</desc><desc class=\"x centered\">318.4</desc><desc class=\"y centered\">452.581144598</desc><desc class=\"x_label\">Drafted</desc></g><g class=\"bar\"><rect class=\"rect reactive tooltip-trigger\" height=\"94.9679819745\" rx=\"0\" ry=\"0\" width=\"20.6161337793\" x=\"334.714006689\" y=\"409.147402641\"/><desc class=\"value\">0.03062426584</desc><desc class=\"x centered\">345.022073579</desc><desc class=\"y centered\">456.631393628</desc><desc class=\"x_label\">SO/W_diff</desc></g><g class=\"bar\"><rect class=\"rect reactive tooltip-trigger\" height=\"92.926056077\" rx=\"0\" ry=\"0\" width=\"20.6161337793\" x=\"361.336080268\" y=\"411.189328538\"/><desc class=\"value\">0.02996580727</desc><desc class=\"x centered\">371.644147157</desc><desc class=\"y centered\">457.652356577</desc><desc class=\"x_label\">WP</desc></g><g class=\"bar\"><rect class=\"rect reactive tooltip-trigger\" height=\"92.0767515507\" rx=\"0\" ry=\"0\" width=\"20.6161337793\" x=\"387.958153846\" y=\"412.038633065\"/><desc class=\"value\">0.02969193257</desc><desc class=\"x centered\">398.266220736</desc><desc class=\"y centered\">458.07700884</desc><desc class=\"x_label\">HR9</desc></g><g class=\"bar\"><rect class=\"rect reactive tooltip-trigger\" height=\"87.8124875463\" rx=\"0\" ry=\"0\" width=\"20.6161337793\" x=\"414.580227425\" y=\"416.302897069\"/><desc class=\"value\">0.02831683802</desc><desc class=\"x centered\">424.888294314</desc><desc class=\"y centered\">460.209140842</desc><desc class=\"x_label\">IP_diff</desc></g><g class=\"bar\"><rect class=\"rect reactive tooltip-trigger\" height=\"86.0610155065\" rx=\"0\" ry=\"0\" width=\"20.6161337793\" x=\"441.202301003\" y=\"418.054369109\"/><desc class=\"value\">0.02775204193</desc><desc class=\"x centered\">451.510367893</desc><desc class=\"y centered\">461.084876862</desc><desc class=\"x_label\">ERA_diff</desc></g><g class=\"bar\"><rect class=\"rect reactive tooltip-trigger\" height=\"85.9794226319\" rx=\"0\" ry=\"0\" width=\"20.6161337793\" x=\"467.824374582\" y=\"418.135961983\"/><desc class=\"value\">0.02772573072</desc><desc class=\"x centered\">478.132441472</desc><desc class=\"y centered\">461.125673299</desc><desc class=\"x_label\">WHIP_diff</desc></g><g class=\"bar\"><rect class=\"rect reactive tooltip-trigger\" height=\"85.491058249\" rx=\"0\" ry=\"0\" width=\"20.6161337793\" x=\"494.446448161\" y=\"418.624326366\"/><desc class=\"value\">0.02756824816</desc><desc class=\"x centered\">504.75451505</desc><desc class=\"y centered\">461.369855491</desc><desc class=\"x_label\">SO9_diff</desc></g><g class=\"bar\"><rect class=\"rect reactive tooltip-trigger\" height=\"75.0176840864\" rx=\"0\" ry=\"0\" width=\"20.6161337793\" x=\"521.068521739\" y=\"429.097700529\"/><desc class=\"value\">0.02419090574</desc><desc class=\"x centered\">531.376588629</desc><desc class=\"y centered\">466.606542572</desc><desc class=\"x_label\">WP_diff</desc></g><g class=\"bar\"><rect class=\"rect reactive tooltip-trigger\" height=\"72.6734746321\" rx=\"0\" ry=\"0\" width=\"20.6161337793\" x=\"547.690595318\" y=\"431.441909983\"/><desc class=\"value\">0.02343496998</desc><desc class=\"x centered\">557.998662207</desc><desc class=\"y centered\">467.778647299</desc><desc class=\"x_label\">HR9_diff</desc></g><g class=\"bar\"><rect class=\"rect reactive tooltip-trigger\" height=\"56.6748126603\" rx=\"0\" ry=\"0\" width=\"20.6161337793\" x=\"574.312668896\" y=\"447.440571955\"/><desc class=\"value\">0.01827589144</desc><desc class=\"x centered\">584.620735786</desc><desc class=\"y centered\">475.777978285</desc><desc class=\"x_label\">Height</desc></g><g class=\"bar\"><rect class=\"rect reactive tooltip-trigger\" height=\"18.2538674643\" rx=\"0\" ry=\"0\" width=\"20.6161337793\" x=\"600.934742475\" y=\"485.861517151\"/><desc class=\"value\">0.005886313242</desc><desc class=\"x centered\">611.242809365</desc><desc class=\"y centered\">494.988450883</desc><desc class=\"x_label\">Throws</desc></g></g></g></g><g class=\"titles\"><text class=\"title plot_title\" x=\"400.0\" y=\"26\">Feature Importances</text></g><g class=\"plot overlay\" transform=\"translate(143, 46)\"><g class=\"series serie-0 color-0\"/></g><g class=\"plot text-overlay\" transform=\"translate(143, 46)\"><g class=\"series serie-0 color-0\"/></g><g class=\"plot tooltip-overlay\" transform=\"translate(143, 46)\"><g class=\"tooltip\" style=\"opacity: 0\" transform=\"translate(0 0)\"><rect class=\"tooltip-box\" height=\"0\" rx=\"0\" ry=\"0\" width=\"0\"/><g class=\"text\"/></g></g><g class=\"legends\" transform=\"translate(10, 56)\"><g class=\"legend reactive activate-serie\" id=\"activate-serie-0\"><rect class=\"color-0 reactive\" height=\"12\" width=\"12\" x=\"0.0\" y=\"1.0\"/><text x=\"17.0\" y=\"11.2\">Pitching</text></g></g><g class=\"legends\" transform=\"translate(790, 56)\"/></g></svg>"
      ],
      "text/plain": [
       "<IPython.core.display.SVG object>"
      ]
     },
     "execution_count": 143,
     "metadata": {},
     "output_type": "execute_result"
    }
   ],
   "source": [
    "from IPython.display import SVG\n",
    "line_chart = pygal.Bar()\n",
    "line_chart.title = 'Feature Importances'\n",
    "line_chart.x_labels = X_train_808.columns[indices]\n",
    "line_chart.add('Pitching', importances[indices])\n",
    "\n",
    "line_chart.render_to_png('feat_pit.png')\n",
    "SVG(filename='routes.svg')\n",
    "#line_chart.render_in_browser()"
   ]
  },
  {
   "cell_type": "code",
   "execution_count": 270,
   "metadata": {
    "collapsed": false
   },
   "outputs": [
    {
     "data": {
      "text/plain": [
       "<matplotlib.text.Text at 0x7f4f8f44e2d0>"
      ]
     },
     "execution_count": 270,
     "metadata": {},
     "output_type": "execute_result"
    },
    {
     "data": {
      "image/png": "[encoded data removed]",
      "text/plain": [
       "<matplotlib.figure.Figure at 0x7f4f981a5910>"
      ]
     },
     "metadata": {},
     "output_type": "display_data"
    }
   ],
   "source": [
    "importances = RF.feature_importances_\n",
    "indices = np.argsort(importances)[::-1]\n",
    "plt.figure(figsize=(20,12))\n",
    "_ = plt.bar(range(X_train_808.shape[1]), importances[indices], label = X_train_808.columns[indices], color='#fc5a50',\n",
    "           edgecolor=None, linewidth=0, alpha = 0.7)\n",
    "_ = plt.xticks(range(X_train_808.shape[1]), X_train_808.columns[indices], rotation=80, fontsize=20, fontname='monospace')\n",
    "_ = plt.yticks(fontname='monospace', fontsize=15)\n",
    "plt.grid(True)\n",
    "#plt.xlabel('Features', fontsize=14, fontweight='bold', style='italic')\n",
    "#plt.ylabel('Relative Importance', fontsize=16, fontweight='bold', style='italic')\n",
    "plt.title('Pitching: Feature Importances', fontsize=30, fontname='monospace')"
   ]
  },
  {
   "cell_type": "code",
   "execution_count": 96,
   "metadata": {
    "collapsed": false
   },
   "outputs": [
    {
     "data": {
      "image/png": "[encoded data removed]",
      "text/plain": [
       "<matplotlib.figure.Figure at 0x7f4fb81cfb10>"
      ]
     },
     "metadata": {},
     "output_type": "display_data"
    }
   ],
   "source": [
    "##### features = range(len(X.columns))\n",
    "grbt = GradientBoostingClassifier(n_estimators=500)\n",
    "grbt.fit(X_under_808, y_under_808)\n",
    "names = X_ver2_808x.columns\n",
    "features = range(len(X_ver2_808x.columns))\n",
    "fig, axs = plot_partial_dependence(grbt, X_under_808, features,\n",
    "                                   feature_names=names,\n",
    "                                   n_jobs=3, grid_resolution=50, figsize=(15, 30),\n",
    "                                   )\n",
    "fig.suptitle('Partial dependence of chance of a pitcher on being promoted to the majors\\n'\n",
    "             'on various yearly stats')\n",
    "for axes in axs:\n",
    "    axes.grid(True)\n",
    "    axes.axhline(0, linestyle='--', color='#ff8080')\n",
    "    axes\n",
    "\n",
    "plt.tight_layout(pad=0.4)\n",
    "plt.subplots_adjust(top=0.95) "
   ]
  },
  {
   "cell_type": "code",
   "execution_count": null,
   "metadata": {
    "collapsed": true
   },
   "outputs": [],
   "source": []
  },
  {
   "cell_type": "code",
   "execution_count": null,
   "metadata": {
    "collapsed": true
   },
   "outputs": [],
   "source": []
  },
  {
   "cell_type": "code",
   "execution_count": null,
   "metadata": {
    "collapsed": true
   },
   "outputs": [],
   "source": []
  },
  {
   "cell_type": "code",
   "execution_count": null,
   "metadata": {
    "collapsed": true
   },
   "outputs": [],
   "source": []
  },
  {
   "cell_type": "code",
   "execution_count": null,
   "metadata": {
    "collapsed": true
   },
   "outputs": [],
   "source": []
  },
  {
   "cell_type": "code",
   "execution_count": null,
   "metadata": {
    "collapsed": true
   },
   "outputs": [],
   "source": []
  },
  {
   "cell_type": "code",
   "execution_count": 245,
   "metadata": {
    "collapsed": false
   },
   "outputs": [
    {
     "data": {
      "text/plain": [
       "0.0    19066\n",
       "1.0      222\n",
       "Name: Rookie?, dtype: int64"
      ]
     },
     "execution_count": 245,
     "metadata": {},
     "output_type": "execute_result"
    }
   ],
   "source": [
    "y_test.value_counts()"
   ]
  },
  {
   "cell_type": "code",
   "execution_count": 271,
   "metadata": {
    "collapsed": true
   },
   "outputs": [],
   "source": [
    "def gbplot_pie(fractions, #values for the wedges\n",
    "              labels, #labels for the wedges\n",
    "              title = '', #title of the pie chart\n",
    "              cm_name = 'Pastel1', #name of the matplotlib colormap to use\n",
    "              autopct = '%1.1f%%', #format the value text on each pie wedge\n",
    "              labeldistance = 1.05, #where to place wedge labels in relation to pie wedges\n",
    "              shadow = True, #shadow around the pie\n",
    "              startangle = 90, #rotate 90 degrees to start the top of the data set on the top of the pie\n",
    "              edgecolor = 'w', #color of pie wedge edges\n",
    "              width = 8, #width of the figure in inches\n",
    "              height = 8, #height of the figure in inches\n",
    "              grouping_threshold = None, #group all wedges below this value into one 'all others' wedge\n",
    "              grouping_label = None): #what the label the grouped wedge\n",
    "    \n",
    "    # if the user passed a threshold value, group all fractions lower than it into one 'misc' pie wedge\n",
    "    if not grouping_threshold==None:\n",
    "        \n",
    "        # if user didn't pass a label, apply a default text\n",
    "        if grouping_label == None:\n",
    "            grouping_label = 'Others'\n",
    "\n",
    "        # select the rows greater than the cutoff value\n",
    "        row_mask = fractions > grouping_threshold\n",
    "        meets_threshold = fractions[row_mask]\n",
    "\n",
    "        # group all other rows below the cutoff value\n",
    "        all_others = pd.Series(fractions[~row_mask].sum())\n",
    "        all_others.index = [grouping_label]\n",
    "\n",
    "        # append the grouped row to the bottom of the rows to display\n",
    "        fractions = meets_threshold.append(all_others)\n",
    "        labels = fractions.index\n",
    "    \n",
    "    # get the color map then pull 1 color from it for each pie wedge we'll draw\n",
    "    color_map = cm.get_cmap(cm_name)\n",
    "    num_of_colors = len(fractions)\n",
    "    colors = color_map([x/float(num_of_colors) for x in range(num_of_colors)])\n",
    "    \n",
    "    # create the figure and an axis to plot on\n",
    "    fig, ax = plt.subplots(figsize=[width, height])\n",
    "    \n",
    "    # plot the pie\n",
    "    wedges = ax.pie(fractions, \n",
    "                    \n",
    "                    labeldistance = labeldistance,\n",
    "                    autopct = autopct,\n",
    "                    colors = ['#fc5a50', colors[1]],\n",
    "                    shadow = shadow,\n",
    "                    explode=(0, 0.2),\n",
    "                    startangle = startangle,\n",
    "                   textprops={'weight':'bold', 'fontsize': 18})\n",
    "    plt.title('Pitchers:\\nPromoted to majors next year?', fontweight='bold', fontsize=20)\n",
    "    # change the edgecolor for each wedge\n",
    "    for wedge in wedges[0]:\n",
    "        wedge.set_edgecolor(edgecolor)\n",
    "    plt.legend(['No', 'Yes'], loc=\"best\", fontsize=16)\n",
    "    # set the title and show the plot\n",
    "    #ax.set_title(title, fontproperties=title_font)\n",
    "    plt.show()"
   ]
  },
  {
   "cell_type": "code",
   "execution_count": 272,
   "metadata": {
    "collapsed": false
   },
   "outputs": [
    {
     "data": {
      "image/png": "[encoded data removed]",
      "text/plain": [
       "<matplotlib.figure.Figure at 0x7f4fa0236f50>"
      ]
     },
     "metadata": {},
     "output_type": "display_data"
    }
   ],
   "source": [
    "gbplot_pie(fractions = X_ver2['Rookie?'].value_counts(),\n",
    "           labels=['No', 'Yes'],\n",
    "           title = 'Cities, by share of records in data set',\n",
    "           \n",
    "           grouping_label = 'All Other Cities')\n"
   ]
  },
  {
   "cell_type": "code",
   "execution_count": 253,
   "metadata": {
    "collapsed": false
   },
   "outputs": [
    {
     "ename": "TypeError",
     "evalue": "pie() got an unexpected keyword argument 'alpha'",
     "output_type": "error",
     "traceback": [
      "\u001b[1;31m---------------------------------------------------------------------------\u001b[0m",
      "\u001b[1;31mTypeError\u001b[0m                                 Traceback (most recent call last)",
      "\u001b[1;32m<ipython-input-253-c4b03fc2ea8b>\u001b[0m in \u001b[0;36m<module>\u001b[1;34m()\u001b[0m\n\u001b[0;32m     20\u001b[0m     \u001b[0mautopct\u001b[0m\u001b[1;33m=\u001b[0m\u001b[1;34m'%1.1f%%'\u001b[0m\u001b[1;33m,\u001b[0m\u001b[1;33m\u001b[0m\u001b[0m\n\u001b[0;32m     21\u001b[0m     \u001b[0mpctdistance\u001b[0m\u001b[1;33m=\u001b[0m\u001b[1;36m0.5\u001b[0m\u001b[1;33m,\u001b[0m\u001b[1;33m\u001b[0m\u001b[0m\n\u001b[1;32m---> 22\u001b[1;33m     \u001b[0mtextprops\u001b[0m\u001b[1;33m=\u001b[0m\u001b[1;33m{\u001b[0m\u001b[1;34m'weight'\u001b[0m\u001b[1;33m:\u001b[0m\u001b[1;34m'bold'\u001b[0m\u001b[1;33m,\u001b[0m \u001b[1;34m'fontsize'\u001b[0m\u001b[1;33m:\u001b[0m \u001b[1;36m18\u001b[0m\u001b[1;33m}\u001b[0m\u001b[1;33m\u001b[0m\u001b[0m\n\u001b[0m\u001b[0;32m     23\u001b[0m     )\n\u001b[0;32m     24\u001b[0m \u001b[1;33m\u001b[0m\u001b[0m\n",
      "\u001b[1;31mTypeError\u001b[0m: pie() got an unexpected keyword argument 'alpha'"
     ]
    },
    {
     "data": {
      "text/plain": [
       "<matplotlib.figure.Figure at 0x7f4f8fef4a50>"
      ]
     },
     "metadata": {},
     "output_type": "display_data"
    }
   ],
   "source": [
    "colors = [\"#fc5a50\", \"#8e82fe\", \"#D63B59\", \"#AE5552\", \"#CB5C3B\", \"#EB8076\", \"#96624E\"]\n",
    "\n",
    "# Create a pie chart\n",
    "plt.figure(figsize=(6,6))\n",
    "plt.pie(\n",
    "    # using data total)arrests\n",
    "    X_ver2['Rookie?'].value_counts(),\n",
    "    # with the labels being officer names\n",
    "    #labels=['No', 'Yes'],\n",
    "    # with no shadows\n",
    "    shadow=True,\n",
    "    # with colors\n",
    "    colors=colors[:2],\n",
    "    alpha=0.7,\n",
    "    # with one slide exploded out\n",
    "    explode=(0, 0.2),\n",
    "    # with the start angle at 90%\n",
    "    startangle=90,\n",
    "    # with the percent listed as a fraction\n",
    "    autopct='%1.1f%%',\n",
    "    pctdistance=0.5,\n",
    "    textprops={'weight':'bold', 'fontsize': 18}\n",
    "    )\n",
    "\n",
    "# View the plot drop above\n",
    "plt.axis('equal')\n",
    "plt.title('Pitchers:\\nPromoted to majors next year?', fontweight='bold', fontsize=20)\n",
    "plt.legend(['No', 'Yes'], loc=\"best\", fontsize=14)\n",
    "# View the plot\n",
    "plt.tight_layout()\n",
    "plt.show()"
   ]
  },
  {
   "cell_type": "code",
   "execution_count": 246,
   "metadata": {
    "collapsed": false
   },
   "outputs": [
    {
     "data": {
      "text/plain": [
       "(19288,)"
      ]
     },
     "execution_count": 246,
     "metadata": {},
     "output_type": "execute_result"
    }
   ],
   "source": [
    "y_test.shape"
   ]
  },
  {
   "cell_type": "code",
   "execution_count": 247,
   "metadata": {
    "collapsed": true
   },
   "outputs": [],
   "source": [
    "y_test_copy = y_test.copy()"
   ]
  },
  {
   "cell_type": "code",
   "execution_count": 248,
   "metadata": {
    "collapsed": false
   },
   "outputs": [],
   "source": [
    "y_test_copy.index = range(y_test_copy.shape[0])"
   ]
  },
  {
   "cell_type": "code",
   "execution_count": 251,
   "metadata": {
    "collapsed": false
   },
   "outputs": [],
   "source": [
    "pred_idx_1 = np.where(y_pred_logit == 1)"
   ]
  },
  {
   "cell_type": "code",
   "execution_count": 252,
   "metadata": {
    "collapsed": true
   },
   "outputs": [],
   "source": [
    "pred_idx_0 = np.where(y_pred_logit == 0)"
   ]
  },
  {
   "cell_type": "code",
   "execution_count": 253,
   "metadata": {
    "collapsed": false
   },
   "outputs": [],
   "source": [
    "FP_idx = np.intersect1d(true_idx_0, pred_idx_1) # 실제로는 0인데 1로 예상한것들"
   ]
  },
  {
   "cell_type": "code",
   "execution_count": 254,
   "metadata": {
    "collapsed": true
   },
   "outputs": [],
   "source": [
    "TP_idx = np.intersect1d(true_idx_1, pred_idx_1) # 실제로 1이고 1로 예상한것들"
   ]
  },
  {
   "cell_type": "code",
   "execution_count": 255,
   "metadata": {
    "collapsed": true
   },
   "outputs": [],
   "source": [
    "FN_idx = np.intersect1d(true_idx_1, pred_idx_0) # 실제로 1인데 0으로 예상한것들"
   ]
  },
  {
   "cell_type": "code",
   "execution_count": 256,
   "metadata": {
    "collapsed": false
   },
   "outputs": [
    {
     "data": {
      "text/plain": [
       "<matplotlib.collections.PathCollection at 0x7fbd28422210>"
      ]
     },
     "execution_count": 256,
     "metadata": {},
     "output_type": "execute_result"
    },
    {
     "data": {
      "image/png": "[encoded data removed]",
      "text/plain": [
       "<matplotlib.figure.Figure at 0x7fbd28371690>"
      ]
     },
     "metadata": {},
     "output_type": "display_data"
    }
   ],
   "source": [
    "plt.scatter(y_pred_logit[FP_idx], y_proba_logit[:,1][FP_idx], alpha=0.2, s=100, c='y', edgecolor='red')"
   ]
  },
  {
   "cell_type": "code",
   "execution_count": 257,
   "metadata": {
    "collapsed": false
   },
   "outputs": [
    {
     "data": {
      "text/plain": [
       "<matplotlib.text.Text at 0x7fbd296a0a10>"
      ]
     },
     "execution_count": 257,
     "metadata": {},
     "output_type": "execute_result"
    },
    {
     "data": {
      "image/png": "[encoded data removed]",
      "text/plain": [
       "<matplotlib.figure.Figure at 0x7fbd2bd42850>"
      ]
     },
     "metadata": {},
     "output_type": "display_data"
    }
   ],
   "source": [
    "f, ax = plt.subplots(1, 2)\n",
    "_ = ax[0].hist(y_proba_logit[:,1][FP_idx], bins=50)\n",
    "ax[0].set_title('Proba of False Positive')\n",
    "_ = ax[1].hist(y_proba_logit[:,1][TP_idx], bins=50)\n",
    "ax[1].set_title('Proba of True Positive')"
   ]
  },
  {
   "cell_type": "code",
   "execution_count": 258,
   "metadata": {
    "collapsed": false
   },
   "outputs": [
    {
     "data": {
      "text/plain": [
       "118"
      ]
     },
     "execution_count": 258,
     "metadata": {},
     "output_type": "execute_result"
    }
   ],
   "source": [
    "(y_proba_logit[:,1][TP_idx] > 0.75).sum()"
   ]
  },
  {
   "cell_type": "code",
   "execution_count": 259,
   "metadata": {
    "collapsed": false
   },
   "outputs": [
    {
     "data": {
      "text/plain": [
       "1562"
      ]
     },
     "execution_count": 259,
     "metadata": {},
     "output_type": "execute_result"
    }
   ],
   "source": [
    "(y_proba_logit[:,1][FP_idx] > 0.75).sum()"
   ]
  },
  {
   "cell_type": "code",
   "execution_count": 260,
   "metadata": {
    "collapsed": true
   },
   "outputs": [],
   "source": [
    "thres = np.linspace(0.2, 1.0, 50)"
   ]
  },
  {
   "cell_type": "code",
   "execution_count": 261,
   "metadata": {
    "collapsed": false
   },
   "outputs": [],
   "source": [
    "TPR = []\n",
    "Precision = []\n",
    "for t in thres:\n",
    "    TPR.append((y_proba_logit[:,1][TP_idx] > t).sum() / 222.)\n",
    "    Precision.append((y_proba_logit[:,1][TP_idx] > t).sum() / ((y_proba_logit[:,1][FP_idx] > t).sum() + (y_proba_logit[:,1][TP_idx] > t).sum()))"
   ]
  },
  {
   "cell_type": "code",
   "execution_count": 263,
   "metadata": {
    "collapsed": false,
    "scrolled": true
   },
   "outputs": [
    {
     "data": {
      "text/plain": [
       "<matplotlib.text.Text at 0x7fbd293983d0>"
      ]
     },
     "execution_count": 263,
     "metadata": {},
     "output_type": "execute_result"
    },
    {
     "data": {
      "image/png": "[encoded data removed]",
      "text/plain": [
       "<matplotlib.figure.Figure at 0x7fbd284ccb10>"
      ]
     },
     "metadata": {},
     "output_type": "display_data"
    }
   ],
   "source": [
    "plt.plot(thres, TPR, label='Recall')\n",
    "plt.plot(thres, Precision, label='Precision')\n",
    "plt.legend()\n",
    "plt.xlabel('Threshold')"
   ]
  },
  {
   "cell_type": "code",
   "execution_count": 224,
   "metadata": {
    "collapsed": false
   },
   "outputs": [
    {
     "data": {
      "image/png": "[encoded data removed]",
      "text/plain": [
       "<matplotlib.figure.Figure at 0x7f4f98137e10>"
      ]
     },
     "metadata": {},
     "output_type": "display_data"
    }
   ],
   "source": [
    "frequencies = [6900, 7800, 9000, 10200, 12900, 507500]   # bring some raw data\n",
    "\n",
    "freq_series = pd.Series.from_array(frequencies)   # in my original code I create a series and run on that, so for consistency I create a series from the list.\n",
    "\n",
    "x_labels = ['Short Season', 'Low A', 'High A', 'AA', 'AAA', 'MLB']\n",
    "\n",
    "# now to plot the figure...\n",
    "plt.figure(figsize=(12, 8))\n",
    "ax = freq_series.plot(kind='bar', color='#fc5a50',\n",
    "           edgecolor=None, linewidth=0, alpha = 0.9)\n",
    "ax.set_title(\"Minimum Wage - Per Season\", fontsize=30, fontname='monospace')\n",
    "#ax.set_xlabel()\n",
    "#ax.set_ylabel(\"Amount ($)\")\n",
    "ax.set_xticklabels(x_labels, rotation=0, fontsize=20, fontname='monospace')\n",
    "rects = ax.patches\n",
    "_ = plt.yticks(fontname='monospace', fontsize=20)\n",
    "ax.yaxis.grid(True)\n",
    "\n",
    "# Now make some labels\n",
    "labels = ['$6,900', '$7,800', '$9,000', '$10,200', '$12,900', '$507,500']\n",
    "\n",
    "for rect, label in zip(rects, labels):\n",
    "    height = rect.get_height()\n",
    "    ax.text(rect.get_x() + rect.get_width()/2, height + 1000, label, ha='center', va='bottom', fontsize=20)"
   ]
  },
  {
   "cell_type": "code",
   "execution_count": 285,
   "metadata": {
    "collapsed": false
   },
   "outputs": [
    {
     "data": {
      "image/png": "[encoded data removed]",
      "text/plain": [
       "<matplotlib.figure.Figure at 0x7f4f98ed2690>"
      ]
     },
     "metadata": {},
     "output_type": "display_data"
    }
   ],
   "source": [
    "frequencies = [1, 99]   # bring some raw data\n",
    "\n",
    "freq_series = pd.Series.from_array(frequencies)   # in my original code I create a series and run on that, so for consistency I create a series from the list.\n",
    "\n",
    "x_labels = ['No', 'Yes']\n",
    "\n",
    "plt.figure(figsize=(12, 8))\n",
    "ax = freq_series.plot(kind='bar', color='#fc5a50',\n",
    "           edgecolor=None, linewidth=0, alpha = 0.9)\n",
    "ax.set_title(\"Batters:\\nPromoted to majors next year?\", fontsize=30, fontname='monospace')\n",
    "#ax.set_xlabel()\n",
    "#ax.set_ylabel(\"Amount ($)\")\n",
    "ax.set_xticklabels(x_labels, rotation=0, fontsize=20, fontname='monospace')\n",
    "rects = ax.patches\n",
    "_ = plt.yticks(fontname='monospace', fontsize=20)\n",
    "ax.yaxis.grid(True)\n",
    "plt.ylim(0, 108)\n",
    "# Now make some labels\n",
    "labels = ['1.0%', '99.0%']\n",
    "\n",
    "for rect, label in zip(rects, labels):\n",
    "    height = rect.get_height()\n",
    "    ax.text(rect.get_x() + rect.get_width()/2, height + 1, label, ha='center', va='bottom', fontsize=20)"
   ]
  },
  {
   "cell_type": "code",
   "execution_count": null,
   "metadata": {
    "collapsed": true
   },
   "outputs": [],
   "source": []
  }
 ],
 "metadata": {
  "kernelspec": {
   "display_name": "Python 2",
   "language": "python",
   "name": "python2"
  },
  "language_info": {
   "codemirror_mode": {
    "name": "ipython",
    "version": 2
   },
   "file_extension": ".py",
   "mimetype": "text/x-python",
   "name": "python",
   "nbconvert_exporter": "python",
   "pygments_lexer": "ipython2",
   "version": "2.7.11"
  }
 },
 "nbformat": 4,
 "nbformat_minor": 0
}
