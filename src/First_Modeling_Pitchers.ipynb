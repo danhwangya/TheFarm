{
 "cells": [
  {
   "cell_type": "code",
   "execution_count": 1,
   "metadata": {
    "collapsed": true
   },
   "outputs": [],
   "source": [
    "import pandas as pd\n",
    "import numpy as np\n",
    "import re\n",
    "from sklearn.ensemble import RandomForestClassifier, AdaBoostClassifier, GradientBoostingClassifier\n",
    "from sklearn.ensemble.partial_dependence import plot_partial_dependence\n",
    "from sklearn.ensemble.partial_dependence import partial_dependence\n",
    "from sklearn.cross_validation import train_test_split\n",
    "from sklearn.metrics import precision_score, recall_score, roc_auc_score, confusion_matrix, roc_curve, classification_report, auc\n",
    "from itertools import izip\n",
    "from sklearn.cross_validation import cross_val_score\n",
    "from imblearn.under_sampling import RandomUnderSampler\n",
    "from imblearn.over_sampling import SMOTE, ADASYN\n",
    "import matplotlib.pyplot as plt\n",
    "from sklearn.svm import SVC\n",
    "from sklearn.preprocessing import OneHotEncoder\n",
    "from sklearn.linear_model import LogisticRegressionCV, LogisticRegression\n",
    "from src import plot_roc\n"
   ]
  },
  {
   "cell_type": "code",
   "execution_count": 190,
   "metadata": {
    "collapsed": true
   },
   "outputs": [],
   "source": [
    "league_pit = pd.read_csv('/home/jun/Galvanize/capstone/Galvanize_capstone/Data/League_stats/league_stats_all_pit.csv')"
   ]
  },
  {
   "cell_type": "code",
   "execution_count": 112,
   "metadata": {
    "collapsed": false
   },
   "outputs": [],
   "source": [
    "MLB_pitchers = pd.read_csv('/home/jun/Galvanize/capstone/Galvanize_capstone/Data/Team_stats/pitching.csv')"
   ]
  },
  {
   "cell_type": "code",
   "execution_count": 174,
   "metadata": {
    "collapsed": true
   },
   "outputs": [],
   "source": [
    "\n",
    "pitchers = pd.read_csv('/home/jun/Galvanize/capstone/Galvanize_capstone/Data/Players/pitchers.csv')"
   ]
  },
  {
   "cell_type": "code",
   "execution_count": 175,
   "metadata": {
    "collapsed": true
   },
   "outputs": [],
   "source": [
    "pitchers = pitchers.drop('Unnamed: 0', axis=1)"
   ]
  },
  {
   "cell_type": "code",
   "execution_count": 176,
   "metadata": {
    "collapsed": false
   },
   "outputs": [
    {
     "data": {
      "text/plain": [
       "Index([u'A', u'Aff_pitching', u'AgeDif_pitching', u'Age_pitching', u'BB9',\n",
       "       u'BB_pitching', u'BF', u'BK', u'Bats_Right', u'Bats_both', u'Bats_left',\n",
       "       u'Bats_unknown', u'CG', u'CS_fielding', u'CS_perc', u'Catcher',\n",
       "       u'Centerfielder', u'Ch', u'DP', u'Designated', u'Drafted', u'E', u'ER',\n",
       "       u'ERA', u'Fielding_position', u'First', u'Fld_perc', u'G', u'GF', u'GS',\n",
       "       u'G_pitching', u'H9', u'HBP_pitching', u'HR9', u'HR_pitching',\n",
       "       u'H_pitching', u'Height', u'Hitter', u'IBB_pitching', u'IP', u'L',\n",
       "       u'Leftfielder', u'Lev', u'Lg_pitching', u'N/A', u'Name', u'Outfielder',\n",
       "       u'Pitcher', u'RAvg', u'RF/G', u'R_pitching', u'Rightfielder',\n",
       "       u'Rookie?', u'SB_fielding', u'SHO', u'SO/W', u'SO9', u'SO_pitching',\n",
       "       u'SV', u'Second', u'Shortstop', u'Third', u'Throws_left',\n",
       "       u'Throws_right', u'Throws_unknown', u'Tm', u'W', u'WHIP', u'WP',\n",
       "       u'Weight', u'Year', u'player_id'],\n",
       "      dtype='object')"
      ]
     },
     "execution_count": 176,
     "metadata": {},
     "output_type": "execute_result"
    }
   ],
   "source": [
    "pitchers.columns"
   ]
  },
  {
   "cell_type": "code",
   "execution_count": 116,
   "metadata": {
    "collapsed": false
   },
   "outputs": [
    {
     "data": {
      "text/plain": [
       "Aff_pitching         object\n",
       "Fielding_position    object\n",
       "Height               object\n",
       "Lev                  object\n",
       "Lg_pitching          object\n",
       "Name                 object\n",
       "dtype: object"
      ]
     },
     "execution_count": 116,
     "metadata": {},
     "output_type": "execute_result"
    }
   ],
   "source": [
    "pitchers.dtypes[pitchers.dtypes == object]"
   ]
  },
  {
   "cell_type": "code",
   "execution_count": 177,
   "metadata": {
    "collapsed": false
   },
   "outputs": [
    {
     "data": {
      "text/plain": [
       "array(['5\\' 11\"', '6\\' 2\"', '5\\' 10\"', '6\\' 0\"', '6\\' 1\"', '6\\' 4\"',\n",
       "       '6\\' 3\"', '6\\' 6\"', '6\\' 5\"', '6\\' 8\"', '5\\' 9\"', '6\\' 7\"',\n",
       "       '5\\' 8\"', '6\\' 9\"', '5\\' 7\"', '6\\' 10\"', '5\\' 6\"', '5\\' 3\"',\n",
       "       '7\\' 1\"', '6\\' 11\"'], dtype=object)"
      ]
     },
     "execution_count": 177,
     "metadata": {},
     "output_type": "execute_result"
    }
   ],
   "source": [
    "pitchers.Height.unique()"
   ]
  },
  {
   "cell_type": "code",
   "execution_count": 178,
   "metadata": {
    "collapsed": true
   },
   "outputs": [],
   "source": [
    "def convert_to_meters(height):\n",
    "    try:\n",
    "        h = re.findall(r'\\d', height)\n",
    "        return (int(h[0]) * 12 * 2.54) + (int(h[1]) * 2.54)\n",
    "    except TypeError:\n",
    "        pass"
   ]
  },
  {
   "cell_type": "code",
   "execution_count": 179,
   "metadata": {
    "collapsed": true
   },
   "outputs": [],
   "source": [
    "pitchers.Height = pitchers.Height.apply(lambda x: convert_to_meters(x))"
   ]
  },
  {
   "cell_type": "code",
   "execution_count": 180,
   "metadata": {
    "collapsed": true
   },
   "outputs": [],
   "source": [
    "pitchers.Height = pitchers.Height.fillna(pitchers.Height.mean())  # filling the rest with its mean"
   ]
  },
  {
   "cell_type": "code",
   "execution_count": 181,
   "metadata": {
    "collapsed": true
   },
   "outputs": [],
   "source": [
    "def convert_to_list(x):\n",
    "    try:\n",
    "        return x.replace(\"'\", '').replace(\"[\", '').replace(\"]\", '').split(', ')\n",
    "    except AttributeError:\n",
    "        pass  "
   ]
  },
  {
   "cell_type": "code",
   "execution_count": 182,
   "metadata": {
    "collapsed": true
   },
   "outputs": [],
   "source": [
    "#pitchers.Fielding_position =\\\n",
    "   # pitchers.Fielding_position.apply(lambda x: convert_to_list(x))"
   ]
  },
  {
   "cell_type": "code",
   "execution_count": 123,
   "metadata": {
    "collapsed": true
   },
   "outputs": [],
   "source": [
    "#pitchers.Fielding_position = pitchers.Fielding_position.fillna('Unknown')"
   ]
  },
  {
   "cell_type": "code",
   "execution_count": 124,
   "metadata": {
    "collapsed": true
   },
   "outputs": [],
   "source": [
    "#pitchers.Fielding_position = pitchers.Fielding_position.apply(lambda x: x.split() if x == 'Unknown' else x)"
   ]
  },
  {
   "cell_type": "code",
   "execution_count": 183,
   "metadata": {
    "collapsed": true
   },
   "outputs": [],
   "source": [
    "def list_to_dict(category_list):\n",
    "    n_categories = len(category_list)\n",
    "    return dict(zip(category_list, [1]*n_categories))"
   ]
  },
  {
   "cell_type": "code",
   "execution_count": 126,
   "metadata": {
    "collapsed": true
   },
   "outputs": [],
   "source": [
    "#df_dummies.columns = map(lambda x: 'Fielding_pos_' + x, df_dummies.columns)"
   ]
  },
  {
   "cell_type": "code",
   "execution_count": 127,
   "metadata": {
    "collapsed": true
   },
   "outputs": [],
   "source": [
    "#pitchers = pitchers.join(df_dummies)"
   ]
  },
  {
   "cell_type": "code",
   "execution_count": 184,
   "metadata": {
    "collapsed": true
   },
   "outputs": [],
   "source": [
    "pitchers = pitchers.drop('Fielding_position', axis=1)"
   ]
  },
  {
   "cell_type": "code",
   "execution_count": 185,
   "metadata": {
    "collapsed": false
   },
   "outputs": [
    {
     "data": {
      "text/plain": [
       "Index([u'A', u'Aff_pitching', u'AgeDif_pitching', u'Age_pitching', u'BB9',\n",
       "       u'BB_pitching', u'BF', u'BK', u'Bats_Right', u'Bats_both', u'Bats_left',\n",
       "       u'Bats_unknown', u'CG', u'CS_fielding', u'CS_perc', u'Catcher',\n",
       "       u'Centerfielder', u'Ch', u'DP', u'Designated', u'Drafted', u'E', u'ER',\n",
       "       u'ERA', u'First', u'Fld_perc', u'G', u'GF', u'GS', u'G_pitching', u'H9',\n",
       "       u'HBP_pitching', u'HR9', u'HR_pitching', u'H_pitching', u'Height',\n",
       "       u'Hitter', u'IBB_pitching', u'IP', u'L', u'Leftfielder', u'Lev',\n",
       "       u'Lg_pitching', u'N/A', u'Name', u'Outfielder', u'Pitcher', u'RAvg',\n",
       "       u'RF/G', u'R_pitching', u'Rightfielder', u'Rookie?', u'SB_fielding',\n",
       "       u'SHO', u'SO/W', u'SO9', u'SO_pitching', u'SV', u'Second', u'Shortstop',\n",
       "       u'Third', u'Throws_left', u'Throws_right', u'Throws_unknown', u'Tm',\n",
       "       u'W', u'WHIP', u'WP', u'Weight', u'Year', u'player_id'],\n",
       "      dtype='object')"
      ]
     },
     "execution_count": 185,
     "metadata": {},
     "output_type": "execute_result"
    }
   ],
   "source": [
    "pitchers.columns"
   ]
  },
  {
   "cell_type": "code",
   "execution_count": 186,
   "metadata": {
    "collapsed": true
   },
   "outputs": [],
   "source": [
    "pitchers = pitchers.drop('N/A', axis=1)"
   ]
  },
  {
   "cell_type": "code",
   "execution_count": 187,
   "metadata": {
    "collapsed": false
   },
   "outputs": [],
   "source": [
    "pitchers = pitchers.drop(['Bats_unknown', 'Pitcher', 'Hitter',\n",
    "                        'Throws_unknown', 'E', 'SB_fielding', 'A', 'Bats_Right', \n",
    "                        'Bats_both', 'Bats_left', 'Catcher', 'Centerfielder', 'Ch', 'DP', 'Designated', 'First',\n",
    "                        'G', 'Leftfielder', 'Outfielder', 'RF/G', 'Second', u'Shortstop', u'Third',\n",
    "                       ], axis=1 )"
   ]
  },
  {
   "cell_type": "code",
   "execution_count": 188,
   "metadata": {
    "collapsed": false
   },
   "outputs": [],
   "source": [
    "pitchers = pitchers.drop(['BB_pitching', 'CS_fielding', 'HR_pitching', 'H_pitching', 'IBB_pitching',\n",
    "                          'R_pitching', 'Rightfielder'], axis=1)"
   ]
  },
  {
   "cell_type": "code",
   "execution_count": 189,
   "metadata": {
    "collapsed": false
   },
   "outputs": [],
   "source": [
    "pitchers = pitchers.drop(['SHO', 'BK', 'CG', 'ER', 'SO_pitching'],  axis=1)"
   ]
  },
  {
   "cell_type": "code",
   "execution_count": 134,
   "metadata": {
    "collapsed": true
   },
   "outputs": [],
   "source": [
    "#pitchers = pitchers.drop('Lg_pitching', axis=1)"
   ]
  },
  {
   "cell_type": "code",
   "execution_count": 191,
   "metadata": {
    "collapsed": true
   },
   "outputs": [],
   "source": [
    "pitchers.HBP_pitching = pitchers.HBP_pitching / pitchers.IP"
   ]
  },
  {
   "cell_type": "code",
   "execution_count": 136,
   "metadata": {
    "collapsed": false
   },
   "outputs": [],
   "source": [
    "#pitchers.SHO = pitchers.SHO/ pitchers.G_pitching"
   ]
  },
  {
   "cell_type": "code",
   "execution_count": 192,
   "metadata": {
    "collapsed": false
   },
   "outputs": [],
   "source": [
    "pitchers = pitchers[pitchers['Age_pitching'].notnull()]"
   ]
  },
  {
   "cell_type": "code",
   "execution_count": 193,
   "metadata": {
    "collapsed": false
   },
   "outputs": [],
   "source": [
    "pitchers[['CS_perc', 'Fld_perc', 'HBP_pitching']] =\\\n",
    "    pitchers[['CS_perc', 'Fld_perc', 'HBP_pitching']].fillna(pitchers[['CS_perc', 'Fld_perc', \n",
    "                                                                                'HBP_pitching']].mean())"
   ]
  },
  {
   "cell_type": "code",
   "execution_count": 194,
   "metadata": {
    "collapsed": false
   },
   "outputs": [
    {
     "name": "stdout",
     "output_type": "stream",
     "text": [
      "<class 'pandas.core.frame.DataFrame'>\n",
      "Int64Index: 128515 entries, 0 to 130152\n",
      "Data columns (total 35 columns):\n",
      "Aff_pitching       102068 non-null object\n",
      "AgeDif_pitching    128515 non-null float64\n",
      "Age_pitching       128515 non-null float64\n",
      "BB9                128515 non-null float64\n",
      "BF                 128515 non-null float64\n",
      "CS_perc            128515 non-null float64\n",
      "Drafted            128515 non-null float64\n",
      "ERA                128515 non-null float64\n",
      "Fld_perc           128515 non-null float64\n",
      "GF                 128515 non-null float64\n",
      "GS                 128515 non-null float64\n",
      "G_pitching         128515 non-null float64\n",
      "H9                 128515 non-null float64\n",
      "HBP_pitching       128515 non-null float64\n",
      "HR9                128515 non-null float64\n",
      "Height             128515 non-null float64\n",
      "IP                 128515 non-null float64\n",
      "L                  128515 non-null float64\n",
      "Lev                128515 non-null object\n",
      "Lg_pitching        128515 non-null object\n",
      "Name               128515 non-null object\n",
      "RAvg               128515 non-null float64\n",
      "Rookie?            128515 non-null int64\n",
      "SO/W               128515 non-null float64\n",
      "SO9                128515 non-null float64\n",
      "SV                 128515 non-null float64\n",
      "Throws_left        128515 non-null float64\n",
      "Throws_right       128515 non-null float64\n",
      "Tm                 128515 non-null object\n",
      "W                  128515 non-null float64\n",
      "WHIP               128515 non-null float64\n",
      "WP                 128515 non-null float64\n",
      "Weight             128515 non-null float64\n",
      "Year               128515 non-null int64\n",
      "player_id          128515 non-null int64\n",
      "dtypes: float64(27), int64(3), object(5)\n",
      "memory usage: 35.3+ MB\n"
     ]
    }
   ],
   "source": [
    "pitchers.info()"
   ]
  },
  {
   "cell_type": "code",
   "execution_count": 200,
   "metadata": {
    "collapsed": false
   },
   "outputs": [
    {
     "ename": "ValueError",
     "evalue": "cannot insert Role, already exists",
     "output_type": "error",
     "traceback": [
      "\u001b[1;31m---------------------------------------------------------------------------\u001b[0m",
      "\u001b[1;31mValueError\u001b[0m                                Traceback (most recent call last)",
      "\u001b[1;32m<ipython-input-200-633cb42f51c5>\u001b[0m in \u001b[0;36m<module>\u001b[1;34m()\u001b[0m\n\u001b[1;32m----> 1\u001b[1;33m \u001b[0mpitchers\u001b[0m\u001b[1;33m.\u001b[0m\u001b[0minsert\u001b[0m\u001b[1;33m(\u001b[0m\u001b[0mpitchers\u001b[0m\u001b[1;33m.\u001b[0m\u001b[0mshape\u001b[0m\u001b[1;33m[\u001b[0m\u001b[1;36m1\u001b[0m\u001b[1;33m]\u001b[0m\u001b[1;33m,\u001b[0m \u001b[1;34m'Role'\u001b[0m\u001b[1;33m,\u001b[0m \u001b[1;34m'N/A'\u001b[0m\u001b[1;33m)\u001b[0m\u001b[1;33m\u001b[0m\u001b[0m\n\u001b[0m",
      "\u001b[1;32m/home/jun/anaconda2/lib/python2.7/site-packages/pandas-0.18.1-py2.7-linux-x86_64.egg/pandas/core/frame.pyc\u001b[0m in \u001b[0;36minsert\u001b[1;34m(self, loc, column, value, allow_duplicates)\u001b[0m\n\u001b[0;32m   2447\u001b[0m         \u001b[0mvalue\u001b[0m \u001b[1;33m=\u001b[0m \u001b[0mself\u001b[0m\u001b[1;33m.\u001b[0m\u001b[0m_sanitize_column\u001b[0m\u001b[1;33m(\u001b[0m\u001b[0mcolumn\u001b[0m\u001b[1;33m,\u001b[0m \u001b[0mvalue\u001b[0m\u001b[1;33m)\u001b[0m\u001b[1;33m\u001b[0m\u001b[0m\n\u001b[0;32m   2448\u001b[0m         self._data.insert(loc, column, value,\n\u001b[1;32m-> 2449\u001b[1;33m                           allow_duplicates=allow_duplicates)\n\u001b[0m\u001b[0;32m   2450\u001b[0m \u001b[1;33m\u001b[0m\u001b[0m\n\u001b[0;32m   2451\u001b[0m     \u001b[1;32mdef\u001b[0m \u001b[0massign\u001b[0m\u001b[1;33m(\u001b[0m\u001b[0mself\u001b[0m\u001b[1;33m,\u001b[0m \u001b[1;33m**\u001b[0m\u001b[0mkwargs\u001b[0m\u001b[1;33m)\u001b[0m\u001b[1;33m:\u001b[0m\u001b[1;33m\u001b[0m\u001b[0m\n",
      "\u001b[1;32m/home/jun/anaconda2/lib/python2.7/site-packages/pandas-0.18.1-py2.7-linux-x86_64.egg/pandas/core/internals.pyc\u001b[0m in \u001b[0;36minsert\u001b[1;34m(self, loc, item, value, allow_duplicates)\u001b[0m\n\u001b[0;32m   3508\u001b[0m         \u001b[1;32mif\u001b[0m \u001b[1;32mnot\u001b[0m \u001b[0mallow_duplicates\u001b[0m \u001b[1;32mand\u001b[0m \u001b[0mitem\u001b[0m \u001b[1;32min\u001b[0m \u001b[0mself\u001b[0m\u001b[1;33m.\u001b[0m\u001b[0mitems\u001b[0m\u001b[1;33m:\u001b[0m\u001b[1;33m\u001b[0m\u001b[0m\n\u001b[0;32m   3509\u001b[0m             \u001b[1;31m# Should this be a different kind of error??\u001b[0m\u001b[1;33m\u001b[0m\u001b[1;33m\u001b[0m\u001b[0m\n\u001b[1;32m-> 3510\u001b[1;33m             \u001b[1;32mraise\u001b[0m \u001b[0mValueError\u001b[0m\u001b[1;33m(\u001b[0m\u001b[1;34m'cannot insert %s, already exists'\u001b[0m \u001b[1;33m%\u001b[0m \u001b[0mitem\u001b[0m\u001b[1;33m)\u001b[0m\u001b[1;33m\u001b[0m\u001b[0m\n\u001b[0m\u001b[0;32m   3511\u001b[0m \u001b[1;33m\u001b[0m\u001b[0m\n\u001b[0;32m   3512\u001b[0m         \u001b[1;32mif\u001b[0m \u001b[1;32mnot\u001b[0m \u001b[0misinstance\u001b[0m\u001b[1;33m(\u001b[0m\u001b[0mloc\u001b[0m\u001b[1;33m,\u001b[0m \u001b[0mint\u001b[0m\u001b[1;33m)\u001b[0m\u001b[1;33m:\u001b[0m\u001b[1;33m\u001b[0m\u001b[0m\n",
      "\u001b[1;31mValueError\u001b[0m: cannot insert Role, already exists"
     ]
    }
   ],
   "source": [
    "pitchers.insert(pitchers.shape[1], 'Role', 'N/A')"
   ]
  },
  {
   "cell_type": "code",
   "execution_count": 201,
   "metadata": {
    "collapsed": false
   },
   "outputs": [],
   "source": [
    "pitchers.loc[(pitchers['GS'] / pitchers['G_pitching']) >= 0.5, 'Role'] = 'sp'"
   ]
  },
  {
   "cell_type": "code",
   "execution_count": 202,
   "metadata": {
    "collapsed": false
   },
   "outputs": [],
   "source": [
    "pitchers.loc[(pitchers.Role == 'N/A') & (pitchers.SV >= 5), 'Role'] = 'closer'"
   ]
  },
  {
   "cell_type": "code",
   "execution_count": 203,
   "metadata": {
    "collapsed": true
   },
   "outputs": [],
   "source": [
    "pitchers.loc[(pitchers.Role == 'N/A'), 'Role'] = 'rp'"
   ]
  },
  {
   "cell_type": "code",
   "execution_count": 204,
   "metadata": {
    "collapsed": false
   },
   "outputs": [
    {
     "data": {
      "text/plain": [
       "1         sp\n",
       "2         sp\n",
       "3         sp\n",
       "4         sp\n",
       "5         sp\n",
       "7         sp\n",
       "8         sp\n",
       "9         sp\n",
       "10        sp\n",
       "11        sp\n",
       "12        sp\n",
       "13        sp\n",
       "14        sp\n",
       "27        sp\n",
       "28        sp\n",
       "30        sp\n",
       "50        sp\n",
       "51        sp\n",
       "55        sp\n",
       "56        sp\n",
       "57        sp\n",
       "58        sp\n",
       "59        sp\n",
       "63        sp\n",
       "64        sp\n",
       "65        sp\n",
       "66        sp\n",
       "67        sp\n",
       "68        sp\n",
       "69        sp\n",
       "          ..\n",
       "130088    sp\n",
       "130089    sp\n",
       "130090    sp\n",
       "130091    sp\n",
       "130092    sp\n",
       "130093    sp\n",
       "130094    sp\n",
       "130096    sp\n",
       "130097    sp\n",
       "130099    sp\n",
       "130100    sp\n",
       "130101    sp\n",
       "130107    sp\n",
       "130108    sp\n",
       "130109    sp\n",
       "130110    sp\n",
       "130114    sp\n",
       "130115    sp\n",
       "130116    sp\n",
       "130117    sp\n",
       "130120    sp\n",
       "130131    sp\n",
       "130132    sp\n",
       "130133    sp\n",
       "130136    sp\n",
       "130137    sp\n",
       "130148    sp\n",
       "130149    sp\n",
       "130151    sp\n",
       "130152    sp\n",
       "Name: Role, dtype: object"
      ]
     },
     "execution_count": 204,
     "metadata": {},
     "output_type": "execute_result"
    }
   ],
   "source": [
    "pitchers[(pitchers['GS'] / pitchers['G_pitching']) >= 0.5].Role"
   ]
  },
  {
   "cell_type": "code",
   "execution_count": 97,
   "metadata": {
    "collapsed": true
   },
   "outputs": [],
   "source": [
    "some = pitchers.merge(MLB_pitchers, how='left', left_on=['Year', 'Aff_pitching', 'Role'], right_on = ['yearID', 'teamID', 'POS'], suffixes=['_Minor', '_MLB'])"
   ]
  },
  {
   "cell_type": "code",
   "execution_count": 205,
   "metadata": {
    "collapsed": true
   },
   "outputs": [],
   "source": [
    "some=pitchers"
   ]
  },
  {
   "cell_type": "code",
   "execution_count": 206,
   "metadata": {
    "collapsed": false
   },
   "outputs": [],
   "source": [
    "some = some[some.Year > 1995]"
   ]
  },
  {
   "cell_type": "code",
   "execution_count": 207,
   "metadata": {
    "collapsed": false
   },
   "outputs": [
    {
     "data": {
      "text/plain": [
       "(121239, 36)"
      ]
     },
     "execution_count": 207,
     "metadata": {},
     "output_type": "execute_result"
    }
   ],
   "source": [
    "some.shape"
   ]
  },
  {
   "cell_type": "code",
   "execution_count": 208,
   "metadata": {
    "collapsed": false
   },
   "outputs": [],
   "source": [
    "some = some.drop('HBP_pitching', axis=1)"
   ]
  },
  {
   "cell_type": "code",
   "execution_count": 209,
   "metadata": {
    "collapsed": true
   },
   "outputs": [],
   "source": [
    "some = some.drop('Throws_right', axis=1)"
   ]
  },
  {
   "cell_type": "code",
   "execution_count": 210,
   "metadata": {
    "collapsed": false
   },
   "outputs": [],
   "source": [
    "some = some.rename(columns={'Throws_left': 'Throws'})"
   ]
  },
  {
   "cell_type": "code",
   "execution_count": 212,
   "metadata": {
    "collapsed": false
   },
   "outputs": [],
   "source": [
    "some = some[some.ERA_Minor < 20]"
   ]
  },
  {
   "cell_type": "code",
   "execution_count": 213,
   "metadata": {
    "collapsed": false
   },
   "outputs": [],
   "source": [
    "some = some[some.RAvg < 20]"
   ]
  },
  {
   "cell_type": "markdown",
   "metadata": {},
   "source": [
    "## Histogram, feature vs label"
   ]
  },
  {
   "cell_type": "code",
   "execution_count": 655,
   "metadata": {
    "collapsed": false
   },
   "outputs": [
    {
     "data": {
      "text/plain": [
       "Index([u'Aff_pitching', u'AgeDif_pitching', u'Age_pitching', u'BB9', u'BF',\n",
       "       u'CS_perc', u'Drafted', u'ERA_Minor', u'Fld_perc', u'GF', u'GS_Minor',\n",
       "       u'G_pitching', u'H9', u'HR9', u'Height', u'IP', u'L_Minor', u'Lev',\n",
       "       u'Lg_pitching', u'Name', u'RAvg', u'Rookie?', u'SO/W', u'SO9',\n",
       "       u'SV_Minor', u'Throws_left', u'Throws_right', u'W_Minor', u'WHIP',\n",
       "       u'WP', u'Weight', u'Year', u'player_id', u'Role', u'yearID', u'teamID',\n",
       "       u'yearID.1', u'POS', u'W_MLB', u'L_MLB', u'G', u'GS_MLB', u'SV_MLB',\n",
       "       u'IPouts', u'BAOpp', u'ERA_MLB', u'numPlayer', u'Age'],\n",
       "      dtype='object')"
      ]
     },
     "execution_count": 655,
     "metadata": {},
     "output_type": "execute_result"
    }
   ],
   "source": [
    "some.columns"
   ]
  },
  {
   "cell_type": "code",
   "execution_count": 656,
   "metadata": {
    "collapsed": false
   },
   "outputs": [],
   "source": [
    "forgraph = some.loc[:, (some.dtypes!=object)].drop(['yearID', 'yearID.1', 'player_id'], axis=1)"
   ]
  },
  {
   "cell_type": "code",
   "execution_count": 657,
   "metadata": {
    "collapsed": true
   },
   "outputs": [],
   "source": [
    "forgraph = forgraph[forgraph.Year >= 1999]"
   ]
  },
  {
   "cell_type": "code",
   "execution_count": 1,
   "metadata": {
    "collapsed": false,
    "scrolled": false
   },
   "outputs": [
    {
     "ename": "NameError",
     "evalue": "name 'np' is not defined",
     "output_type": "error",
     "traceback": [
      "\u001b[1;31m---------------------------------------------------------------------------\u001b[0m",
      "\u001b[1;31mNameError\u001b[0m                                 Traceback (most recent call last)",
      "\u001b[1;32m<ipython-input-1-9f0d1a52b469>\u001b[0m in \u001b[0;36m<module>\u001b[1;34m()\u001b[0m\n\u001b[1;32m----> 1\u001b[1;33m \u001b[0mbins\u001b[0m \u001b[1;33m=\u001b[0m \u001b[0mnp\u001b[0m\u001b[1;33m.\u001b[0m\u001b[0marange\u001b[0m\u001b[1;33m(\u001b[0m\u001b[1;33m-\u001b[0m\u001b[1;36m100\u001b[0m\u001b[1;33m,\u001b[0m \u001b[1;36m100\u001b[0m\u001b[1;33m,\u001b[0m \u001b[1;36m5\u001b[0m\u001b[1;33m)\u001b[0m\u001b[1;33m\u001b[0m\u001b[0m\n\u001b[0m\u001b[0;32m      2\u001b[0m \u001b[1;32mfor\u001b[0m \u001b[0mcolumn\u001b[0m \u001b[1;32min\u001b[0m \u001b[0mforgraph\u001b[0m\u001b[1;33m.\u001b[0m\u001b[0mcolumns\u001b[0m\u001b[1;33m:\u001b[0m\u001b[1;33m\u001b[0m\u001b[0m\n\u001b[0;32m      3\u001b[0m     \u001b[0mfig\u001b[0m \u001b[1;33m=\u001b[0m \u001b[0mplt\u001b[0m\u001b[1;33m.\u001b[0m\u001b[0mfigure\u001b[0m\u001b[1;33m(\u001b[0m\u001b[0mfigsize\u001b[0m\u001b[1;33m=\u001b[0m\u001b[1;33m(\u001b[0m\u001b[1;36m12\u001b[0m\u001b[1;33m,\u001b[0m \u001b[1;36m8\u001b[0m\u001b[1;33m)\u001b[0m\u001b[1;33m)\u001b[0m\u001b[1;33m\u001b[0m\u001b[0m\n\u001b[0;32m      4\u001b[0m     \u001b[0m_\u001b[0m \u001b[1;33m=\u001b[0m \u001b[0mplt\u001b[0m\u001b[1;33m.\u001b[0m\u001b[0mhist\u001b[0m\u001b[1;33m(\u001b[0m\u001b[0msome\u001b[0m\u001b[1;33m[\u001b[0m\u001b[0msome\u001b[0m\u001b[1;33m[\u001b[0m\u001b[1;34m'Rookie?'\u001b[0m\u001b[1;33m]\u001b[0m \u001b[1;33m==\u001b[0m \u001b[1;36m1\u001b[0m\u001b[1;33m]\u001b[0m\u001b[1;33m[\u001b[0m\u001b[0mcolumn\u001b[0m\u001b[1;33m]\u001b[0m\u001b[1;33m.\u001b[0m\u001b[0mdropna\u001b[0m\u001b[1;33m(\u001b[0m\u001b[1;33m)\u001b[0m\u001b[1;33m,\u001b[0m \u001b[0mbins\u001b[0m\u001b[1;33m=\u001b[0m\u001b[1;36m70\u001b[0m\u001b[1;33m,\u001b[0m \u001b[0mstacked\u001b[0m\u001b[1;33m=\u001b[0m\u001b[0mTrue\u001b[0m\u001b[1;33m,\u001b[0m \u001b[0malpha\u001b[0m\u001b[1;33m=\u001b[0m\u001b[1;36m0.4\u001b[0m\u001b[1;33m,\u001b[0m \u001b[0mlabel\u001b[0m\u001b[1;33m=\u001b[0m\u001b[1;34m'Making majors'\u001b[0m\u001b[1;33m,\u001b[0m \u001b[0mnormed\u001b[0m\u001b[1;33m=\u001b[0m\u001b[0mTrue\u001b[0m\u001b[1;33m,\u001b[0m \u001b[0mcolor\u001b[0m\u001b[1;33m=\u001b[0m\u001b[1;34m'#ff0066'\u001b[0m\u001b[1;33m)\u001b[0m\u001b[1;33m\u001b[0m\u001b[0m\n\u001b[0;32m      5\u001b[0m     \u001b[0m_\u001b[0m \u001b[1;33m=\u001b[0m \u001b[0mplt\u001b[0m\u001b[1;33m.\u001b[0m\u001b[0mhist\u001b[0m\u001b[1;33m(\u001b[0m\u001b[0msome\u001b[0m\u001b[1;33m[\u001b[0m\u001b[0msome\u001b[0m\u001b[1;33m[\u001b[0m\u001b[1;34m'Rookie?'\u001b[0m\u001b[1;33m]\u001b[0m \u001b[1;33m==\u001b[0m \u001b[1;36m0\u001b[0m\u001b[1;33m]\u001b[0m\u001b[1;33m[\u001b[0m\u001b[0mcolumn\u001b[0m\u001b[1;33m]\u001b[0m\u001b[1;33m.\u001b[0m\u001b[0mdropna\u001b[0m\u001b[1;33m(\u001b[0m\u001b[1;33m)\u001b[0m\u001b[1;33m,\u001b[0m \u001b[0mbins\u001b[0m\u001b[1;33m=\u001b[0m\u001b[1;36m100\u001b[0m\u001b[1;33m,\u001b[0m \u001b[0mstacked\u001b[0m\u001b[1;33m=\u001b[0m\u001b[0mTrue\u001b[0m\u001b[1;33m,\u001b[0m \u001b[0malpha\u001b[0m\u001b[1;33m=\u001b[0m\u001b[1;36m0.4\u001b[0m\u001b[1;33m,\u001b[0m \u001b[0mlabel\u001b[0m\u001b[1;33m=\u001b[0m\u001b[1;34m'Not making majors'\u001b[0m\u001b[1;33m,\u001b[0m \u001b[0mnormed\u001b[0m\u001b[1;33m=\u001b[0m\u001b[0mTrue\u001b[0m\u001b[1;33m,\u001b[0m \u001b[0mcolor\u001b[0m\u001b[1;33m=\u001b[0m\u001b[1;34m'#0099ff'\u001b[0m\u001b[1;33m)\u001b[0m\u001b[1;33m\u001b[0m\u001b[0m\n",
      "\u001b[1;31mNameError\u001b[0m: name 'np' is not defined"
     ]
    }
   ],
   "source": [
    "bins = np.arange(-100, 100, 5)\n",
    "for column in forgraph.columns:\n",
    "    fig = plt.figure(figsize=(12, 8))\n",
    "    _ = plt.hist(some[some['Rookie?'] == 1][column].dropna(), bins=70, stacked=True, alpha=0.4, label='Making majors', normed=True, color='#ff0066')\n",
    "    _ = plt.hist(some[some['Rookie?'] == 0][column].dropna(), bins=100, stacked=True, alpha=0.4, label='Not making majors', normed=True, color='#0099ff')\n",
    "    plt.title(column, fontsize=13, fontweight='bold')\n",
    "    plt.xlabel(column, fontsize=12, fontweight='bold', style='italic')\n",
    "    plt.ylabel('Normed Value', fontsize=12, fontweight='bold', style='italic')\n",
    "    plt.legend()\n",
    "    name = '_'.join(column.split('/'))\n",
    "    fig.savefig('/home/jun/Galvanize/capstone/Galvanize_capstone/Images/Hist/%s_hist.png' % name)\n",
    "    \n",
    "   \n",
    "    print column\n"
   ]
  },
  {
   "cell_type": "code",
   "execution_count": 47,
   "metadata": {
    "collapsed": false
   },
   "outputs": [
    {
     "data": {
      "text/plain": [
       "18216    Ramon Arano\n",
       "95192       Bill Lee\n",
       "95193       Bill Lee\n",
       "Name: Name, dtype: object"
      ]
     },
     "execution_count": 47,
     "metadata": {},
     "output_type": "execute_result"
    }
   ],
   "source": [
    "some[some['Age_pitching'] > 60]['Name']"
   ]
  },
  {
   "cell_type": "code",
   "execution_count": 658,
   "metadata": {
    "collapsed": false
   },
   "outputs": [
    {
     "name": "stdout",
     "output_type": "stream",
     "text": [
      "ERROR! Session/line number was not unique in database. History logging moved to new session 1154\n",
      "AgeDif_pitching\n",
      "Age_pitching\n",
      "BB9\n",
      "BF\n",
      "CS_perc\n",
      "Drafted\n",
      "ERA_Minor\n",
      "Fld_perc\n",
      "GF\n",
      "GS_Minor\n",
      "G_pitching\n",
      "H9\n",
      "HR9\n",
      "Height\n",
      "IP\n",
      "L_Minor\n",
      "RAvg\n",
      "Rookie?\n",
      "SO/W\n",
      "SO9\n",
      "SV_Minor\n",
      "Throws_left\n",
      "Throws_right\n",
      "W_Minor\n",
      "WHIP\n",
      "WP\n",
      "Weight\n",
      "Year\n",
      "W_MLB\n",
      "L_MLB\n",
      "G\n",
      "GS_MLB\n",
      "SV_MLB\n",
      "IPouts\n",
      "BAOpp\n",
      "ERA_MLB\n",
      "numPlayer\n",
      "Age\n"
     ]
    },
    {
     "ename": "KeyboardInterrupt",
     "evalue": "",
     "output_type": "error",
     "traceback": [
      "Traceback (most recent call last):\n",
      "  File \"/home/jun/anaconda2/lib/python2.7/site-packages/ipykernel/ipkernel.py\", line 199, in do_execute\n    shell.run_cell(code, store_history=store_history, silent=silent)\n",
      "  File \"/home/jun/anaconda2/lib/python2.7/site-packages/IPython/core/interactiveshell.py\", line 2729, in run_cell\n    self.events.trigger('post_execute')\n",
      "  File \"/home/jun/anaconda2/lib/python2.7/site-packages/IPython/core/events.py\", line 74, in trigger\n    func(*args, **kwargs)\n",
      "  File \"/home/jun/anaconda2/lib/python2.7/site-packages/matplotlib/pyplot.py\", line 147, in post_execute\n    draw_all()\n",
      "  File \"/home/jun/anaconda2/lib/python2.7/site-packages/matplotlib/_pylab_helpers.py\", line 150, in draw_all\n    f_mgr.canvas.draw_idle()\n",
      "  File \"/home/jun/anaconda2/lib/python2.7/site-packages/matplotlib/backend_bases.py\", line 2026, in draw_idle\n    self.draw(*args, **kwargs)\n",
      "  File \"/home/jun/anaconda2/lib/python2.7/site-packages/matplotlib/backends/backend_agg.py\", line 474, in draw\n    self.figure.draw(self.renderer)\n",
      "  File \"/home/jun/anaconda2/lib/python2.7/site-packages/matplotlib/artist.py\", line 61, in draw_wrapper\n    draw(artist, renderer, *args, **kwargs)\n",
      "  File \"/home/jun/anaconda2/lib/python2.7/site-packages/matplotlib/figure.py\", line 1159, in draw\n    func(*args)\n",
      "  File \"/home/jun/anaconda2/lib/python2.7/site-packages/matplotlib/artist.py\", line 61, in draw_wrapper\n    draw(artist, renderer, *args, **kwargs)\n",
      "  File \"/home/jun/anaconda2/lib/python2.7/site-packages/matplotlib/axes/_base.py\", line 2324, in draw\n    a.draw(renderer)\n",
      "  File \"/home/jun/anaconda2/lib/python2.7/site-packages/matplotlib/artist.py\", line 61, in draw_wrapper\n    draw(artist, renderer, *args, **kwargs)\n",
      "  File \"/home/jun/anaconda2/lib/python2.7/site-packages/matplotlib/collections.py\", line 815, in draw\n    Collection.draw(self, renderer)\n",
      "  File \"/home/jun/anaconda2/lib/python2.7/site-packages/matplotlib/artist.py\", line 61, in draw_wrapper\n    draw(artist, renderer, *args, **kwargs)\n",
      "  File \"/home/jun/anaconda2/lib/python2.7/site-packages/matplotlib/collections.py\", line 316, in draw\n    mpath.Path(offsets), transOffset, tuple(facecolors[0]))\n",
      "  File \"/home/jun/anaconda2/lib/python2.7/site-packages/matplotlib/backends/backend_agg.py\", line 123, in draw_markers\n    return self._renderer.draw_markers(*kl, **kw)\n",
      "KeyboardInterrupt\n"
     ]
    }
   ],
   "source": [
    "bins = np.arange(-100, 100, 5)\n",
    "for column in forgraph.columns:\n",
    "    fig = plt.figure(figsize=(12, 8))\n",
    "    _ = plt.scatter(some[column].values, some['Rookie?'].values, alpha=0.1, facecolor='y', edgecolor='r', s=70)\n",
    "    #plt.colorbar()\n",
    "    plt.title(column + ' vs ' + 'MakeMajors', fontsize=13, fontweight='bold')\n",
    "    plt.xlabel(column, fontsize=12, fontweight='bold', style='italic')\n",
    "    plt.ylabel('Make Majors', fontsize=12, fontweight='bold', style='italic')\n",
    "    name = '_'.join(column.split('/'))\n",
    "    fig.savefig('/home/jun/Galvanize/capstone/Galvanize_capstone/Images/%s_scatter.png' % name)\n",
    "    \n",
    "   \n",
    "    print column\n"
   ]
  },
  {
   "cell_type": "code",
   "execution_count": 214,
   "metadata": {
    "collapsed": false
   },
   "outputs": [],
   "source": [
    "pitchers = some"
   ]
  },
  {
   "cell_type": "code",
   "execution_count": 215,
   "metadata": {
    "collapsed": false
   },
   "outputs": [
    {
     "data": {
      "text/plain": [
       "0    117352\n",
       "1      1831\n",
       "Name: Rookie?, dtype: int64"
      ]
     },
     "execution_count": 215,
     "metadata": {},
     "output_type": "execute_result"
    }
   ],
   "source": [
    "pitchers['Rookie?'].value_counts()"
   ]
  },
  {
   "cell_type": "code",
   "execution_count": 216,
   "metadata": {
    "collapsed": true
   },
   "outputs": [],
   "source": [
    "pitch_copy = pitchers.copy()  # saving a copy"
   ]
  },
  {
   "cell_type": "code",
   "execution_count": 217,
   "metadata": {
    "collapsed": false
   },
   "outputs": [],
   "source": [
    "pitchers = pitchers.drop(['CS_perc', 'Fld_perc', 'GF'], axis=1)"
   ]
  },
  {
   "cell_type": "code",
   "execution_count": 218,
   "metadata": {
    "collapsed": false
   },
   "outputs": [
    {
     "data": {
      "text/html": [
       "<div>\n",
       "<table border=\"1\" class=\"dataframe\">\n",
       "  <thead>\n",
       "    <tr style=\"text-align: right;\">\n",
       "      <th></th>\n",
       "      <th>37287</th>\n",
       "      <th>37288</th>\n",
       "      <th>37343</th>\n",
       "      <th>37344</th>\n",
       "      <th>37345</th>\n",
       "    </tr>\n",
       "  </thead>\n",
       "  <tbody>\n",
       "    <tr>\n",
       "      <th>Aff_pitching</th>\n",
       "      <td>MIN</td>\n",
       "      <td>MIN</td>\n",
       "      <td>BOS</td>\n",
       "      <td>BOS</td>\n",
       "      <td>NaN</td>\n",
       "    </tr>\n",
       "    <tr>\n",
       "      <th>AgeDif_pitching</th>\n",
       "      <td>-2.6</td>\n",
       "      <td>-4.3</td>\n",
       "      <td>-0.5</td>\n",
       "      <td>-3.2</td>\n",
       "      <td>-4.3</td>\n",
       "    </tr>\n",
       "    <tr>\n",
       "      <th>Age_pitching</th>\n",
       "      <td>20</td>\n",
       "      <td>20</td>\n",
       "      <td>24</td>\n",
       "      <td>24</td>\n",
       "      <td>24</td>\n",
       "    </tr>\n",
       "    <tr>\n",
       "      <th>BB9</th>\n",
       "      <td>3.3</td>\n",
       "      <td>3.9</td>\n",
       "      <td>3.3</td>\n",
       "      <td>7.1</td>\n",
       "      <td>6.4</td>\n",
       "    </tr>\n",
       "    <tr>\n",
       "      <th>BF</th>\n",
       "      <td>486</td>\n",
       "      <td>180</td>\n",
       "      <td>118</td>\n",
       "      <td>154</td>\n",
       "      <td>48</td>\n",
       "    </tr>\n",
       "    <tr>\n",
       "      <th>Drafted</th>\n",
       "      <td>0</td>\n",
       "      <td>0</td>\n",
       "      <td>1</td>\n",
       "      <td>1</td>\n",
       "      <td>1</td>\n",
       "    </tr>\n",
       "    <tr>\n",
       "      <th>ERA</th>\n",
       "      <td>4</td>\n",
       "      <td>3.18</td>\n",
       "      <td>2.43</td>\n",
       "      <td>5.18</td>\n",
       "      <td>1.59</td>\n",
       "    </tr>\n",
       "    <tr>\n",
       "      <th>GS</th>\n",
       "      <td>21</td>\n",
       "      <td>7</td>\n",
       "      <td>0</td>\n",
       "      <td>0</td>\n",
       "      <td>0</td>\n",
       "    </tr>\n",
       "    <tr>\n",
       "      <th>G_pitching</th>\n",
       "      <td>21</td>\n",
       "      <td>7</td>\n",
       "      <td>21</td>\n",
       "      <td>26</td>\n",
       "      <td>12</td>\n",
       "    </tr>\n",
       "    <tr>\n",
       "      <th>H9</th>\n",
       "      <td>9.1</td>\n",
       "      <td>10.2</td>\n",
       "      <td>5.5</td>\n",
       "      <td>8.5</td>\n",
       "      <td>7.1</td>\n",
       "    </tr>\n",
       "    <tr>\n",
       "      <th>HR9</th>\n",
       "      <td>0.5</td>\n",
       "      <td>0.9</td>\n",
       "      <td>0.9</td>\n",
       "      <td>0.5</td>\n",
       "      <td>0</td>\n",
       "    </tr>\n",
       "    <tr>\n",
       "      <th>Height</th>\n",
       "      <td>187.96</td>\n",
       "      <td>187.96</td>\n",
       "      <td>195.58</td>\n",
       "      <td>195.58</td>\n",
       "      <td>195.58</td>\n",
       "    </tr>\n",
       "    <tr>\n",
       "      <th>IP</th>\n",
       "      <td>117</td>\n",
       "      <td>39.2</td>\n",
       "      <td>29.2</td>\n",
       "      <td>33</td>\n",
       "      <td>11.1</td>\n",
       "    </tr>\n",
       "    <tr>\n",
       "      <th>L</th>\n",
       "      <td>7</td>\n",
       "      <td>2</td>\n",
       "      <td>1</td>\n",
       "      <td>4</td>\n",
       "      <td>0</td>\n",
       "    </tr>\n",
       "    <tr>\n",
       "      <th>Lev</th>\n",
       "      <td>A+</td>\n",
       "      <td>AA</td>\n",
       "      <td>AA</td>\n",
       "      <td>AAA</td>\n",
       "      <td>FgW</td>\n",
       "    </tr>\n",
       "    <tr>\n",
       "      <th>Lg_pitching</th>\n",
       "      <td>FLOR</td>\n",
       "      <td>EL</td>\n",
       "      <td>EL</td>\n",
       "      <td>IL</td>\n",
       "      <td>PRWL</td>\n",
       "    </tr>\n",
       "    <tr>\n",
       "      <th>Name</th>\n",
       "      <td>Francisco Liriano</td>\n",
       "      <td>Francisco Liriano</td>\n",
       "      <td>Pat Light</td>\n",
       "      <td>Pat Light</td>\n",
       "      <td>Pat Light</td>\n",
       "    </tr>\n",
       "    <tr>\n",
       "      <th>RAvg</th>\n",
       "      <td>4.31</td>\n",
       "      <td>3.18</td>\n",
       "      <td>3.34</td>\n",
       "      <td>5.18</td>\n",
       "      <td>1.59</td>\n",
       "    </tr>\n",
       "    <tr>\n",
       "      <th>Rookie?</th>\n",
       "      <td>1</td>\n",
       "      <td>1</td>\n",
       "      <td>1</td>\n",
       "      <td>1</td>\n",
       "      <td>1</td>\n",
       "    </tr>\n",
       "    <tr>\n",
       "      <th>SO/W</th>\n",
       "      <td>2.91</td>\n",
       "      <td>2.88</td>\n",
       "      <td>2.91</td>\n",
       "      <td>1.35</td>\n",
       "      <td>1.25</td>\n",
       "    </tr>\n",
       "    <tr>\n",
       "      <th>SO9</th>\n",
       "      <td>9.6</td>\n",
       "      <td>11.1</td>\n",
       "      <td>9.7</td>\n",
       "      <td>9.5</td>\n",
       "      <td>7.9</td>\n",
       "    </tr>\n",
       "    <tr>\n",
       "      <th>SV</th>\n",
       "      <td>0</td>\n",
       "      <td>0</td>\n",
       "      <td>3</td>\n",
       "      <td>2</td>\n",
       "      <td>0</td>\n",
       "    </tr>\n",
       "    <tr>\n",
       "      <th>Throws</th>\n",
       "      <td>1</td>\n",
       "      <td>1</td>\n",
       "      <td>0</td>\n",
       "      <td>0</td>\n",
       "      <td>0</td>\n",
       "    </tr>\n",
       "    <tr>\n",
       "      <th>Tm</th>\n",
       "      <td>FortMyers</td>\n",
       "      <td>NewBritain</td>\n",
       "      <td>Portland</td>\n",
       "      <td>Pawtucket</td>\n",
       "      <td>Caguas</td>\n",
       "    </tr>\n",
       "    <tr>\n",
       "      <th>W</th>\n",
       "      <td>6</td>\n",
       "      <td>3</td>\n",
       "      <td>1</td>\n",
       "      <td>2</td>\n",
       "      <td>1</td>\n",
       "    </tr>\n",
       "    <tr>\n",
       "      <th>WHIP</th>\n",
       "      <td>1.376</td>\n",
       "      <td>1.563</td>\n",
       "      <td>0.978</td>\n",
       "      <td>1.727</td>\n",
       "      <td>1.5</td>\n",
       "    </tr>\n",
       "    <tr>\n",
       "      <th>WP</th>\n",
       "      <td>6</td>\n",
       "      <td>3</td>\n",
       "      <td>1</td>\n",
       "      <td>1</td>\n",
       "      <td>2</td>\n",
       "    </tr>\n",
       "    <tr>\n",
       "      <th>Weight</th>\n",
       "      <td>225</td>\n",
       "      <td>225</td>\n",
       "      <td>220</td>\n",
       "      <td>220</td>\n",
       "      <td>220</td>\n",
       "    </tr>\n",
       "    <tr>\n",
       "      <th>Year</th>\n",
       "      <td>2004</td>\n",
       "      <td>2004</td>\n",
       "      <td>2015</td>\n",
       "      <td>2015</td>\n",
       "      <td>2015</td>\n",
       "    </tr>\n",
       "    <tr>\n",
       "      <th>player_id</th>\n",
       "      <td>11114</td>\n",
       "      <td>11114</td>\n",
       "      <td>11132</td>\n",
       "      <td>11132</td>\n",
       "      <td>11132</td>\n",
       "    </tr>\n",
       "    <tr>\n",
       "      <th>Role</th>\n",
       "      <td>sp</td>\n",
       "      <td>sp</td>\n",
       "      <td>rp</td>\n",
       "      <td>rp</td>\n",
       "      <td>rp</td>\n",
       "    </tr>\n",
       "  </tbody>\n",
       "</table>\n",
       "</div>"
      ],
      "text/plain": [
       "                             37287              37288      37343      37344  \\\n",
       "Aff_pitching                   MIN                MIN        BOS        BOS   \n",
       "AgeDif_pitching               -2.6               -4.3       -0.5       -3.2   \n",
       "Age_pitching                    20                 20         24         24   \n",
       "BB9                            3.3                3.9        3.3        7.1   \n",
       "BF                             486                180        118        154   \n",
       "Drafted                          0                  0          1          1   \n",
       "ERA                              4               3.18       2.43       5.18   \n",
       "GS                              21                  7          0          0   \n",
       "G_pitching                      21                  7         21         26   \n",
       "H9                             9.1               10.2        5.5        8.5   \n",
       "HR9                            0.5                0.9        0.9        0.5   \n",
       "Height                      187.96             187.96     195.58     195.58   \n",
       "IP                             117               39.2       29.2         33   \n",
       "L                                7                  2          1          4   \n",
       "Lev                             A+                 AA         AA        AAA   \n",
       "Lg_pitching                   FLOR                 EL         EL         IL   \n",
       "Name             Francisco Liriano  Francisco Liriano  Pat Light  Pat Light   \n",
       "RAvg                          4.31               3.18       3.34       5.18   \n",
       "Rookie?                          1                  1          1          1   \n",
       "SO/W                          2.91               2.88       2.91       1.35   \n",
       "SO9                            9.6               11.1        9.7        9.5   \n",
       "SV                               0                  0          3          2   \n",
       "Throws                           1                  1          0          0   \n",
       "Tm                       FortMyers         NewBritain   Portland  Pawtucket   \n",
       "W                                6                  3          1          2   \n",
       "WHIP                         1.376              1.563      0.978      1.727   \n",
       "WP                               6                  3          1          1   \n",
       "Weight                         225                225        220        220   \n",
       "Year                          2004               2004       2015       2015   \n",
       "player_id                    11114              11114      11132      11132   \n",
       "Role                            sp                 sp         rp         rp   \n",
       "\n",
       "                     37345  \n",
       "Aff_pitching           NaN  \n",
       "AgeDif_pitching       -4.3  \n",
       "Age_pitching            24  \n",
       "BB9                    6.4  \n",
       "BF                      48  \n",
       "Drafted                  1  \n",
       "ERA                   1.59  \n",
       "GS                       0  \n",
       "G_pitching              12  \n",
       "H9                     7.1  \n",
       "HR9                      0  \n",
       "Height              195.58  \n",
       "IP                    11.1  \n",
       "L                        0  \n",
       "Lev                    FgW  \n",
       "Lg_pitching           PRWL  \n",
       "Name             Pat Light  \n",
       "RAvg                  1.59  \n",
       "Rookie?                  1  \n",
       "SO/W                  1.25  \n",
       "SO9                    7.9  \n",
       "SV                       0  \n",
       "Throws                   0  \n",
       "Tm                  Caguas  \n",
       "W                        1  \n",
       "WHIP                   1.5  \n",
       "WP                       2  \n",
       "Weight                 220  \n",
       "Year                  2015  \n",
       "player_id            11132  \n",
       "Role                    rp  "
      ]
     },
     "execution_count": 218,
     "metadata": {},
     "output_type": "execute_result"
    }
   ],
   "source": [
    "pitchers[pitchers['Rookie?'] == 1].head().T"
   ]
  },
  {
   "cell_type": "code",
   "execution_count": 219,
   "metadata": {
    "collapsed": false
   },
   "outputs": [
    {
     "data": {
      "text/plain": [
       "AAA    19078\n",
       "Rk     17551\n",
       "A+     14789\n",
       "AA     14498\n",
       "A      12782\n",
       "Ind    11725\n",
       "A-      8877\n",
       "FRk     8045\n",
       "FgW     6504\n",
       "Fgn     2683\n",
       "Fal     1447\n",
       "MLB     1018\n",
       "WRk      186\n",
       "Name: Lev, dtype: int64"
      ]
     },
     "execution_count": 219,
     "metadata": {},
     "output_type": "execute_result"
    }
   ],
   "source": [
    "pitchers['Lev'].value_counts()"
   ]
  },
  {
   "cell_type": "code",
   "execution_count": 220,
   "metadata": {
    "collapsed": true
   },
   "outputs": [],
   "source": [
    "Lv_kept = ['FRk', 'Rk', 'A-', 'A', 'A+', 'AA', 'AAA']\n",
    "Lv_drop = ['WRk', 'MLB', 'FgW', 'Fal', 'Fgn', 'Ind'] "
   ]
  },
  {
   "cell_type": "code",
   "execution_count": 221,
   "metadata": {
    "collapsed": true
   },
   "outputs": [],
   "source": [
    "Lv_kept_dict = {}\n",
    "for ix, lv in enumerate(Lv_kept):\n",
    "    Lv_kept_dict[lv] = ix"
   ]
  },
  {
   "cell_type": "code",
   "execution_count": 222,
   "metadata": {
    "collapsed": false
   },
   "outputs": [],
   "source": [
    "pitchers.index = range(pitchers.shape[0])"
   ]
  },
  {
   "cell_type": "code",
   "execution_count": 223,
   "metadata": {
    "collapsed": false
   },
   "outputs": [],
   "source": [
    "idx_tbd = []\n",
    "for idx, elem in enumerate(pitchers.Lev):\n",
    "    if elem in Lv_drop:\n",
    "        idx_tbd.append(idx)\n",
    "    else:\n",
    "        pitchers.set_value(idx, 'Lev', Lv_kept_dict[elem])"
   ]
  },
  {
   "cell_type": "code",
   "execution_count": 224,
   "metadata": {
    "collapsed": true
   },
   "outputs": [],
   "source": [
    "pitchers = pitchers.drop(pitchers.index[idx_tbd])"
   ]
  },
  {
   "cell_type": "code",
   "execution_count": 225,
   "metadata": {
    "collapsed": false
   },
   "outputs": [
    {
     "data": {
      "text/plain": [
       "(95620, 31)"
      ]
     },
     "execution_count": 225,
     "metadata": {},
     "output_type": "execute_result"
    }
   ],
   "source": [
    "pitchers.shape"
   ]
  },
  {
   "cell_type": "markdown",
   "metadata": {},
   "source": [
    "-----"
   ]
  },
  {
   "cell_type": "code",
   "execution_count": 90,
   "metadata": {
    "collapsed": false
   },
   "outputs": [],
   "source": [
    "duplicated_rows = pitchers[pitchers.duplicated(['player_id', 'Year'], keep=False)][['player_id', 'Year', 'Lev']]"
   ]
  },
  {
   "cell_type": "code",
   "execution_count": 91,
   "metadata": {
    "collapsed": true
   },
   "outputs": [],
   "source": [
    "prev_idx_set = duplicated_rows.groupby(['player_id', 'Year']).groups  # idx for each duplicated set"
   ]
  },
  {
   "cell_type": "code",
   "execution_count": 92,
   "metadata": {
    "collapsed": true
   },
   "outputs": [],
   "source": [
    "pitchers.insert(1, 'Pre_lev', pitchers.Lev)"
   ]
  },
  {
   "cell_type": "code",
   "execution_count": 93,
   "metadata": {
    "collapsed": true
   },
   "outputs": [],
   "source": [
    "for values in prev_idx_set.values():\n",
    "    pitchers = pitchers.set_value(values[-1], 'Pre_lev', pitchers.ix[values[-2]].Lev)"
   ]
  },
  {
   "cell_type": "code",
   "execution_count": 94,
   "metadata": {
    "collapsed": false
   },
   "outputs": [],
   "source": [
    "pitchers = pitchers.drop_duplicates(['player_id', 'Year'], keep='last')"
   ]
  },
  {
   "cell_type": "code",
   "execution_count": 95,
   "metadata": {
    "collapsed": true
   },
   "outputs": [],
   "source": [
    "pitchers[['Lev', 'Pre_lev']] = pitchers[['Lev', 'Pre_lev']].apply(lambda x: pd.to_numeric(x))"
   ]
  },
  {
   "cell_type": "code",
   "execution_count": 64,
   "metadata": {
    "collapsed": true
   },
   "outputs": [],
   "source": [
    "y = pitchers.pop('Rookie?')"
   ]
  },
  {
   "cell_type": "code",
   "execution_count": 65,
   "metadata": {
    "collapsed": true
   },
   "outputs": [],
   "source": [
    "X = pitchers"
   ]
  },
  {
   "cell_type": "code",
   "execution_count": 66,
   "metadata": {
    "collapsed": false
   },
   "outputs": [],
   "source": [
    "X = X.loc[:, X.dtypes != object]"
   ]
  },
  {
   "cell_type": "code",
   "execution_count": 67,
   "metadata": {
    "collapsed": false
   },
   "outputs": [],
   "source": [
    "X = X.drop(['player_id', 'Year'], axis=1)"
   ]
  },
  {
   "cell_type": "code",
   "execution_count": 68,
   "metadata": {
    "collapsed": false
   },
   "outputs": [],
   "source": [
    "X = X.drop(['yearID.1', 'yearID'], axis=1)"
   ]
  },
  {
   "cell_type": "code",
   "execution_count": 69,
   "metadata": {
    "collapsed": false
   },
   "outputs": [],
   "source": [
    "X = X.fillna(0)"
   ]
  },
  {
   "cell_type": "code",
   "execution_count": 70,
   "metadata": {
    "collapsed": false
   },
   "outputs": [
    {
     "data": {
      "text/html": [
       "<div>\n",
       "<table border=\"1\" class=\"dataframe\">\n",
       "  <thead>\n",
       "    <tr style=\"text-align: right;\">\n",
       "      <th></th>\n",
       "      <th>Pre_lev</th>\n",
       "      <th>Lev</th>\n",
       "    </tr>\n",
       "  </thead>\n",
       "  <tbody>\n",
       "    <tr>\n",
       "      <th>34186</th>\n",
       "      <td>5</td>\n",
       "      <td>6</td>\n",
       "    </tr>\n",
       "    <tr>\n",
       "      <th>34242</th>\n",
       "      <td>6</td>\n",
       "      <td>8</td>\n",
       "    </tr>\n",
       "    <tr>\n",
       "      <th>34304</th>\n",
       "      <td>5</td>\n",
       "      <td>6</td>\n",
       "    </tr>\n",
       "    <tr>\n",
       "      <th>34809</th>\n",
       "      <td>7</td>\n",
       "      <td>7</td>\n",
       "    </tr>\n",
       "    <tr>\n",
       "      <th>35269</th>\n",
       "      <td>7</td>\n",
       "      <td>7</td>\n",
       "    </tr>\n",
       "    <tr>\n",
       "      <th>36848</th>\n",
       "      <td>8</td>\n",
       "      <td>8</td>\n",
       "    </tr>\n",
       "    <tr>\n",
       "      <th>37810</th>\n",
       "      <td>5</td>\n",
       "      <td>6</td>\n",
       "    </tr>\n",
       "    <tr>\n",
       "      <th>55408</th>\n",
       "      <td>6</td>\n",
       "      <td>6</td>\n",
       "    </tr>\n",
       "    <tr>\n",
       "      <th>55490</th>\n",
       "      <td>5</td>\n",
       "      <td>6</td>\n",
       "    </tr>\n",
       "    <tr>\n",
       "      <th>55544</th>\n",
       "      <td>6</td>\n",
       "      <td>8</td>\n",
       "    </tr>\n",
       "    <tr>\n",
       "      <th>55594</th>\n",
       "      <td>6</td>\n",
       "      <td>8</td>\n",
       "    </tr>\n",
       "    <tr>\n",
       "      <th>55627</th>\n",
       "      <td>5</td>\n",
       "      <td>6</td>\n",
       "    </tr>\n",
       "    <tr>\n",
       "      <th>55902</th>\n",
       "      <td>6</td>\n",
       "      <td>6</td>\n",
       "    </tr>\n",
       "    <tr>\n",
       "      <th>55911</th>\n",
       "      <td>6</td>\n",
       "      <td>8</td>\n",
       "    </tr>\n",
       "    <tr>\n",
       "      <th>55920</th>\n",
       "      <td>2</td>\n",
       "      <td>2</td>\n",
       "    </tr>\n",
       "    <tr>\n",
       "      <th>55955</th>\n",
       "      <td>6</td>\n",
       "      <td>6</td>\n",
       "    </tr>\n",
       "    <tr>\n",
       "      <th>56088</th>\n",
       "      <td>6</td>\n",
       "      <td>6</td>\n",
       "    </tr>\n",
       "    <tr>\n",
       "      <th>56205</th>\n",
       "      <td>8</td>\n",
       "      <td>8</td>\n",
       "    </tr>\n",
       "    <tr>\n",
       "      <th>56223</th>\n",
       "      <td>6</td>\n",
       "      <td>6</td>\n",
       "    </tr>\n",
       "    <tr>\n",
       "      <th>56329</th>\n",
       "      <td>5</td>\n",
       "      <td>6</td>\n",
       "    </tr>\n",
       "    <tr>\n",
       "      <th>56358</th>\n",
       "      <td>5</td>\n",
       "      <td>6</td>\n",
       "    </tr>\n",
       "    <tr>\n",
       "      <th>56375</th>\n",
       "      <td>6</td>\n",
       "      <td>8</td>\n",
       "    </tr>\n",
       "    <tr>\n",
       "      <th>56390</th>\n",
       "      <td>1</td>\n",
       "      <td>5</td>\n",
       "    </tr>\n",
       "    <tr>\n",
       "      <th>56414</th>\n",
       "      <td>6</td>\n",
       "      <td>6</td>\n",
       "    </tr>\n",
       "    <tr>\n",
       "      <th>56475</th>\n",
       "      <td>5</td>\n",
       "      <td>6</td>\n",
       "    </tr>\n",
       "    <tr>\n",
       "      <th>56502</th>\n",
       "      <td>6</td>\n",
       "      <td>8</td>\n",
       "    </tr>\n",
       "    <tr>\n",
       "      <th>56634</th>\n",
       "      <td>6</td>\n",
       "      <td>6</td>\n",
       "    </tr>\n",
       "    <tr>\n",
       "      <th>56678</th>\n",
       "      <td>6</td>\n",
       "      <td>8</td>\n",
       "    </tr>\n",
       "    <tr>\n",
       "      <th>56749</th>\n",
       "      <td>8</td>\n",
       "      <td>8</td>\n",
       "    </tr>\n",
       "    <tr>\n",
       "      <th>56846</th>\n",
       "      <td>6</td>\n",
       "      <td>8</td>\n",
       "    </tr>\n",
       "    <tr>\n",
       "      <th>...</th>\n",
       "      <td>...</td>\n",
       "      <td>...</td>\n",
       "    </tr>\n",
       "    <tr>\n",
       "      <th>117445</th>\n",
       "      <td>8</td>\n",
       "      <td>8</td>\n",
       "    </tr>\n",
       "    <tr>\n",
       "      <th>117500</th>\n",
       "      <td>6</td>\n",
       "      <td>6</td>\n",
       "    </tr>\n",
       "    <tr>\n",
       "      <th>117561</th>\n",
       "      <td>8</td>\n",
       "      <td>8</td>\n",
       "    </tr>\n",
       "    <tr>\n",
       "      <th>117599</th>\n",
       "      <td>3</td>\n",
       "      <td>3</td>\n",
       "    </tr>\n",
       "    <tr>\n",
       "      <th>117652</th>\n",
       "      <td>6</td>\n",
       "      <td>6</td>\n",
       "    </tr>\n",
       "    <tr>\n",
       "      <th>117672</th>\n",
       "      <td>6</td>\n",
       "      <td>8</td>\n",
       "    </tr>\n",
       "    <tr>\n",
       "      <th>117699</th>\n",
       "      <td>3</td>\n",
       "      <td>3</td>\n",
       "    </tr>\n",
       "    <tr>\n",
       "      <th>117712</th>\n",
       "      <td>6</td>\n",
       "      <td>6</td>\n",
       "    </tr>\n",
       "    <tr>\n",
       "      <th>117762</th>\n",
       "      <td>6</td>\n",
       "      <td>8</td>\n",
       "    </tr>\n",
       "    <tr>\n",
       "      <th>117970</th>\n",
       "      <td>5</td>\n",
       "      <td>6</td>\n",
       "    </tr>\n",
       "    <tr>\n",
       "      <th>118054</th>\n",
       "      <td>6</td>\n",
       "      <td>8</td>\n",
       "    </tr>\n",
       "    <tr>\n",
       "      <th>118159</th>\n",
       "      <td>6</td>\n",
       "      <td>8</td>\n",
       "    </tr>\n",
       "    <tr>\n",
       "      <th>118169</th>\n",
       "      <td>7</td>\n",
       "      <td>7</td>\n",
       "    </tr>\n",
       "    <tr>\n",
       "      <th>118230</th>\n",
       "      <td>5</td>\n",
       "      <td>6</td>\n",
       "    </tr>\n",
       "    <tr>\n",
       "      <th>118281</th>\n",
       "      <td>6</td>\n",
       "      <td>8</td>\n",
       "    </tr>\n",
       "    <tr>\n",
       "      <th>118329</th>\n",
       "      <td>6</td>\n",
       "      <td>6</td>\n",
       "    </tr>\n",
       "    <tr>\n",
       "      <th>118362</th>\n",
       "      <td>4</td>\n",
       "      <td>3</td>\n",
       "    </tr>\n",
       "    <tr>\n",
       "      <th>118523</th>\n",
       "      <td>3</td>\n",
       "      <td>3</td>\n",
       "    </tr>\n",
       "    <tr>\n",
       "      <th>118572</th>\n",
       "      <td>7</td>\n",
       "      <td>7</td>\n",
       "    </tr>\n",
       "    <tr>\n",
       "      <th>118585</th>\n",
       "      <td>5</td>\n",
       "      <td>5</td>\n",
       "    </tr>\n",
       "    <tr>\n",
       "      <th>118640</th>\n",
       "      <td>3</td>\n",
       "      <td>3</td>\n",
       "    </tr>\n",
       "    <tr>\n",
       "      <th>118643</th>\n",
       "      <td>5</td>\n",
       "      <td>6</td>\n",
       "    </tr>\n",
       "    <tr>\n",
       "      <th>118724</th>\n",
       "      <td>6</td>\n",
       "      <td>8</td>\n",
       "    </tr>\n",
       "    <tr>\n",
       "      <th>118785</th>\n",
       "      <td>6</td>\n",
       "      <td>8</td>\n",
       "    </tr>\n",
       "    <tr>\n",
       "      <th>118863</th>\n",
       "      <td>5</td>\n",
       "      <td>6</td>\n",
       "    </tr>\n",
       "    <tr>\n",
       "      <th>118964</th>\n",
       "      <td>6</td>\n",
       "      <td>6</td>\n",
       "    </tr>\n",
       "    <tr>\n",
       "      <th>118979</th>\n",
       "      <td>6</td>\n",
       "      <td>8</td>\n",
       "    </tr>\n",
       "    <tr>\n",
       "      <th>118996</th>\n",
       "      <td>3</td>\n",
       "      <td>3</td>\n",
       "    </tr>\n",
       "    <tr>\n",
       "      <th>119041</th>\n",
       "      <td>6</td>\n",
       "      <td>6</td>\n",
       "    </tr>\n",
       "    <tr>\n",
       "      <th>119081</th>\n",
       "      <td>8</td>\n",
       "      <td>8</td>\n",
       "    </tr>\n",
       "  </tbody>\n",
       "</table>\n",
       "<p>945 rows × 2 columns</p>\n",
       "</div>"
      ],
      "text/plain": [
       "        Pre_lev  Lev\n",
       "34186         5    6\n",
       "34242         6    8\n",
       "34304         5    6\n",
       "34809         7    7\n",
       "35269         7    7\n",
       "36848         8    8\n",
       "37810         5    6\n",
       "55408         6    6\n",
       "55490         5    6\n",
       "55544         6    8\n",
       "55594         6    8\n",
       "55627         5    6\n",
       "55902         6    6\n",
       "55911         6    8\n",
       "55920         2    2\n",
       "55955         6    6\n",
       "56088         6    6\n",
       "56205         8    8\n",
       "56223         6    6\n",
       "56329         5    6\n",
       "56358         5    6\n",
       "56375         6    8\n",
       "56390         1    5\n",
       "56414         6    6\n",
       "56475         5    6\n",
       "56502         6    8\n",
       "56634         6    6\n",
       "56678         6    8\n",
       "56749         8    8\n",
       "56846         6    8\n",
       "...         ...  ...\n",
       "117445        8    8\n",
       "117500        6    6\n",
       "117561        8    8\n",
       "117599        3    3\n",
       "117652        6    6\n",
       "117672        6    8\n",
       "117699        3    3\n",
       "117712        6    6\n",
       "117762        6    8\n",
       "117970        5    6\n",
       "118054        6    8\n",
       "118159        6    8\n",
       "118169        7    7\n",
       "118230        5    6\n",
       "118281        6    8\n",
       "118329        6    6\n",
       "118362        4    3\n",
       "118523        3    3\n",
       "118572        7    7\n",
       "118585        5    5\n",
       "118640        3    3\n",
       "118643        5    6\n",
       "118724        6    8\n",
       "118785        6    8\n",
       "118863        5    6\n",
       "118964        6    6\n",
       "118979        6    8\n",
       "118996        3    3\n",
       "119041        6    6\n",
       "119081        8    8\n",
       "\n",
       "[945 rows x 2 columns]"
      ]
     },
     "execution_count": 70,
     "metadata": {},
     "output_type": "execute_result"
    }
   ],
   "source": [
    "X[y==1][['Pre_lev', 'Lev']]"
   ]
  },
  {
   "cell_type": "code",
   "execution_count": 79,
   "metadata": {
    "collapsed": false
   },
   "outputs": [
    {
     "data": {
      "text/plain": [
       "119177    0\n",
       "119178    0\n",
       "119179    0\n",
       "119181    0\n",
       "119182    0\n",
       "Name: Rookie?, dtype: int64"
      ]
     },
     "execution_count": 79,
     "metadata": {},
     "output_type": "execute_result"
    }
   ],
   "source": [
    "y.tail()"
   ]
  },
  {
   "cell_type": "code",
   "execution_count": 226,
   "metadata": {
    "collapsed": true
   },
   "outputs": [],
   "source": [
    "pitchers.to_csv('X.csv')"
   ]
  },
  {
   "cell_type": "code",
   "execution_count": 75,
   "metadata": {
    "collapsed": true
   },
   "outputs": [],
   "source": [
    "X_train, X_test, y_train, y_test = train_test_split(X, y)"
   ]
  },
  {
   "cell_type": "code",
   "execution_count": 776,
   "metadata": {
    "collapsed": true
   },
   "outputs": [],
   "source": [
    "model_RF = RandomForestClassifier(n_estimators=50, n_jobs=4, class_weight='balanced')"
   ]
  },
  {
   "cell_type": "code",
   "execution_count": 777,
   "metadata": {
    "collapsed": false
   },
   "outputs": [
    {
     "data": {
      "text/plain": [
       "RandomForestClassifier(bootstrap=True, class_weight='balanced',\n",
       "            criterion='gini', max_depth=None, max_features='auto',\n",
       "            max_leaf_nodes=None, min_samples_leaf=1, min_samples_split=2,\n",
       "            min_weight_fraction_leaf=0.0, n_estimators=50, n_jobs=4,\n",
       "            oob_score=False, random_state=None, verbose=0,\n",
       "            warm_start=False)"
      ]
     },
     "execution_count": 777,
     "metadata": {},
     "output_type": "execute_result"
    }
   ],
   "source": [
    "model_RF.fit(X_train, y_train)"
   ]
  },
  {
   "cell_type": "code",
   "execution_count": 778,
   "metadata": {
    "collapsed": false
   },
   "outputs": [
    {
     "data": {
      "text/plain": [
       "0.98831352004835782"
      ]
     },
     "execution_count": 778,
     "metadata": {},
     "output_type": "execute_result"
    }
   ],
   "source": [
    "model_RF.score(X_test, y_test)"
   ]
  },
  {
   "cell_type": "code",
   "execution_count": 779,
   "metadata": {
    "collapsed": true
   },
   "outputs": [],
   "source": [
    "y_pred = model_RF.predict(X_test)"
   ]
  },
  {
   "cell_type": "code",
   "execution_count": 780,
   "metadata": {
    "collapsed": false
   },
   "outputs": [
    {
     "name": "stdout",
     "output_type": "stream",
     "text": [
      "1.0\n",
      "0.0169491525424\n",
      "0.508474576271\n"
     ]
    }
   ],
   "source": [
    "print precision_score(y_test, y_pred)\n",
    "print recall_score(y_test, y_pred)\n",
    "print roc_auc_score(y_test, y_pred)"
   ]
  },
  {
   "cell_type": "markdown",
   "metadata": {},
   "source": [
    "## Undersampling"
   ]
  },
  {
   "cell_type": "code",
   "execution_count": 820,
   "metadata": {
    "collapsed": false
   },
   "outputs": [],
   "source": [
    "rus = RandomUnderSampler()\n",
    "X_resampled, y_resampled = rus.fit_sample(X_train, y_train)"
   ]
  },
  {
   "cell_type": "code",
   "execution_count": 821,
   "metadata": {
    "collapsed": true
   },
   "outputs": [],
   "source": [
    "model_RF = RandomForestClassifier(n_estimators=200, n_jobs=4)\n",
    "model_GB_RF = GradientBoostingClassifier"
   ]
  },
  {
   "cell_type": "code",
   "execution_count": 822,
   "metadata": {
    "collapsed": false
   },
   "outputs": [
    {
     "data": {
      "text/plain": [
       "RandomForestClassifier(bootstrap=True, class_weight=None, criterion='gini',\n",
       "            max_depth=None, max_features='auto', max_leaf_nodes=None,\n",
       "            min_samples_leaf=1, min_samples_split=2,\n",
       "            min_weight_fraction_leaf=0.0, n_estimators=200, n_jobs=4,\n",
       "            oob_score=False, random_state=None, verbose=0,\n",
       "            warm_start=False)"
      ]
     },
     "execution_count": 822,
     "metadata": {},
     "output_type": "execute_result"
    }
   ],
   "source": [
    "model_RF.fit(X_resampled, y_resampled)"
   ]
  },
  {
   "cell_type": "code",
   "execution_count": 823,
   "metadata": {
    "collapsed": false
   },
   "outputs": [
    {
     "data": {
      "text/plain": [
       "0.77654644368325609"
      ]
     },
     "execution_count": 823,
     "metadata": {},
     "output_type": "execute_result"
    }
   ],
   "source": [
    "model_RF.score(X_test, y_test)"
   ]
  },
  {
   "cell_type": "code",
   "execution_count": 824,
   "metadata": {
    "collapsed": true
   },
   "outputs": [],
   "source": [
    "y_pred = model_RF.predict(X_test)"
   ]
  },
  {
   "cell_type": "code",
   "execution_count": 825,
   "metadata": {
    "collapsed": false
   },
   "outputs": [
    {
     "name": "stdout",
     "output_type": "stream",
     "text": [
      "0.0414847161572\n",
      "0.805084745763\n",
      "0.790643922637\n"
     ]
    }
   ],
   "source": [
    "print precision_score(y_test, y_pred)\n",
    "print recall_score(y_test, y_pred)\n",
    "print roc_auc_score(y_test, y_pred)"
   ]
  },
  {
   "cell_type": "code",
   "execution_count": 826,
   "metadata": {
    "collapsed": false
   },
   "outputs": [
    {
     "data": {
      "text/plain": [
       "array([[15226,  4390],\n",
       "       [   46,   190]])"
      ]
     },
     "execution_count": 826,
     "metadata": {},
     "output_type": "execute_result"
    }
   ],
   "source": [
    "confusion_matrix(y_test, y_pred)"
   ]
  },
  {
   "cell_type": "code",
   "execution_count": 827,
   "metadata": {
    "collapsed": false
   },
   "outputs": [
    {
     "data": {
      "text/plain": [
       "<matplotlib.text.Text at 0x7ff68bc2bb10>"
      ]
     },
     "execution_count": 827,
     "metadata": {},
     "output_type": "execute_result"
    },
    {
     "data": {
      "image/png": "[encoded data removed]",
      "text/plain": [
       "<matplotlib.figure.Figure at 0x7ff6969fb210>"
      ]
     },
     "metadata": {},
     "output_type": "display_data"
    }
   ],
   "source": [
    "importances = model_RF.feature_importances_\n",
    "indices = np.argsort(importances)[::-1]\n",
    "plt.figure(figsize=(20,12))\n",
    "_ = plt.bar(range(X_train.shape[1]), importances[indices], align='center', label = X_train.columns[indices], color='green')\n",
    "_ = plt.xticks(range(X_train.shape[1]), X_train.columns[indices], rotation=80)\n",
    "plt.grid(True)\n",
    "plt.xlabel('Features', fontsize=14, fontweight='bold', style='italic')\n",
    "plt.ylabel('Relative Importance', fontsize=14, fontweight='bold', style='italic')\n",
    "plt.title('Figure 1: Random Undersampling', fontsize=16)"
   ]
  },
  {
   "cell_type": "code",
   "execution_count": 828,
   "metadata": {
    "collapsed": false
   },
   "outputs": [],
   "source": [
    "n_estimators = 500\n",
    "grd = GradientBoostingClassifier(n_estimators=n_estimators, learning_rate=0.1)\n",
    "grd.fit(X_resampled, y_resampled)\n",
    "grd.score(X_test, y_test)\n",
    "y_pred_gr = grd.predict(X_test)\n",
    "y_pred_proba_gr = grd.predict_proba(X_test)"
   ]
  },
  {
   "cell_type": "code",
   "execution_count": 829,
   "metadata": {
    "collapsed": false
   },
   "outputs": [
    {
     "name": "stdout",
     "output_type": "stream",
     "text": [
      "0.0390365448505\n",
      "0.796610169492\n",
      "0.780340158155\n"
     ]
    }
   ],
   "source": [
    "print precision_score(y_test, y_pred_gr)\n",
    "print recall_score(y_test, y_pred_gr)\n",
    "print roc_auc_score(y_test, y_pred_gr)\n"
   ]
  },
  {
   "cell_type": "code",
   "execution_count": 830,
   "metadata": {
    "collapsed": true
   },
   "outputs": [],
   "source": [
    "y_pred_proba = model_RF.predict_proba(X_test)[:, 1]\n",
    "y_pred_proba_gr = grd.predict_proba(X_test)[:, 1]"
   ]
  },
  {
   "cell_type": "code",
   "execution_count": 831,
   "metadata": {
    "collapsed": false
   },
   "outputs": [
    {
     "data": {
      "text/plain": [
       "(<matplotlib.figure.Figure at 0x7ff696bfb490>,\n",
       " <matplotlib.axes._subplots.AxesSubplot at 0x7ff6c78cd690>)"
      ]
     },
     "execution_count": 831,
     "metadata": {},
     "output_type": "execute_result"
    },
    {
     "data": {
      "image/png": "[encoded data removed]",
      "text/plain": [
       "<matplotlib.figure.Figure at 0x7ff696bfb490>"
      ]
     },
     "metadata": {},
     "output_type": "display_data"
    }
   ],
   "source": [
    "roc_data = roc_curve(y_test, y_pred_proba)\n",
    "plot_roc.plot_roc(*roc_data, label_every=5)"
   ]
  },
  {
   "cell_type": "code",
   "execution_count": 832,
   "metadata": {
    "collapsed": false
   },
   "outputs": [
    {
     "data": {
      "text/plain": [
       "<matplotlib.legend.Legend at 0x7ff6a0702f90>"
      ]
     },
     "execution_count": 832,
     "metadata": {},
     "output_type": "execute_result"
    },
    {
     "data": {
      "image/png": "[encoded data removed]",
      "text/plain": [
       "<matplotlib.figure.Figure at 0x7ff6a1952910>"
      ]
     },
     "metadata": {},
     "output_type": "display_data"
    }
   ],
   "source": [
    "fpr_rf, tpr_rf, _tf = roc_curve(y_test, y_pred_proba)\n",
    "fpr_gr, tpr_gr, _gr = roc_curve(y_test, y_pred_proba_gr)\n",
    "plt.figure(1)\n",
    "plt.plot([0, 1], [0, 1], 'k--')\n",
    "plt.plot(fpr_rf, tpr_rf, label='RF')\n",
    "plt.plot(fpr_gr, tpr_gr, label='GRB')\n",
    "plt.plot\n",
    "plt.xlabel('False positive rate')\n",
    "plt.ylabel('True positive rate')\n",
    "plt.title('ROC curve')\n",
    "plt.legend(loc='best')"
   ]
  },
  {
   "cell_type": "code",
   "execution_count": 833,
   "metadata": {
    "collapsed": false
   },
   "outputs": [
    {
     "data": {
      "text/plain": [
       "Index([u'Pre_lev', u'AgeDif_pitching', u'Age_pitching', u'BB9', u'BF',\n",
       "       u'Drafted', u'ERA_Minor', u'GS_Minor', u'G_pitching', u'H9', u'HR9',\n",
       "       u'Height', u'IP', u'L_Minor', u'Lev', u'RAvg', u'SO/W', u'SO9',\n",
       "       u'SV_Minor', u'Throws', u'W_Minor', u'WHIP', u'WP', u'Weight', u'W_MLB',\n",
       "       u'L_MLB', u'G', u'GS_MLB', u'SV_MLB', u'IPouts', u'BAOpp', u'ERA_MLB',\n",
       "       u'numPlayer', u'Age'],\n",
       "      dtype='object')"
      ]
     },
     "execution_count": 833,
     "metadata": {},
     "output_type": "execute_result"
    }
   ],
   "source": [
    "X.columns"
   ]
  },
  {
   "cell_type": "code",
   "execution_count": 834,
   "metadata": {
    "collapsed": false
   },
   "outputs": [
    {
     "data": {
      "image/png": "[encoded data removed]",
      "text/plain": [
       "<matplotlib.figure.Figure at 0x7ff6c0925b10>"
      ]
     },
     "metadata": {},
     "output_type": "display_data"
    }
   ],
   "source": [
    "##### features = range(len(X.columns))\n",
    "names = X.columns\n",
    "features = range(len(X.columns))\n",
    "fig, axs = plot_partial_dependence(grd, X_resampled, features,\n",
    "                                   feature_names=names,\n",
    "                                   n_jobs=3, grid_resolution=50, figsize=(15, 30),\n",
    "                                   )\n",
    "fig.suptitle('Partial dependence of chance of player on being promoted to the majors\\n'\n",
    "             'on various yearly stats')\n",
    "for axes in axs:\n",
    "    axes.grid(True)\n",
    "    axes.axhline(0, linestyle='--', color='#ff8080')\n",
    "    axes\n",
    "\n",
    "plt.tight_layout(pad=0.4)\n",
    "plt.subplots_adjust(top=0.95)  # tight_layout causes overlap with suptitle"
   ]
  },
  {
   "cell_type": "markdown",
   "metadata": {},
   "source": [
    "## SMOTE"
   ]
  },
  {
   "cell_type": "code",
   "execution_count": 835,
   "metadata": {
    "collapsed": false
   },
   "outputs": [],
   "source": [
    "sm = SMOTE(kind='regular')\n",
    "X_resampled, y_resampled = sm.fit_sample(X_train, y_train)"
   ]
  },
  {
   "cell_type": "code",
   "execution_count": 836,
   "metadata": {
    "collapsed": false
   },
   "outputs": [
    {
     "data": {
      "text/plain": [
       "RandomForestClassifier(bootstrap=True, class_weight=None, criterion='gini',\n",
       "            max_depth=None, max_features='auto', max_leaf_nodes=None,\n",
       "            min_samples_leaf=1, min_samples_split=2,\n",
       "            min_weight_fraction_leaf=0.0, n_estimators=100, n_jobs=4,\n",
       "            oob_score=False, random_state=None, verbose=0,\n",
       "            warm_start=False)"
      ]
     },
     "execution_count": 836,
     "metadata": {},
     "output_type": "execute_result"
    }
   ],
   "source": [
    "model_RF = RandomForestClassifier(n_estimators=100, n_jobs=4)\n",
    "model_RF.fit(X_resampled, y_resampled)"
   ]
  },
  {
   "cell_type": "code",
   "execution_count": 837,
   "metadata": {
    "collapsed": false
   },
   "outputs": [
    {
     "data": {
      "text/plain": [
       "0.98705420108805153"
      ]
     },
     "execution_count": 837,
     "metadata": {},
     "output_type": "execute_result"
    }
   ],
   "source": [
    "model_RF.score(X_test, y_test)"
   ]
  },
  {
   "cell_type": "code",
   "execution_count": 838,
   "metadata": {
    "collapsed": true
   },
   "outputs": [],
   "source": [
    "y_pred = model_RF.predict(X_test)"
   ]
  },
  {
   "cell_type": "code",
   "execution_count": 839,
   "metadata": {
    "collapsed": false
   },
   "outputs": [
    {
     "name": "stdout",
     "output_type": "stream",
     "text": [
      "0.216216216216\n",
      "0.0338983050847\n",
      "0.516209960046\n"
     ]
    }
   ],
   "source": [
    "print precision_score(y_test, y_pred)\n",
    "print recall_score(y_test, y_pred)\n",
    "print roc_auc_score(y_test, y_pred)"
   ]
  },
  {
   "cell_type": "code",
   "execution_count": 840,
   "metadata": {
    "collapsed": false
   },
   "outputs": [
    {
     "data": {
      "image/png": "[encoded data removed]",
      "text/plain": [
       "<matplotlib.figure.Figure at 0x7ff6a07c88d0>"
      ]
     },
     "metadata": {},
     "output_type": "display_data"
    }
   ],
   "source": [
    "importances = model_RF.feature_importances_\n",
    "indices = np.argsort(importances)[::-1]\n",
    "plt.figure(figsize=(20,12))\n",
    "_ = plt.bar(range(X_train.shape[1]), importances[indices], align='center', label = X_train.columns[indices], color='green')\n",
    "_ = plt.xticks(range(X_train.shape[1]), X_train.columns[indices], rotation=80)"
   ]
  },
  {
   "cell_type": "code",
   "execution_count": 248,
   "metadata": {
    "collapsed": false
   },
   "outputs": [
    {
     "data": {
      "text/plain": [
       "0    79219\n",
       "1      954\n",
       "Name: Rookie?, dtype: int64"
      ]
     },
     "execution_count": 248,
     "metadata": {},
     "output_type": "execute_result"
    }
   ],
   "source": [
    "y.value_counts()"
   ]
  },
  {
   "cell_type": "code",
   "execution_count": 249,
   "metadata": {
    "collapsed": false
   },
   "outputs": [
    {
     "data": {
      "text/plain": [
       "34799      2.88\n",
       "34855      1.35\n",
       "34918      3.86\n",
       "35431      2.17\n",
       "35898      3.50\n",
       "37513      2.63\n",
       "38497      2.00\n",
       "56384      2.34\n",
       "56468      2.88\n",
       "56523      1.35\n",
       "56574      1.86\n",
       "56608      2.70\n",
       "56889      2.25\n",
       "56897      2.88\n",
       "56906      2.50\n",
       "56941      2.78\n",
       "57079      4.05\n",
       "57197      2.77\n",
       "57217      1.95\n",
       "57325      3.86\n",
       "57355      4.50\n",
       "57371      0.94\n",
       "57386      0.00\n",
       "57410      3.00\n",
       "57472      2.63\n",
       "57499      3.12\n",
       "57632      2.17\n",
       "57676      3.00\n",
       "57747      2.67\n",
       "57845      2.80\n",
       "          ...  \n",
       "119467     2.46\n",
       "119522     1.49\n",
       "119583     2.09\n",
       "119621     3.71\n",
       "119674     1.63\n",
       "119694     1.97\n",
       "119721     1.85\n",
       "119735     1.94\n",
       "119785     0.85\n",
       "119998     2.91\n",
       "120084     2.33\n",
       "120189     3.14\n",
       "120199     2.08\n",
       "120261     2.64\n",
       "120313     3.00\n",
       "120361     1.76\n",
       "120397    10.80\n",
       "120565     2.67\n",
       "120615     4.50\n",
       "120628     2.50\n",
       "120687     3.00\n",
       "120690     2.06\n",
       "120773     1.95\n",
       "120834     1.67\n",
       "120913     1.60\n",
       "121016     3.30\n",
       "121031     1.15\n",
       "121049     3.41\n",
       "121095     0.27\n",
       "121135     4.04\n",
       "Name: SO/W, dtype: float64"
      ]
     },
     "execution_count": 249,
     "metadata": {},
     "output_type": "execute_result"
    }
   ],
   "source": [
    "X[y==1]['SO/W']"
   ]
  },
  {
   "cell_type": "code",
   "execution_count": 74,
   "metadata": {
    "collapsed": false
   },
   "outputs": [
    {
     "data": {
      "text/html": [
       "<div>\n",
       "<table border=\"1\" class=\"dataframe\">\n",
       "  <thead>\n",
       "    <tr style=\"text-align: right;\">\n",
       "      <th></th>\n",
       "      <th>AgeDif_pitching</th>\n",
       "      <th>Pre_lev</th>\n",
       "      <th>Age_pitching</th>\n",
       "      <th>BB9</th>\n",
       "      <th>BF</th>\n",
       "      <th>CS_perc</th>\n",
       "      <th>Drafted</th>\n",
       "      <th>ERA</th>\n",
       "      <th>Fld_perc</th>\n",
       "      <th>GF</th>\n",
       "      <th>...</th>\n",
       "      <th>SHO</th>\n",
       "      <th>SO/W</th>\n",
       "      <th>SO9</th>\n",
       "      <th>SV</th>\n",
       "      <th>Throws_left</th>\n",
       "      <th>Throws_right</th>\n",
       "      <th>W</th>\n",
       "      <th>WHIP</th>\n",
       "      <th>WP</th>\n",
       "      <th>Weight</th>\n",
       "    </tr>\n",
       "  </thead>\n",
       "  <tbody>\n",
       "    <tr>\n",
       "      <th>count</th>\n",
       "      <td>954.000000</td>\n",
       "      <td>954.000000</td>\n",
       "      <td>954.000000</td>\n",
       "      <td>954.000000</td>\n",
       "      <td>954.000000</td>\n",
       "      <td>954.000000</td>\n",
       "      <td>954.000000</td>\n",
       "      <td>954.000000</td>\n",
       "      <td>954.000000</td>\n",
       "      <td>954.000000</td>\n",
       "      <td>...</td>\n",
       "      <td>954.000000</td>\n",
       "      <td>954.000000</td>\n",
       "      <td>954.000000</td>\n",
       "      <td>954.000000</td>\n",
       "      <td>954.000000</td>\n",
       "      <td>954.000000</td>\n",
       "      <td>954.000000</td>\n",
       "      <td>954.000000</td>\n",
       "      <td>954.000000</td>\n",
       "      <td>954.000000</td>\n",
       "    </tr>\n",
       "    <tr>\n",
       "      <th>mean</th>\n",
       "      <td>-1.301992</td>\n",
       "      <td>6.795597</td>\n",
       "      <td>23.569182</td>\n",
       "      <td>3.462893</td>\n",
       "      <td>257.519916</td>\n",
       "      <td>25.130060</td>\n",
       "      <td>12.955975</td>\n",
       "      <td>4.398627</td>\n",
       "      <td>0.865935</td>\n",
       "      <td>5.166667</td>\n",
       "      <td>...</td>\n",
       "      <td>0.004441</td>\n",
       "      <td>2.887579</td>\n",
       "      <td>8.118868</td>\n",
       "      <td>1.702306</td>\n",
       "      <td>0.301887</td>\n",
       "      <td>0.698113</td>\n",
       "      <td>3.637317</td>\n",
       "      <td>1.398474</td>\n",
       "      <td>2.866876</td>\n",
       "      <td>210.172956</td>\n",
       "    </tr>\n",
       "    <tr>\n",
       "      <th>std</th>\n",
       "      <td>2.382981</td>\n",
       "      <td>1.990307</td>\n",
       "      <td>2.621233</td>\n",
       "      <td>2.259341</td>\n",
       "      <td>204.892504</td>\n",
       "      <td>27.098831</td>\n",
       "      <td>14.732884</td>\n",
       "      <td>7.381679</td>\n",
       "      <td>0.276566</td>\n",
       "      <td>9.478119</td>\n",
       "      <td>...</td>\n",
       "      <td>0.019099</td>\n",
       "      <td>2.221693</td>\n",
       "      <td>2.430922</td>\n",
       "      <td>4.689012</td>\n",
       "      <td>0.459317</td>\n",
       "      <td>0.459317</td>\n",
       "      <td>3.530784</td>\n",
       "      <td>0.844410</td>\n",
       "      <td>2.924028</td>\n",
       "      <td>22.038135</td>\n",
       "    </tr>\n",
       "    <tr>\n",
       "      <th>min</th>\n",
       "      <td>-8.800000</td>\n",
       "      <td>0.000000</td>\n",
       "      <td>16.000000</td>\n",
       "      <td>0.000000</td>\n",
       "      <td>6.000000</td>\n",
       "      <td>0.000000</td>\n",
       "      <td>0.000000</td>\n",
       "      <td>0.000000</td>\n",
       "      <td>0.000000</td>\n",
       "      <td>0.000000</td>\n",
       "      <td>...</td>\n",
       "      <td>0.000000</td>\n",
       "      <td>0.000000</td>\n",
       "      <td>0.000000</td>\n",
       "      <td>0.000000</td>\n",
       "      <td>0.000000</td>\n",
       "      <td>0.000000</td>\n",
       "      <td>0.000000</td>\n",
       "      <td>0.000000</td>\n",
       "      <td>0.000000</td>\n",
       "      <td>150.000000</td>\n",
       "    </tr>\n",
       "    <tr>\n",
       "      <th>25%</th>\n",
       "      <td>-2.800000</td>\n",
       "      <td>6.000000</td>\n",
       "      <td>22.000000</td>\n",
       "      <td>2.325000</td>\n",
       "      <td>85.000000</td>\n",
       "      <td>0.000000</td>\n",
       "      <td>1.000000</td>\n",
       "      <td>2.812500</td>\n",
       "      <td>0.891250</td>\n",
       "      <td>0.000000</td>\n",
       "      <td>...</td>\n",
       "      <td>0.000000</td>\n",
       "      <td>1.812500</td>\n",
       "      <td>6.500000</td>\n",
       "      <td>0.000000</td>\n",
       "      <td>0.000000</td>\n",
       "      <td>0.000000</td>\n",
       "      <td>1.000000</td>\n",
       "      <td>1.162750</td>\n",
       "      <td>1.000000</td>\n",
       "      <td>195.000000</td>\n",
       "    </tr>\n",
       "    <tr>\n",
       "      <th>50%</th>\n",
       "      <td>-1.300000</td>\n",
       "      <td>7.000000</td>\n",
       "      <td>23.000000</td>\n",
       "      <td>3.200000</td>\n",
       "      <td>198.000000</td>\n",
       "      <td>21.000000</td>\n",
       "      <td>7.000000</td>\n",
       "      <td>3.725000</td>\n",
       "      <td>1.000000</td>\n",
       "      <td>0.000000</td>\n",
       "      <td>...</td>\n",
       "      <td>0.000000</td>\n",
       "      <td>2.380000</td>\n",
       "      <td>7.900000</td>\n",
       "      <td>0.000000</td>\n",
       "      <td>0.000000</td>\n",
       "      <td>1.000000</td>\n",
       "      <td>3.000000</td>\n",
       "      <td>1.328500</td>\n",
       "      <td>2.000000</td>\n",
       "      <td>210.000000</td>\n",
       "    </tr>\n",
       "    <tr>\n",
       "      <th>75%</th>\n",
       "      <td>0.100000</td>\n",
       "      <td>7.000000</td>\n",
       "      <td>25.000000</td>\n",
       "      <td>4.100000</td>\n",
       "      <td>377.750000</td>\n",
       "      <td>40.000000</td>\n",
       "      <td>21.000000</td>\n",
       "      <td>4.827500</td>\n",
       "      <td>1.000000</td>\n",
       "      <td>6.000000</td>\n",
       "      <td>...</td>\n",
       "      <td>0.000000</td>\n",
       "      <td>3.430000</td>\n",
       "      <td>9.500000</td>\n",
       "      <td>1.000000</td>\n",
       "      <td>1.000000</td>\n",
       "      <td>1.000000</td>\n",
       "      <td>6.000000</td>\n",
       "      <td>1.527250</td>\n",
       "      <td>4.000000</td>\n",
       "      <td>225.000000</td>\n",
       "    </tr>\n",
       "    <tr>\n",
       "      <th>max</th>\n",
       "      <td>11.900000</td>\n",
       "      <td>10.000000</td>\n",
       "      <td>39.000000</td>\n",
       "      <td>42.400000</td>\n",
       "      <td>860.000000</td>\n",
       "      <td>100.000000</td>\n",
       "      <td>89.000000</td>\n",
       "      <td>216.000000</td>\n",
       "      <td>1.000000</td>\n",
       "      <td>59.000000</td>\n",
       "      <td>...</td>\n",
       "      <td>0.166667</td>\n",
       "      <td>31.000000</td>\n",
       "      <td>20.200000</td>\n",
       "      <td>41.000000</td>\n",
       "      <td>1.000000</td>\n",
       "      <td>1.000000</td>\n",
       "      <td>24.000000</td>\n",
       "      <td>24.000000</td>\n",
       "      <td>24.000000</td>\n",
       "      <td>300.000000</td>\n",
       "    </tr>\n",
       "  </tbody>\n",
       "</table>\n",
       "<p>8 rows × 28 columns</p>\n",
       "</div>"
      ],
      "text/plain": [
       "       AgeDif_pitching     Pre_lev  Age_pitching         BB9          BF  \\\n",
       "count       954.000000  954.000000    954.000000  954.000000  954.000000   \n",
       "mean         -1.301992    6.795597     23.569182    3.462893  257.519916   \n",
       "std           2.382981    1.990307      2.621233    2.259341  204.892504   \n",
       "min          -8.800000    0.000000     16.000000    0.000000    6.000000   \n",
       "25%          -2.800000    6.000000     22.000000    2.325000   85.000000   \n",
       "50%          -1.300000    7.000000     23.000000    3.200000  198.000000   \n",
       "75%           0.100000    7.000000     25.000000    4.100000  377.750000   \n",
       "max          11.900000   10.000000     39.000000   42.400000  860.000000   \n",
       "\n",
       "          CS_perc     Drafted         ERA    Fld_perc          GF     ...      \\\n",
       "count  954.000000  954.000000  954.000000  954.000000  954.000000     ...       \n",
       "mean    25.130060   12.955975    4.398627    0.865935    5.166667     ...       \n",
       "std     27.098831   14.732884    7.381679    0.276566    9.478119     ...       \n",
       "min      0.000000    0.000000    0.000000    0.000000    0.000000     ...       \n",
       "25%      0.000000    1.000000    2.812500    0.891250    0.000000     ...       \n",
       "50%     21.000000    7.000000    3.725000    1.000000    0.000000     ...       \n",
       "75%     40.000000   21.000000    4.827500    1.000000    6.000000     ...       \n",
       "max    100.000000   89.000000  216.000000    1.000000   59.000000     ...       \n",
       "\n",
       "              SHO        SO/W         SO9          SV  Throws_left  \\\n",
       "count  954.000000  954.000000  954.000000  954.000000   954.000000   \n",
       "mean     0.004441    2.887579    8.118868    1.702306     0.301887   \n",
       "std      0.019099    2.221693    2.430922    4.689012     0.459317   \n",
       "min      0.000000    0.000000    0.000000    0.000000     0.000000   \n",
       "25%      0.000000    1.812500    6.500000    0.000000     0.000000   \n",
       "50%      0.000000    2.380000    7.900000    0.000000     0.000000   \n",
       "75%      0.000000    3.430000    9.500000    1.000000     1.000000   \n",
       "max      0.166667   31.000000   20.200000   41.000000     1.000000   \n",
       "\n",
       "       Throws_right           W        WHIP          WP      Weight  \n",
       "count    954.000000  954.000000  954.000000  954.000000  954.000000  \n",
       "mean       0.698113    3.637317    1.398474    2.866876  210.172956  \n",
       "std        0.459317    3.530784    0.844410    2.924028   22.038135  \n",
       "min        0.000000    0.000000    0.000000    0.000000  150.000000  \n",
       "25%        0.000000    1.000000    1.162750    1.000000  195.000000  \n",
       "50%        1.000000    3.000000    1.328500    2.000000  210.000000  \n",
       "75%        1.000000    6.000000    1.527250    4.000000  225.000000  \n",
       "max        1.000000   24.000000   24.000000   24.000000  300.000000  \n",
       "\n",
       "[8 rows x 28 columns]"
      ]
     },
     "execution_count": 74,
     "metadata": {},
     "output_type": "execute_result"
    }
   ],
   "source": [
    "X[y==1].describe()"
   ]
  },
  {
   "cell_type": "code",
   "execution_count": 75,
   "metadata": {
    "collapsed": false
   },
   "outputs": [
    {
     "data": {
      "text/html": [
       "<div>\n",
       "<table border=\"1\" class=\"dataframe\">\n",
       "  <thead>\n",
       "    <tr style=\"text-align: right;\">\n",
       "      <th></th>\n",
       "      <th>AgeDif_pitching</th>\n",
       "      <th>Pre_lev</th>\n",
       "      <th>Age_pitching</th>\n",
       "      <th>BB9</th>\n",
       "      <th>BF</th>\n",
       "      <th>CS_perc</th>\n",
       "      <th>Drafted</th>\n",
       "      <th>ERA</th>\n",
       "      <th>Fld_perc</th>\n",
       "      <th>GF</th>\n",
       "      <th>...</th>\n",
       "      <th>SHO</th>\n",
       "      <th>SO/W</th>\n",
       "      <th>SO9</th>\n",
       "      <th>SV</th>\n",
       "      <th>Throws_left</th>\n",
       "      <th>Throws_right</th>\n",
       "      <th>W</th>\n",
       "      <th>WHIP</th>\n",
       "      <th>WP</th>\n",
       "      <th>Weight</th>\n",
       "    </tr>\n",
       "  </thead>\n",
       "  <tbody>\n",
       "    <tr>\n",
       "      <th>count</th>\n",
       "      <td>84633.000000</td>\n",
       "      <td>84633.000000</td>\n",
       "      <td>84633.000000</td>\n",
       "      <td>84633.000000</td>\n",
       "      <td>84633.000000</td>\n",
       "      <td>84633.000000</td>\n",
       "      <td>84633.000000</td>\n",
       "      <td>84633.000000</td>\n",
       "      <td>84633.000000</td>\n",
       "      <td>84633.000000</td>\n",
       "      <td>...</td>\n",
       "      <td>84633.000000</td>\n",
       "      <td>84633.000000</td>\n",
       "      <td>84633.000000</td>\n",
       "      <td>84633.000000</td>\n",
       "      <td>84633.000000</td>\n",
       "      <td>84633.000000</td>\n",
       "      <td>84633.000000</td>\n",
       "      <td>84633.000000</td>\n",
       "      <td>84633.000000</td>\n",
       "      <td>84633.000000</td>\n",
       "    </tr>\n",
       "    <tr>\n",
       "      <th>mean</th>\n",
       "      <td>-0.056453</td>\n",
       "      <td>4.631810</td>\n",
       "      <td>23.366358</td>\n",
       "      <td>4.365617</td>\n",
       "      <td>193.008921</td>\n",
       "      <td>22.237188</td>\n",
       "      <td>12.419234</td>\n",
       "      <td>5.620903</td>\n",
       "      <td>0.822131</td>\n",
       "      <td>4.585800</td>\n",
       "      <td>...</td>\n",
       "      <td>0.004251</td>\n",
       "      <td>2.268033</td>\n",
       "      <td>7.443643</td>\n",
       "      <td>1.210521</td>\n",
       "      <td>0.264140</td>\n",
       "      <td>0.735860</td>\n",
       "      <td>2.612775</td>\n",
       "      <td>1.549687</td>\n",
       "      <td>3.338154</td>\n",
       "      <td>198.557395</td>\n",
       "    </tr>\n",
       "    <tr>\n",
       "      <th>std</th>\n",
       "      <td>2.657737</td>\n",
       "      <td>3.202466</td>\n",
       "      <td>4.040785</td>\n",
       "      <td>4.457604</td>\n",
       "      <td>171.904248</td>\n",
       "      <td>26.520237</td>\n",
       "      <td>15.262134</td>\n",
       "      <td>25.989944</td>\n",
       "      <td>0.309180</td>\n",
       "      <td>7.544633</td>\n",
       "      <td>...</td>\n",
       "      <td>0.025564</td>\n",
       "      <td>1.879520</td>\n",
       "      <td>2.810801</td>\n",
       "      <td>3.531498</td>\n",
       "      <td>0.440877</td>\n",
       "      <td>0.440877</td>\n",
       "      <td>2.921731</td>\n",
       "      <td>0.827436</td>\n",
       "      <td>3.419526</td>\n",
       "      <td>21.759572</td>\n",
       "    </tr>\n",
       "    <tr>\n",
       "      <th>min</th>\n",
       "      <td>-12.900000</td>\n",
       "      <td>0.000000</td>\n",
       "      <td>15.000000</td>\n",
       "      <td>0.000000</td>\n",
       "      <td>0.000000</td>\n",
       "      <td>0.000000</td>\n",
       "      <td>0.000000</td>\n",
       "      <td>0.000000</td>\n",
       "      <td>0.000000</td>\n",
       "      <td>0.000000</td>\n",
       "      <td>...</td>\n",
       "      <td>0.000000</td>\n",
       "      <td>0.000000</td>\n",
       "      <td>0.000000</td>\n",
       "      <td>0.000000</td>\n",
       "      <td>0.000000</td>\n",
       "      <td>0.000000</td>\n",
       "      <td>0.000000</td>\n",
       "      <td>0.000000</td>\n",
       "      <td>0.000000</td>\n",
       "      <td>125.000000</td>\n",
       "    </tr>\n",
       "    <tr>\n",
       "      <th>25%</th>\n",
       "      <td>-1.600000</td>\n",
       "      <td>1.000000</td>\n",
       "      <td>21.000000</td>\n",
       "      <td>2.500000</td>\n",
       "      <td>61.000000</td>\n",
       "      <td>0.000000</td>\n",
       "      <td>0.000000</td>\n",
       "      <td>2.940000</td>\n",
       "      <td>0.833000</td>\n",
       "      <td>0.000000</td>\n",
       "      <td>...</td>\n",
       "      <td>0.000000</td>\n",
       "      <td>1.250000</td>\n",
       "      <td>5.800000</td>\n",
       "      <td>0.000000</td>\n",
       "      <td>0.000000</td>\n",
       "      <td>0.000000</td>\n",
       "      <td>0.000000</td>\n",
       "      <td>1.219000</td>\n",
       "      <td>1.000000</td>\n",
       "      <td>185.000000</td>\n",
       "    </tr>\n",
       "    <tr>\n",
       "      <th>50%</th>\n",
       "      <td>-0.200000</td>\n",
       "      <td>5.000000</td>\n",
       "      <td>23.000000</td>\n",
       "      <td>3.600000</td>\n",
       "      <td>146.000000</td>\n",
       "      <td>15.000000</td>\n",
       "      <td>5.000000</td>\n",
       "      <td>4.150000</td>\n",
       "      <td>0.958000</td>\n",
       "      <td>1.000000</td>\n",
       "      <td>...</td>\n",
       "      <td>0.000000</td>\n",
       "      <td>1.920000</td>\n",
       "      <td>7.200000</td>\n",
       "      <td>0.000000</td>\n",
       "      <td>0.000000</td>\n",
       "      <td>1.000000</td>\n",
       "      <td>2.000000</td>\n",
       "      <td>1.431000</td>\n",
       "      <td>2.000000</td>\n",
       "      <td>195.000000</td>\n",
       "    </tr>\n",
       "    <tr>\n",
       "      <th>75%</th>\n",
       "      <td>1.100000</td>\n",
       "      <td>7.000000</td>\n",
       "      <td>25.000000</td>\n",
       "      <td>5.100000</td>\n",
       "      <td>271.000000</td>\n",
       "      <td>38.000000</td>\n",
       "      <td>22.000000</td>\n",
       "      <td>5.670000</td>\n",
       "      <td>1.000000</td>\n",
       "      <td>6.000000</td>\n",
       "      <td>...</td>\n",
       "      <td>0.000000</td>\n",
       "      <td>2.800000</td>\n",
       "      <td>9.000000</td>\n",
       "      <td>1.000000</td>\n",
       "      <td>1.000000</td>\n",
       "      <td>1.000000</td>\n",
       "      <td>4.000000</td>\n",
       "      <td>1.697000</td>\n",
       "      <td>5.000000</td>\n",
       "      <td>212.000000</td>\n",
       "    </tr>\n",
       "    <tr>\n",
       "      <th>max</th>\n",
       "      <td>39.000000</td>\n",
       "      <td>10.000000</td>\n",
       "      <td>65.000000</td>\n",
       "      <td>270.000000</td>\n",
       "      <td>1064.000000</td>\n",
       "      <td>100.000000</td>\n",
       "      <td>94.000000</td>\n",
       "      <td>999.990000</td>\n",
       "      <td>1.000000</td>\n",
       "      <td>64.000000</td>\n",
       "      <td>...</td>\n",
       "      <td>1.000000</td>\n",
       "      <td>78.000000</td>\n",
       "      <td>27.000000</td>\n",
       "      <td>49.000000</td>\n",
       "      <td>1.000000</td>\n",
       "      <td>1.000000</td>\n",
       "      <td>22.000000</td>\n",
       "      <td>30.000000</td>\n",
       "      <td>45.000000</td>\n",
       "      <td>300.000000</td>\n",
       "    </tr>\n",
       "  </tbody>\n",
       "</table>\n",
       "<p>8 rows × 28 columns</p>\n",
       "</div>"
      ],
      "text/plain": [
       "       AgeDif_pitching       Pre_lev  Age_pitching           BB9  \\\n",
       "count     84633.000000  84633.000000  84633.000000  84633.000000   \n",
       "mean         -0.056453      4.631810     23.366358      4.365617   \n",
       "std           2.657737      3.202466      4.040785      4.457604   \n",
       "min         -12.900000      0.000000     15.000000      0.000000   \n",
       "25%          -1.600000      1.000000     21.000000      2.500000   \n",
       "50%          -0.200000      5.000000     23.000000      3.600000   \n",
       "75%           1.100000      7.000000     25.000000      5.100000   \n",
       "max          39.000000     10.000000     65.000000    270.000000   \n",
       "\n",
       "                 BF       CS_perc       Drafted           ERA      Fld_perc  \\\n",
       "count  84633.000000  84633.000000  84633.000000  84633.000000  84633.000000   \n",
       "mean     193.008921     22.237188     12.419234      5.620903      0.822131   \n",
       "std      171.904248     26.520237     15.262134     25.989944      0.309180   \n",
       "min        0.000000      0.000000      0.000000      0.000000      0.000000   \n",
       "25%       61.000000      0.000000      0.000000      2.940000      0.833000   \n",
       "50%      146.000000     15.000000      5.000000      4.150000      0.958000   \n",
       "75%      271.000000     38.000000     22.000000      5.670000      1.000000   \n",
       "max     1064.000000    100.000000     94.000000    999.990000      1.000000   \n",
       "\n",
       "                 GF      ...                SHO          SO/W           SO9  \\\n",
       "count  84633.000000      ...       84633.000000  84633.000000  84633.000000   \n",
       "mean       4.585800      ...           0.004251      2.268033      7.443643   \n",
       "std        7.544633      ...           0.025564      1.879520      2.810801   \n",
       "min        0.000000      ...           0.000000      0.000000      0.000000   \n",
       "25%        0.000000      ...           0.000000      1.250000      5.800000   \n",
       "50%        1.000000      ...           0.000000      1.920000      7.200000   \n",
       "75%        6.000000      ...           0.000000      2.800000      9.000000   \n",
       "max       64.000000      ...           1.000000     78.000000     27.000000   \n",
       "\n",
       "                 SV   Throws_left  Throws_right             W          WHIP  \\\n",
       "count  84633.000000  84633.000000  84633.000000  84633.000000  84633.000000   \n",
       "mean       1.210521      0.264140      0.735860      2.612775      1.549687   \n",
       "std        3.531498      0.440877      0.440877      2.921731      0.827436   \n",
       "min        0.000000      0.000000      0.000000      0.000000      0.000000   \n",
       "25%        0.000000      0.000000      0.000000      0.000000      1.219000   \n",
       "50%        0.000000      0.000000      1.000000      2.000000      1.431000   \n",
       "75%        1.000000      1.000000      1.000000      4.000000      1.697000   \n",
       "max       49.000000      1.000000      1.000000     22.000000     30.000000   \n",
       "\n",
       "                 WP        Weight  \n",
       "count  84633.000000  84633.000000  \n",
       "mean       3.338154    198.557395  \n",
       "std        3.419526     21.759572  \n",
       "min        0.000000    125.000000  \n",
       "25%        1.000000    185.000000  \n",
       "50%        2.000000    195.000000  \n",
       "75%        5.000000    212.000000  \n",
       "max       45.000000    300.000000  \n",
       "\n",
       "[8 rows x 28 columns]"
      ]
     },
     "execution_count": 75,
     "metadata": {},
     "output_type": "execute_result"
    }
   ],
   "source": [
    "X[y==0].describe()"
   ]
  },
  {
   "cell_type": "code",
   "execution_count": 842,
   "metadata": {
    "collapsed": true
   },
   "outputs": [],
   "source": [
    "logit = LogisticRegression()"
   ]
  },
  {
   "cell_type": "code",
   "execution_count": null,
   "metadata": {
    "collapsed": false
   },
   "outputs": [],
   "source": [
    "logit.fit(X_train, y_train)"
   ]
  },
  {
   "cell_type": "code",
   "execution_count": 166,
   "metadata": {
    "collapsed": true
   },
   "outputs": [],
   "source": [
    "pitchers.to_csv('pitchers_raw.csv')"
   ]
  },
  {
   "cell_type": "code",
   "execution_count": 64,
   "metadata": {
    "collapsed": false
   },
   "outputs": [
    {
     "data": {
      "text/plain": [
       "34185     Francisco Liriano\n",
       "34186     Francisco Liriano\n",
       "34241             Pat Light\n",
       "34242             Pat Light\n",
       "34303        Matt Lindstrom\n",
       "34304        Matt Lindstrom\n",
       "34809         Sang-Hoon Lee\n",
       "35269        Chang-Yong Lim\n",
       "36848         Josh Lindblom\n",
       "37807        Jacob Lindgren\n",
       "37808        Jacob Lindgren\n",
       "37809        Jacob Lindgren\n",
       "37810        Jacob Lindgren\n",
       "55408        Clint Nageotte\n",
       "55489     Francisco Liriano\n",
       "55490     Francisco Liriano\n",
       "55543             Pat Light\n",
       "55544             Pat Light\n",
       "55593             J.J. Putz\n",
       "55594             J.J. Putz\n",
       "55626         Shelby Miller\n",
       "55627         Shelby Miller\n",
       "55902         Kenny Roberts\n",
       "55910        Brian Mallette\n",
       "55911        Brian Mallette\n",
       "55920            Jose Ortiz\n",
       "55955         Luke Prokopec\n",
       "56088       Justin Nicolino\n",
       "56205          Tanner Roark\n",
       "56223           Troy Mattes\n",
       "                ...        \n",
       "118158         Brad Ziegler\n",
       "118159         Brad Ziegler\n",
       "118169         Keiichi Yabu\n",
       "118229    Jordan Zimmermann\n",
       "118230    Jordan Zimmermann\n",
       "118279           Barry Zito\n",
       "118280           Barry Zito\n",
       "118281           Barry Zito\n",
       "118329          Danny Young\n",
       "118361          Clay Zavada\n",
       "118362          Clay Zavada\n",
       "118523         Mauro Zarate\n",
       "118572      Yasuhiko Yabuta\n",
       "118585         Michael Ynoa\n",
       "118640          Chris Young\n",
       "118642          Chris Young\n",
       "118643          Chris Young\n",
       "118723          Jason Young\n",
       "118724          Jason Young\n",
       "118783          Tyler Yates\n",
       "118784          Tyler Yates\n",
       "118785          Tyler Yates\n",
       "118862           Chad Zerbe\n",
       "118863           Chad Zerbe\n",
       "118964            Josh Zeid\n",
       "118978      Carlos Zambrano\n",
       "118979      Carlos Zambrano\n",
       "118996        Mike Zagurski\n",
       "119041         Shane Youman\n",
       "119081          Kirby Yates\n",
       "Name: Name, dtype: object"
      ]
     },
     "execution_count": 64,
     "metadata": {},
     "output_type": "execute_result"
    }
   ],
   "source": [
    "pitchers[pitchers['Rookie?'] == 1]['Name']"
   ]
  }
 ],
 "metadata": {
  "kernelspec": {
   "display_name": "Python 2",
   "language": "python",
   "name": "python2"
  },
  "language_info": {
   "codemirror_mode": {
    "name": "ipython",
    "version": 2
   },
   "file_extension": ".py",
   "mimetype": "text/x-python",
   "name": "python",
   "nbconvert_exporter": "python",
   "pygments_lexer": "ipython2",
   "version": "2.7.11"
  }
 },
 "nbformat": 4,
 "nbformat_minor": 0
}
